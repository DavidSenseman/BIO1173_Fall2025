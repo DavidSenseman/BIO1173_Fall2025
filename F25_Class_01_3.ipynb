{
  "cells": [
    {
      "cell_type": "markdown",
      "metadata": {
        "id": "view-in-github",
        "colab_type": "text"
      },
      "source": [
        "<a href=\"https://colab.research.google.com/github/DavidSenseman/BIO1173_Fall2025/blob/main/F25_Class_01_3.ipynb\" target=\"_parent\"><img src=\"https://colab.research.google.com/assets/colab-badge.svg\" alt=\"Open In Colab\"/></a>"
      ]
    },
    {
      "cell_type": "markdown",
      "metadata": {
        "id": "h64gPAsSYYX4"
      },
      "source": [
        "---------------------------\n",
        "**COPYRIGHT NOTICE:** This Jupyterlab Notebook is a Derivative work of [Jeff Heaton](https://github.com/jeffheaton) licensed under the Apache License, Version 2.0 (the \"License\"); You may not use this file except in compliance with the License. You may obtain a copy of the License at\n",
        "\n",
        "> [http://www.apache.org/licenses/LICENSE-2.0](http://www.apache.org/licenses/LICENSE-2.0)\n",
        "\n",
        "Unless required by applicable law or agreed to in writing, software distributed under the License is distributed on an \"AS IS\" BASIS, WITHOUT WARRANTIES OR CONDITIONS OF ANY KIND, either express or implied. See the License for the specific language governing permissions and limitations under the License.\n",
        "\n",
        "------------------------"
      ]
    },
    {
      "cell_type": "markdown",
      "metadata": {
        "id": "5Ng3ZA8-YYX5"
      },
      "source": [
        "# **BIO 1173: Intro Computational Biology**\n",
        "\n",
        "## **Class_01_3: Lists, Dictionaries, Sets and JSON**"
      ]
    },
    {
      "cell_type": "markdown",
      "metadata": {
        "jp-MarkdownHeadingCollapsed": true,
        "id": "zCJNy1q4YYX5"
      },
      "source": [
        "##### **Module I: Getting Started with Python**\n",
        "\n",
        "* Instructor: [David Senseman](mailto:David.Senseman@utsa.edu), [Department of Biology, Health and the Environment](https://sciences.utsa.edu/bhe/), [UTSA](https://www.utsa.edu/)\n",
        "\n",
        "### Module 1 Material\n",
        "\n",
        "* Part 1.1: Introduction to Google CoLab\n",
        "* Part 1.2: Python Basics 1 -- Strings, Variables, Functions\n",
        "* **Part 1.3: Python Basics 3 -- Lists, Dictionaries, Sets and JSON**\n",
        "* Part 1.4: Python Basics 4 -- Conditionals and Loops\n",
        "* Part 1.5: Python Basics 5 -- Packages, NumPy arrays and Matplotlib\n",
        "* Part 1.6: Python Basics 6 -- Pandas and File Handling"
      ]
    },
    {
      "cell_type": "markdown",
      "metadata": {
        "id": "yKQylnEiLDUM"
      },
      "source": [
        "## Google CoLab Instructions\n",
        "\n",
        "You MUST run the following code cell to get credit for this class lesson. By running this code cell, you will map your GDrive to ```/content/drive``` and print out your Google GMAIL address. Your Instructor will use your GMAIL address to verify the author of this class lesson."
      ]
    },
    {
      "cell_type": "code",
      "execution_count": null,
      "metadata": {
        "id": "seXFCYH4LDUM"
      },
      "outputs": [],
      "source": [
        "# You must run this cell first\n",
        "try:\n",
        "    from google.colab import drive\n",
        "    drive.mount('/content/drive', force_remount=True)\n",
        "    from google.colab import auth\n",
        "    auth.authenticate_user()\n",
        "    COLAB = True\n",
        "    print(\"Note: Using Google CoLab\")\n",
        "    import requests\n",
        "    gcloud_token = !gcloud auth print-access-token\n",
        "    gcloud_tokeninfo = requests.get('https://www.googleapis.com/oauth2/v3/tokeninfo?access_token=' + gcloud_token[0]).json()\n",
        "    print(gcloud_tokeninfo['email'])\n",
        "except:\n",
        "    print(\"**WARNING**: Your GMAIL address was not printed in the output below.\")\n",
        "    print(\"**WARNING**: You will NOT receive credit for this lesson.\")\n",
        "    COLAB = False"
      ]
    },
    {
      "cell_type": "markdown",
      "source": [
        "If the code is correct, you should see something similar to the following output, but your GMAIL address will be printed out.\n",
        "~~~text\n",
        "Mounted at /content/drive\n",
        "Note: Using Google CoLab\n",
        "david.senseman@gmail.com\n",
        "~~~\n",
        "\n",
        "If your GMAIL address is not visible, your submission will not be graded.\n"
      ],
      "metadata": {
        "id": "xZEMEIyDMsXb"
      }
    },
    {
      "cell_type": "markdown",
      "metadata": {
        "id": "SXRI33ObYYX6"
      },
      "source": [
        "# **Python Basics 3 -- Lists, Dictionaries, Sets and JSON**\n",
        "\n",
        "Python includes **Lists**, **Sets**, **Dictionaries**, and other data structures as built-in types. The syntax appearance of both of these is similar to **JSON** which is discussed later in this module.\n",
        "\n",
        "This course will focus primarily on Lists, Sets, and Dictionaries. It is important to understand the differences between these three fundamental collection types.\n",
        "\n",
        "* **List** - A list is a mutable ordered collection that allows duplicate elements.\n",
        "* **Tuple** - A tuple is an immutable ordered collection that allows duplicate elements.\n",
        "* **Dictionary** - A dictionary is a mutable unordered collection that Python indexes with name and value pairs.\n",
        "* **Set** - A set is a mutable unordered collection with no duplicate elements.\n",
        "\n",
        "Most Python collections are mutable, meaning the program can add and remove elements after definition. One notable exception is a Python **tuple** which is an immutable collection which means that items cannot be added or removed after its definition.\n",
        "\n",
        "It is also essential to understand that an ordered collection means that items maintain their order as the program adds them to a collection. However, this order might not be any specific ordering, such as alphabetic or numeric.\n",
        "\n",
        "Lists and tuples are very similar in Python and are often confused. The significant difference is that a list is mutable, but a tuple isn’t. So, we include a list when we want to contain similar items and a tuple when we know what information goes into it ahead of time."
      ]
    },
    {
      "cell_type": "markdown",
      "metadata": {
        "id": "I3oEQHtOYYX6"
      },
      "source": [
        "## **Lists and Tuples**\n",
        "\n",
        "For a Python programmer, lists and tuples look very similar. Both lists and tuples hold an ordered collection of items. It is possible to get by as a programmer using only lists and ignoring tuples.\n",
        "\n",
        "The primary difference is that a list is enclosed by square braces `[ ]`, while a tuple is enclosed by parenthesis `( )`.\n",
        "\n",
        "The following code defines both list and tuple. The code below also illustrates that Python indexes lists starting at element `0`. Accessing element one modifies the second element in the collection. One advantage of `tuples` over `lists` is that `tuples` are generally slightly faster to iterate over than `lists`."
      ]
    },
    {
      "cell_type": "markdown",
      "metadata": {
        "tags": [],
        "id": "P5IWgnpqYYX6"
      },
      "source": [
        "### Example 1:  Create a list called `myList`\n",
        "\n",
        "The code in the cell below uses square brackets `[ ]` to create a list called `myList`. (Note: `list` is a Python **reserved word** so don't use it a variable name without adding something to it)."
      ]
    },
    {
      "cell_type": "code",
      "execution_count": null,
      "metadata": {
        "id": "DtpdY0-EYYX7"
      },
      "outputs": [],
      "source": [
        "# Example 1: Create a list\n",
        "\n",
        "# Use square brackets to create a list\n",
        "myList = ['a', 'b', 'c', 'd']\n",
        "\n",
        "# Print output\n",
        "print(myList)"
      ]
    },
    {
      "cell_type": "markdown",
      "source": [
        "If the code is correct, you should see the following output:\n",
        "~~~text\n",
        "['a', 'b', 'c', 'd']\n",
        "~~~\n",
        "\n",
        "The square brackets tells you that this is Python `list`."
      ],
      "metadata": {
        "id": "QnltMAvYo0tF"
      }
    },
    {
      "cell_type": "markdown",
      "metadata": {
        "id": "lxLhg92zYYX7"
      },
      "source": [
        "### **Exercise 1: Create a tuple called `myTuple`**\n",
        "\n",
        "In the cell below use parentheses `( )` to create a tuple called `myTuple` with the letters `A`, `B`, `C` and `D`. (Note: `tuple` is a Python reserved word so don't use it a variable name without adding something to it)."
      ]
    },
    {
      "cell_type": "code",
      "execution_count": null,
      "metadata": {
        "id": "O6ITpVbpYYX7"
      },
      "outputs": [],
      "source": [
        "# Insert your code for Exercise 1 here\n",
        "\n",
        "\n"
      ]
    },
    {
      "cell_type": "markdown",
      "source": [
        "If the code is correct, you should see the following output but perhaps in a different order:\n",
        "~~~text\n",
        "('A', 'B', 'C', 'D')\n",
        "~~~\n",
        "\n",
        "The parantheses tells you that this is Python `tuple`."
      ],
      "metadata": {
        "id": "l1PDnCBUp4v1"
      }
    },
    {
      "cell_type": "markdown",
      "metadata": {
        "tags": [],
        "id": "hgllRHSEYYX7"
      },
      "source": [
        "### Example 2: Change the contents of `myList`\n",
        "\n",
        "As mentioned above, a `list` is mutable, which means its contents can be changed after it has been created.\n",
        "\n",
        "The code in the cell below demonstrates that the program can change a list. This example uses square bracket`[ ]` indexing to change the second element in `myLis`. (Remember: Python starts counting sequences at 0.)\n"
      ]
    },
    {
      "cell_type": "code",
      "execution_count": null,
      "metadata": {
        "id": "IkthoizhYYX7"
      },
      "outputs": [],
      "source": [
        "# Example 2: Change contents of myList\n",
        "\n",
        "# Second the second element\n",
        "myList[1] = 'Z'\n",
        "\n",
        "# Print output\n",
        "print(myList)"
      ]
    },
    {
      "cell_type": "markdown",
      "source": [
        "If the code is correct, you should see the following output but perhaps in a different order:\n",
        "~~~text\n",
        "\n",
        "['a', 'Z', 'c', 'd']\n",
        "~~~\n",
        "\n",
        "This demonstrates that a program can change the contents of a `list` after it has been created."
      ],
      "metadata": {
        "id": "y_ETFWweq23y"
      }
    },
    {
      "cell_type": "markdown",
      "metadata": {
        "id": "uq8Azu7gYYX7"
      },
      "source": [
        "### **Exercise 2: Change the contents of `myTuple`**\n",
        "\n",
        "As mentioned above, a `tuple` is **immutable**, which means its contents can not be changed after it has been created.\n",
        "\n",
        "Using Example 2 as a template. write the code in the cell below to change the second element in `myTuple` to letter Z."
      ]
    },
    {
      "cell_type": "code",
      "execution_count": null,
      "metadata": {
        "id": "cMB0O3EbYYX7"
      },
      "outputs": [],
      "source": [
        "# Insert your code for Exercise 2 here\n",
        "\n"
      ]
    },
    {
      "cell_type": "markdown",
      "metadata": {
        "id": "s9rCUyLpYYX7"
      },
      "source": [
        "If your code is correct, you should see the following error message:\n",
        "\n",
        "![___](https://biologicslab.co/BIO1173/images/module_01/class_01_3_image01.png)\n",
        "\n",
        "As expected, Python will generate an error if you try to change the contents of `tuple` after it has been created. In other words, a `tuple` is immutable.\n"
      ]
    },
    {
      "cell_type": "markdown",
      "source": [
        "## **Difference Between List and Tuple**\n",
        "\n",
        "For a Python program, lists and tuples are very similar. Both lists and tuples hold an ordered collection of items. It is possible to get by as a programmer using only lists and ignoring tuples.\n",
        "\n",
        "The primary difference that you will see syntactically is that a list is enclosed by square braces `[ ]`, and a tuple is enclosed by parenthesis `( )`."
      ],
      "metadata": {
        "id": "AiYv8Pr7tGrW"
      }
    },
    {
      "cell_type": "code",
      "source": [
        "# Run this example\n",
        "\n",
        "myList = ['a', 'b', 'c', 'd']\n",
        "myTuple = ('a', 'b', 'c', 'd')\n",
        "\n",
        "print(f\"This is a Python list: {myList}\")\n",
        "print(f\"This is a Python tuple: {myTuple}\")"
      ],
      "metadata": {
        "id": "d4K5c7ootU8G"
      },
      "execution_count": null,
      "outputs": []
    },
    {
      "cell_type": "markdown",
      "source": [
        "\n",
        "If the code is correct you should see the following out:\n",
        "\n",
        "~~~text\n",
        "This is a Python list: ['a', 'b', 'c', 'd']\n",
        "This is a Python tuple: ('a', 'b', 'c', 'd')\n",
        "~~~\n"
      ],
      "metadata": {
        "id": "feut6OIRtYl3"
      }
    },
    {
      "cell_type": "markdown",
      "source": [
        "## **Python Dictionaries**\n",
        "\n",
        "A Python **dictionary** or **`dict`** is a mutable unordered collection of key/value pairs. A mutable data type in Python is a type of object whose value can be changed after it is created. It means that you can modify, add, or remove elements within the object without creating a new instance of it.\n",
        "\n",
        "For example, lists (`list`) and dictionaries (`dict`) in Python are mutable data types. You can change the elements of a list or update the key-value pairs of a dictionary without creating a new list or dictionary. An important aspect of mutability is that if you have multiple references to the same mutable object, any modifications made to the object will be reflected in all the references.\n",
        "\n",
        "In contrast, immutable data types like strings (`str`), tuples (`tuple`), and numbers (`int`, `float`) cannot be changed after they are created. If you want to modify these types, you need to create a new instance with the desired changes.\n",
        "\n",
        "Like other collection types, `dict` can be called with a collection argument to create a dictionary with the elements of the argument. However, those elements must be tuples or lists of two elements — a key and a value. Dictionaries are enclosed within curly braces `{ }`, and each item is separated by a comma. The key-value pairs in a dictionary are separated by a colon `:`."
      ],
      "metadata": {
        "id": "Y9rofAI-vPF0"
      }
    },
    {
      "cell_type": "markdown",
      "metadata": {
        "id": "TZAiYHIdYYX8"
      },
      "source": [
        "### Example 3: Create a dict called `DNABaseDict`\n",
        "\n",
        "The code in the cell below uses Python's `dict()` function to create a dictionary called `DNABaseDict`.\n",
        "\n",
        "The dictionary's keys are the single-letter abbreviation of the four bases in DNA. Each key has an associated value which is the name of the base. The key/value pairs in this example are contained in a list since they are defined using square brackets `[  ]`."
      ]
    },
    {
      "cell_type": "code",
      "execution_count": null,
      "metadata": {
        "id": "GPyG5_k_YYX8"
      },
      "outputs": [],
      "source": [
        "# Example 3: Multiple two integers\n",
        "\n",
        "# create dict using dict() function\n",
        "DNABaseDict = dict((['A', 'adenine'],\n",
        "                    ['C', 'cytosine'],\n",
        "                    ['G', 'guanine'],\n",
        "                    ['T', 'thymine']\n",
        "                   ))\n",
        "\n",
        "# Print out the dictionary\n",
        "DNABaseDict"
      ]
    },
    {
      "cell_type": "markdown",
      "metadata": {
        "id": "aD-rrL7zYYX8"
      },
      "source": [
        "If the code is correct, you should see the following output:\n",
        "\n",
        "~~~text\n",
        "{'A': 'adenine', 'C': 'cytosine', 'G': 'guanine', 'T': 'thymine'}\n",
        "~~~\n",
        "\n",
        "The curly braces `{ }` tells you that this is a Python dictionary. This particular dictionary contains 4 `key/value` pairs with a colon `:` separating each `key` from its corresponding `value`."
      ]
    },
    {
      "cell_type": "markdown",
      "metadata": {
        "tags": [],
        "id": "fl1S_5ldYYX8"
      },
      "source": [
        "### **Exercise 3: Create a dict called `RNABaseDict`**\n",
        "\n",
        "In the cell below use Python's `dict()` function to create a dictionary called `RNABaseDict`. The dictionary's `keys` should be the single-letter abbreviations of the four RNA nitrogenous bases with the correspondong `value` being the name of the base. Print out the RNABaseDict.\n",
        "\n",
        "You should already know the four nitrogenous bases in RNA. If you don't, you can \"Google\" it."
      ]
    },
    {
      "cell_type": "code",
      "execution_count": null,
      "metadata": {
        "id": "zNcnrqhCYYX8"
      },
      "outputs": [],
      "source": [
        "# Insert your code for Exercise 3 here\n",
        "\n"
      ]
    },
    {
      "cell_type": "markdown",
      "metadata": {
        "id": "4157cL9exc1T"
      },
      "source": [
        "If the code is correct, you should see the following output:\n",
        "\n",
        "~~~text\n",
        "{'A': 'adenine', 'C': 'cytosine', 'G': 'guanine', 'U': 'uracil'}\n",
        "~~~"
      ]
    },
    {
      "cell_type": "markdown",
      "source": [
        "----------------------------\n",
        "\n",
        "### **Why the curly braces `{ }`?**\n",
        "\n",
        "Even though parentheses `( )` were used to define the `DNABaseDict` dictionary in Example 3, Python printed out this dictionary using curly braces `{ }`.\n",
        "\n",
        "> **So why the curly braces?**\n",
        "\n",
        "Because they are so frequently used, Python provides a notation for dictionaries that is similar to `sets`: a comma-separated list of `key/value` pairs enclosed in curly braces `{ }`. Within the braces, a colon `:` is used to separate each `key/value` pair. When Python prints out a dictionary, it uses the curly brace format.\n",
        "\n",
        "\n",
        "----------------------------"
      ],
      "metadata": {
        "id": "9GZwgkkVxs6n"
      }
    },
    {
      "cell_type": "markdown",
      "metadata": {
        "tags": [],
        "id": "9-JUFIGTYYX8"
      },
      "source": [
        "### Example 4: Create `dnaBaseDict` using curly braces `{ }`\n",
        "\n",
        "As explained above, you can also create a Python dictionary using curly braces `{ }`. The cell below shows how to create a dictionary called `dnaBaseDict` using curly braces. This dictionary is similar to `DNABaseDict` created in Example 2 except that lower case letters are used for the keys."
      ]
    },
    {
      "cell_type": "code",
      "execution_count": null,
      "metadata": {
        "id": "bwKC7JAFYYX8"
      },
      "outputs": [],
      "source": [
        "# Example 4: Create dictionary using {}\n",
        "\n",
        "# Create dictionary using curly braces\n",
        "dnaBaseDict = {'a': 'adenine', 't': 'thymine', 'g': 'guanine',  'c': 'cytosine'}\n",
        "\n",
        "# Print out the dictionary\n",
        "dnaBaseDict"
      ]
    },
    {
      "cell_type": "markdown",
      "metadata": {
        "id": "tenoC-upYYX8"
      },
      "source": [
        "If the code is correct, you should see the following output but perhaps in a different order:\n",
        "\n",
        "~~~text\n",
        "{'a': 'adenine', 't': 'thymine', 'g': 'guanine', 'c': 'cytosine'}\n",
        "~~~"
      ]
    },
    {
      "cell_type": "markdown",
      "metadata": {
        "tags": [],
        "id": "eEhkGamXYYX8"
      },
      "source": [
        "### **Exercise 4: Create `rnaBaseDict` using curly braces `{ }`**\n",
        "\n",
        "In the cell below create a dictionary called `rnaBaseDict` using curly braces. Use lower case letters for the `keys`."
      ]
    },
    {
      "cell_type": "code",
      "execution_count": null,
      "metadata": {
        "id": "8lL_Sz9dYYX8"
      },
      "outputs": [],
      "source": [
        "# Insert your code for Exercise 4 here\n",
        "\n"
      ]
    },
    {
      "cell_type": "markdown",
      "metadata": {
        "id": "ZBGFj5zozQAI"
      },
      "source": [
        "If the code is correct, you should see the following output but perhaps in a different order:\n",
        "\n",
        "~~~text\n",
        "{'a': 'adenine', 'c': 'cytosine', 'g': 'guanine', 'u': 'uracil'}\n",
        "~~~"
      ]
    },
    {
      "cell_type": "markdown",
      "source": [
        "-------------------------------\n",
        "\n",
        "### **Unique Keys**\n",
        "\n",
        "The keys of a mapping must be **unique** within the collection, because the dictionary has no way to distinguish different values indexed by the same key.\n",
        "\n",
        "--------------------------------"
      ],
      "metadata": {
        "id": "ZemCAKm9zapL"
      }
    },
    {
      "cell_type": "markdown",
      "source": [
        "## **Python Sets**\n",
        "\n",
        "A Python **set** is an _unordered_  collection of items that contains no duplicates. As we will see, if you try to add an item that is already in a set, nothing happens.\n",
        "\n",
        "Since strings behave as collections, a string can be used as the argument for a call to set. The resulting set will contain a **single-character string** for each unique character that appears in the argument. The order in which the elements of a set are printed will not necessarily bear any relation to the order in which they were added."
      ],
      "metadata": {
        "id": "RTXoGCblzsQ7"
      }
    },
    {
      "cell_type": "markdown",
      "metadata": {
        "tags": [],
        "id": "rxqdnDOpYYX9"
      },
      "source": [
        "### Example 5: Create a Set called `DNABases_set`\n",
        "\n",
        "The code below shows how to create a set of single-character strings called `DNABase_set` using curly braces `{ }`."
      ]
    },
    {
      "cell_type": "code",
      "execution_count": null,
      "metadata": {
        "id": "Mhai0s19YYX9"
      },
      "outputs": [],
      "source": [
        "# Example 5: Create set\n",
        "\n",
        "# Create a set called DNABases_set\n",
        "DNABases_set = {'T', 'C', 'A', 'G'}\n",
        "\n",
        "# Print DNABases_set\n",
        "print(DNABases_set)"
      ]
    },
    {
      "cell_type": "markdown",
      "metadata": {
        "id": "veEndcRvYYX9"
      },
      "source": [
        "If the correct is correct, you should see the following output but perhaps in a different order:\n",
        "\n",
        "~~~text\n",
        "{'T', 'A', 'C', 'G'}\n",
        "~~~\n",
        "You should notice two things. First our `set` is **not** the string \"TCAG', but a collection of 4 single-character strings (\"letters\"), `A`, `C`, `G` and `T`.\n",
        "\n",
        "Second, the order in the \"letters\" when we created the set (`TCAG`) may, or may not, be preserved.\n",
        "\n",
        "Also, a set is an _unordered_  collection. If you tried to use square brackets `[ ]` to index an item in a set, you would get the error message: `set object is not subscriptable`."
      ]
    },
    {
      "cell_type": "markdown",
      "metadata": {
        "id": "S-Tc3C0IYYX9"
      },
      "source": [
        "### **Exercise 5: Create a Set called `RNABases_set`**\n",
        "\n",
        "In the cell below, create a new set called `RNABases_set` and print it out. Remember that in RNA the base `uracil` substitutes for the DNA base `thymine`."
      ]
    },
    {
      "cell_type": "code",
      "execution_count": null,
      "metadata": {
        "id": "Vk7y7BshYYX9"
      },
      "outputs": [],
      "source": [
        "# Insert your code for Exercise 5 here\n",
        "\n"
      ]
    },
    {
      "cell_type": "markdown",
      "metadata": {
        "id": "jkGCykNJYYYA"
      },
      "source": [
        "If your code is correct, you should see the following output but perhaps in a different order:\n",
        "\n",
        "~~~text\n",
        "{'U', 'A', 'C', 'G'}\n",
        "~~~"
      ]
    },
    {
      "cell_type": "markdown",
      "metadata": {
        "id": "KTktsvwYYYYA"
      },
      "source": [
        "### Example 6: Algebraic set operations - Union\n",
        "\n",
        "In Python there are a number of operations and functions that work on different collection types such as sets. In this example, we show one example of an operation called `union`.\n",
        "\n",
        "The \"adding\" of one set with another is called the **union of the two sets**. In Python, you can use the `|` operator to create a union of two sets as shown in the next cell."
      ]
    },
    {
      "cell_type": "code",
      "execution_count": null,
      "metadata": {
        "id": "n3vB9UfhYYYA"
      },
      "outputs": [],
      "source": [
        "# Example 6: Union of 2 sets\n",
        "\n",
        "# Create a new set called AddBases_set\n",
        "AddBases_set =  {'X', 'Y', 'Z', 'U', 'U', 'A','A'}\n",
        "\n",
        "# Use | to create union\n",
        "RNABases_set_union = RNABases_set | AddBases_set\n",
        "\n",
        "# Print the new set\n",
        "print(RNABases_set_union)\n"
      ]
    },
    {
      "cell_type": "markdown",
      "metadata": {
        "id": "T-o2T4uDYYYA"
      },
      "source": [
        "If the code is correct, you should see the following output but perhaps in a different order:\n",
        "\n",
        "~~~text\n",
        "{'Z', 'X', 'C', 'U', 'G', 'Y', 'A'}\n",
        "~~~\n",
        "\n",
        "Notice that when we add the two sets together, only the letters `X`, `Y`, and `Z` were added to `RNABases_set`, not the additional `Us` and `As`.\n",
        "\n",
        "> **Why?**\n",
        "\n",
        "Because every element in a set must be unique. Since our original `RNABases_set` already contained the letters `U` and `A`, they were not added, only the new letters, `X`, `Y` and `Z`. In other words, a set can only contain **one example of each element**.\n",
        "\n",
        "**NOTE:** In order for this example to run correctly, you must have successfully completed **Exercise 5** above."
      ]
    },
    {
      "cell_type": "markdown",
      "metadata": {
        "id": "b9iN8s5FYYYA"
      },
      "source": [
        "### **Exercise 6: Try to create a set with duplicated items**\n",
        "\n",
        "Because each element in a set must be unique, when you try to create a set with duplicated items, you don't get an error, but only one item will be added to the set.\n",
        "\n",
        "In the cell below, create a set called `RNABases_set2` with {'U', 'A', 'A', 'G', 'U', 'C', 'C'} and then print out the set."
      ]
    },
    {
      "cell_type": "code",
      "execution_count": null,
      "metadata": {
        "id": "bRk7YQWkYYYA"
      },
      "outputs": [],
      "source": [
        "# Insert your code for Exercise 6 here\n",
        "\n"
      ]
    },
    {
      "cell_type": "markdown",
      "metadata": {
        "id": "6ymosOw7YYYA"
      },
      "source": [
        "If your code is correct, you should see the following output but perhaps in a different order:\n",
        "\n",
        "~~~text\n",
        "{'U', 'A', 'G', 'C'}\n",
        "~~~\n",
        "\n",
        "The new `RNABase_set2` only contains one example of each item."
      ]
    },
    {
      "cell_type": "markdown",
      "metadata": {
        "id": "5ucexCCkYYYA"
      },
      "source": [
        "### Example 7: Algebraic set operations - Intersection\n",
        "\n",
        "Another algebraic set operation is **intersection**.\n",
        "\n",
        "The cell below uses the `&` operator to find the intersection of two sets."
      ]
    },
    {
      "cell_type": "code",
      "execution_count": null,
      "metadata": {
        "id": "Chr1Mt0vYYYA"
      },
      "outputs": [],
      "source": [
        "# Example 7: Set intersection using & operator\n",
        "\n",
        "# Create 2 sets using curly braces\n",
        "let1_set = {'a','b','c','d','e'}\n",
        "let2_set = {'c','d','e','f','g'}\n",
        "\n",
        "# Use `&` to find their intersection\n",
        "let_set_intersection = let1_set & let2_set\n",
        "\n",
        "# Print out the intersection\n",
        "print(let_set_intersection)\n"
      ]
    },
    {
      "cell_type": "markdown",
      "metadata": {
        "id": "n6zY4y7DYYYA"
      },
      "source": [
        "If the code is correct, you should see the following output but perhaps in a different order:\n",
        "\n",
        "~~~text\n",
        "{'e', 'c', 'd'}\n",
        "~~~\n",
        "\n",
        "Set intersection is the set of elements that **both sets have in common**. In this example, only the letters `c`, `d` and `e` were contained in both sets."
      ]
    },
    {
      "cell_type": "markdown",
      "metadata": {
        "id": "R8wc_gFmYYYA"
      },
      "source": [
        "### **Exercise 7: Algebraic set operations - Intersection**\n",
        "\n",
        "In Example 7, set intersection was found using the `&` operator. Python also offers the `intersection()` method for accomplishing the same thing. In the cell below, use the `intersection()` method to find the intersection between the same two sets, `let1_set` and `let2_set` used in Example 7.\n",
        "\n",
        "(**HINT:** The use of Python **methods** was covered in Class_01_02. Methods are called using **dot notation**. In this case, the `intersection()` method is attached (by the dot) to the first set and its argument is the second set.)"
      ]
    },
    {
      "cell_type": "code",
      "execution_count": null,
      "metadata": {
        "id": "IMpAvZEqYYYA"
      },
      "outputs": [],
      "source": [
        "# Insert your code for Exercise 7 here\n",
        "\n",
        "\n"
      ]
    },
    {
      "cell_type": "markdown",
      "metadata": {
        "id": "5lggK1w_6EXW"
      },
      "source": [
        "If your code is correct, you should see the following output but perhaps in a different order:\n",
        "\n",
        "~~~text\n",
        "{'e', 'c', 'd'}\n",
        "~~~\n"
      ]
    },
    {
      "cell_type": "markdown",
      "metadata": {
        "id": "PUphlCJzYYYA"
      },
      "source": [
        "### Example 8: Use `add()` method with sets\n",
        "\n",
        "A `list` is always enclosed in square braces `[ ]`, a `tuple` in parenthesis `( )`, and similarly a `set` is enclosed in curly braces `{ }`.\n",
        "\n",
        "Programs can add items to a `set` as they run. Programs can dynamically add items to a `set` with the **add function**. However, to add an item to a `list` you must use instead the **append function**.\n",
        "\n",
        "In other words, items are added to `sets` using the **add function** while items are added to `lists` using the **append function**."
      ]
    },
    {
      "cell_type": "code",
      "execution_count": null,
      "metadata": {
        "id": "IxtJG27eYYYB"
      },
      "outputs": [],
      "source": [
        "# Example 8: Use add() method\n",
        "\n",
        "# Create a new empty set called mySet\n",
        "mySet = set()\n",
        "\n",
        "# Add letter `a` to the empty set\n",
        "mySet.add('a')\n",
        "\n",
        "# Keeping adding letters to the set\n",
        "mySet.add('b')\n",
        "mySet.add('c')\n",
        "\n",
        "# Try to add a duplicate letter `c`\n",
        "mySet.add('c')\n",
        "\n",
        "# Print out the set\n",
        "print(mySet)\n"
      ]
    },
    {
      "cell_type": "markdown",
      "metadata": {
        "id": "nOW8jQcrYYYB"
      },
      "source": [
        "If the code is correct, you should see the following output but perhaps in a different order:\n",
        "\n",
        "~~~text\n",
        "{'a', 'b', 'c'}\n",
        "~~~\n",
        "\n",
        "Sets can only contain unique items so there is only one `c` in the final set."
      ]
    },
    {
      "cell_type": "markdown",
      "metadata": {
        "id": "J2mldzdYYYYB"
      },
      "source": [
        "### **Exercise 8: Use `append()` method with lists**\n",
        "\n",
        "While programs can dynamically add items to a `set` with the `add( )` method you must use the `append( )` method to add items to a `list`.\n",
        "\n",
        "In the cell below use the `append( )` method function to adds item to a list called `myList` using Example 8 as a template."
      ]
    },
    {
      "cell_type": "code",
      "execution_count": null,
      "metadata": {
        "id": "A-6b3Td1YYYB"
      },
      "outputs": [],
      "source": [
        "# Insert your code for Exercise 8 here\n",
        "\n",
        "\n"
      ]
    },
    {
      "cell_type": "markdown",
      "metadata": {
        "id": "Cbg8o163YYYB"
      },
      "source": [
        "If your code is correct you should see the following list but perhaps in a different order:\n",
        "\n",
        "~~~text\n",
        "['a', 'b', 'c', 'c']\n",
        "~~~\n",
        "\n",
        "Lists (but not sets) can contain duplicate items so the letter `c` appears twice in this list."
      ]
    },
    {
      "cell_type": "markdown",
      "metadata": {
        "id": "AC45JMV2YYYB"
      },
      "source": [
        "## **JSON (JavaScript Object Notation)**\n",
        "\n",
        "Data stored in a comma separated variable (CSV) file must be flat. In a flat file, all the data must fit neatly into rows and columns.\n",
        "\n",
        "Here is an example of data stored in a flat, CSV file:\n",
        "\n",
        "![__](https://biologicslab.co/BIO1173/images/module_01/class_01_3_image02.png)\n",
        "\n",
        "Most people refer to this type of data as structured or **tabular**. This data is tabular because the number of columns is the same for every row. Individual rows may be missing a value for a column but these rows still have the same number of columns. Tabular data is convenient for machine learning because most models, such as neural networks, also expect incoming data to be of fixed dimensions.\n",
        "\n",
        "On the other hand, real-world information is not always so tabular. This is where **JSON** comes in. Instead of being tubular, **JavaScript Object Notation (JSON)** is a standard file format that stores data in a hierarchical format similar to **eXtensible Markup Language (XML)**.\n",
        "\n",
        "JSON is nothing more than a hierarchy of lists and dictionaries. Programmers refer to this sort of data as semi-structured data or hierarchical data.\n",
        "\n",
        "The following is a sample JSON file. Even though this isn't Python code, Python is able to run it!"
      ]
    },
    {
      "cell_type": "code",
      "source": [
        "# JASON example. RUN THIS CELL\n",
        "{\n",
        "    \"glossary\": {\n",
        "        \"title\": \"example glossary\",\n",
        "\t\t\"GlossDiv\": {\n",
        "            \"title\": \"S\",\n",
        "\t\t\t\"GlossList\": {\n",
        "                \"GlossEntry\": {\n",
        "                    \"ID\": \"SGML\",\n",
        "\t\t\t\t\t\"SortAs\": \"SGML\",\n",
        "\t\t\t\t\t\"GlossTerm\": \"Standard Generalized Markup Language\",\n",
        "\t\t\t\t\t\"Acronym\": \"SGML\",\n",
        "\t\t\t\t\t\"Abbrev\": \"ISO 8879:1986\",\n",
        "\t\t\t\t\t\"GlossDef\": {\n",
        "                        \"para\": \"A meta-markup language.\",\n",
        "\t\t\t\t\t\t\"GlossSeeAlso\": [\"GML\", \"XML\"]\n",
        "                    },\n",
        "\t\t\t\t\t\"GlossSee\": \"markup\"\n",
        "                }\n",
        "            }\n",
        "        }\n",
        "    }\n",
        "}"
      ],
      "metadata": {
        "id": "lk9m79Kv-TnB"
      },
      "execution_count": null,
      "outputs": []
    },
    {
      "cell_type": "markdown",
      "source": [
        "If the code is correct, you should see the following output:\n",
        "\n",
        "~~~text\n",
        "{'glossary': {'title': 'example glossary',\n",
        "  'GlossDiv': {'title': 'S',\n",
        "   'GlossList': {'GlossEntry': {'ID': 'SGML',\n",
        "     'SortAs': 'SGML',\n",
        "     'GlossTerm': 'Standard Generalized Markup Language',\n",
        "     'Acronym': 'SGML',\n",
        "     'Abbrev': 'ISO 8879:1986',\n",
        "     'GlossDef': {'para': 'A meta-markup language.',\n",
        "      'GlossSeeAlso': ['GML', 'XML']},\n",
        "     'GlossSee': 'markup'}}}}}\n",
        "~~~~\n",
        "\n",
        "A data scientist will generally encounter **JSON** when they access web services to get their data."
      ],
      "metadata": {
        "id": "Gh2ttPBa-anC"
      }
    },
    {
      "cell_type": "markdown",
      "metadata": {
        "id": "ZAI6mJyhYYYC"
      },
      "source": [
        "## **Lesson Turn-in**\n",
        "\n",
        "When you have completed and run all of the code cells, use the **File --> Print.. --> Save to PDF** to generate a PDF of your Colab notebook. Save your PDF as `Class_01_3.lastname.pdf` where _lastname_ is your last name, and upload the file to Canvas."
      ]
    },
    {
      "cell_type": "markdown",
      "source": [
        "-----------------------------------------\n",
        "\n",
        "## **Lizard Tail**\n",
        "\n",
        "\n",
        "## **IBM Blue Gene**\n",
        "\n",
        "\n",
        "![__](https://upload.wikimedia.org/wikipedia/commons/d/d3/IBM_Blue_Gene_P_supercomputer.jpg)\n",
        "\n",
        "> A Blue Gene/P supercomputer at Argonne National Laboratory\n",
        "\n",
        "**Blue Gene** was an IBM project aimed at designing supercomputers that can reach operating speeds in the petaFLOPS (PFLOPS) range, with relatively low power consumption.\n",
        "\n",
        "The project created three generations of supercomputers, Blue Gene/L, Blue Gene/P, and Blue Gene/Q. During their deployment, Blue Gene systems often led the TOP500 and Green500 rankings of the most powerful and most power-efficient supercomputers, respectively. Blue Gene systems have also consistently scored top positions in the Graph500 list. The project was awarded the 2009 National Medal of Technology and Innovation.\n",
        "\n",
        "After Blue Gene/Q, IBM focused its supercomputer efforts on the OpenPower platform, using accelerators such as FPGAs and GPUs to address the diminishing returns of Moore's law.\n",
        "\n",
        "**History**\n",
        "\n",
        "In December 1999, IBM announced a US\\$100 million research initiative for a five-year effort to build a massively parallel computer, to be applied to the study of biomolecular phenomena such as protein folding. The research and development was pursued by a large multi-disciplinary team at the IBM T. J. Watson Research Center, initially led by William R. Pulleyblank. The project had two main goals: to advance understanding of the mechanisms behind protein folding via large-scale simulation, and to explore novel ideas in massively parallel machine architecture and software. Major areas of investigation included: how to use this novel platform to effectively meet its scientific goals, how to make such massively parallel machines more usable, and how to achieve performance targets at a reasonable cost, through novel machine architectures.\n",
        "\n",
        "The initial design for Blue Gene was based on an early version of the Cyclops64 architecture, designed by Monty Denneau. In parallel, Alan Gara had started working on an extension of the QCDOC architecture into a more general-purpose supercomputer. The US Department of Energy started funding the development of this system and it became known as Blue Gene/L (L for Light). Development of the original Blue Gene architecture continued under the name Blue Gene/C (C for Cyclops) and, later, Cyclops64.\n",
        "\n",
        "Architecture and chip logic design for the Blue Gene systems was done at the IBM T. J. Watson Research Center, chip design was completed and chips were manufactured by IBM Microelectronics, and the systems were built at IBM Rochester, MN.\n",
        "\n",
        "In November 2004 a 16-rack system, with each rack holding 1,024 compute nodes, achieved first place in the TOP500 list, with a LINPACK benchmarks performance of 70.72 TFLOPS.[1] It thereby overtook NEC's Earth Simulator, which had held the title of the fastest computer in the world since 2002. From 2004 through 2007 the Blue Gene/L installation at LLNL gradually expanded to 104 racks, achieving 478 TFLOPS Linpack and 596 TFLOPS peak. The LLNL BlueGene/L installation held the first position in the TOP500 list for 3.5 years, until in June 2008 it was overtaken by IBM's Cell-based Roadrunner system at Los Alamos National Laboratory, which was the first system to surpass the 1 PetaFLOPS mark.\n",
        "\n",
        "While the LLNL installation was the largest Blue Gene/L installation, many smaller installations followed. The November 2006 TOP500 list showed 27 computers with the eServer Blue Gene Solution architecture. For example, three racks of Blue Gene/L were housed at the San Diego Supercomputer Center.\n",
        "\n",
        "While the TOP500 measures performance on a single benchmark application, Linpack, Blue Gene/L also set records for performance on a wider set of applications. Blue Gene/L was the first supercomputer ever to run over 100 TFLOPS sustained on a real-world application, namely a three-dimensional molecular dynamics code (ddcMD), simulating solidification (nucleation and growth processes) of molten metal under high pressure and temperature conditions. This achievement won the 2005 Gordon Bell Prize.\n",
        "\n",
        "In June 2006, NNSA and IBM announced that Blue Gene/L achieved 207.3 TFLOPS on a quantum chemical application (Qbox). At Supercomputing 2006, Blue Gene/L was awarded the winning prize in all HPC Challenge Classes of awards. In 2007, a team from the IBM Almaden Research Center and the University of Nevada ran an artificial neural network almost half as complex as the brain of a mouse for the equivalent of a second (the network was run at 1/10 of normal speed for 10 seconds).\n",
        "\n",
        "**The Name**\n",
        "\n",
        "The name Blue Gene comes from what it was originally designed to do, help biologists understand the processes of protein folding and gene development.\"Blue\" is a traditional moniker that IBM uses for many of its products and the company itself. The original Blue Gene design was renamed \"Blue Gene/C\" and eventually Cyclops64. The \"L\" in Blue Gene/L comes from \"Light\" as that design's original name was \"Blue Light\". The \"P\" version was designed to be a petascale design. \"Q\" is just the letter after \"P\".\n",
        "\n",
        "**Major Features**\n",
        "\n",
        "The Blue Gene/L supercomputer was unique in the following aspects:\n",
        "\n",
        "* Trading the speed of processors for lower power consumption. Blue Gene/L used low frequency and low power embedded PowerPC cores with floating-point accelerators. While the performance of each chip was relatively low, the system could achieve better power efficiency for applications that could use large numbers of nodes.\n",
        "* Dual processors per node with two working modes: co-processor mode where one processor handles computation and the other handles communication; and virtual-node mode, where both processors are available to run user code, but the processors share both the computation and the communication load.\n",
        "System-on-a-chip design. Components were embedded on a single chip for each node, with the exception of 512 MB external DRAM.\n",
        "* A large number of nodes (scalable in increments of 1024 up to at least 65,536).\n",
        "* Three-dimensional torus interconnect with auxiliary networks for global communications (broadcast and reductions), I/O, and management.\n",
        "* Lightweight OS per node for minimum system overhead (system noise).\n",
        "\n",
        "**Architecture**\n",
        "The Blue Gene/L architecture was an evolution of the QCDSP and QCDOC architectures. Each Blue Gene/L Compute or I/O node was a single ASIC with associated DRAM memory chips. The ASIC integrated two 700 MHz PowerPC 440 embedded processors, each with a double-pipeline-double-precision Floating-Point Unit (FPU), a cache sub-system with built-in DRAM controller and the logic to support multiple communication sub-systems. The dual FPUs gave each Blue Gene/L node a theoretical peak performance of 5.6 GFLOPS (gigaFLOPS). The two CPUs were not cache coherent with one another.\n",
        "\n",
        "Compute nodes were packaged two per compute card, with 16 compute cards (thus 32 nodes) plus up to 2 I/O nodes per node board. A cabinet/rack contained 32 node boards. By the integration of all essential sub-systems on a single chip, and the use of low-power logic, each Compute or I/O node dissipated about 17 watts (including DRAMs). The low power per node allowed aggressive packaging of up to 1024 compute nodes, plus additional I/O nodes, in a standard 19-inch rack, within reasonable limits on electrical power supply and air cooling. The system performance metrics, in terms of FLOPS per watt, FLOPS per m2 of floorspace and FLOPS per unit cost, allowed scaling up to very high performance. With so many nodes, component failures were inevitable. The system was able to electrically isolate faulty components, down to a granularity of half a rack (512 compute nodes), to allow the machine to continue to run.\n",
        "\n",
        "Each Blue Gene/L node was attached to three parallel communications networks: a 3D toroidal network for peer-to-peer communication between compute nodes, a collective network for collective communication (broadcasts and reduce operations), and a global interrupt network for fast barriers. The I/O nodes, which run the Linux operating system, provided communication to storage and external hosts via an Ethernet network. The I/O nodes handled filesystem operations on behalf of the compute nodes. A separate and private Ethernet management network provided access to any node for configuration, booting and diagnostics.\n",
        "\n",
        "To allow multiple programs to run concurrently, a Blue Gene/L system could be partitioned into electronically isolated sets of nodes. The number of nodes in a partition had to be a positive integer power of 2, with at least 25 = 32 nodes. To run a program on Blue Gene/L, a partition of the computer was first to be reserved. The program was then loaded and run on all the nodes within the partition, and no other program could access nodes within the partition while it was in use. Upon completion, the partition nodes were released for future programs to use.\n",
        "\n",
        "Blue Gene/L compute nodes used a minimal operating system supporting a single user program. Only a subset of POSIX calls was supported, and only one process could run at a time on a node in co-processor mode—or one process per CPU in virtual mode. Programmers needed to implement green threads in order to simulate local concurrency. Application development was usually performed in C, C++, or Fortran using MPI for communication. However, some scripting languages such as Ruby and Python have been ported to the compute nodes.\n",
        "\n",
        "IBM published BlueMatter, the application developed to exercise Blue Gene/L, as open source. This serves to document how the torus and collective interfaces were used by applications, and may serve as a base for others to exercise the current generation of supercomputers.\n",
        "\n",
        "**Blue Gene/P**\n",
        "\n",
        "In June 2007, IBM unveiled Blue Gene/P, the second generation of the Blue Gene series of supercomputers and designed through a collaboration that included IBM, LLNL, and Argonne National Laboratory's Leadership Computing Facility.\n",
        "\n",
        "**Design**\n",
        "\n",
        "The design of Blue Gene/P is a technology evolution from Blue Gene/L. Each Blue Gene/P Compute chip contains four PowerPC 450 processor cores, running at 850 MHz. The cores are cache coherent and the chip can operate as a 4-way symmetric multiprocessor (SMP). The memory subsystem on the chip consists of small private L2 caches, a central shared 8 MB L3 cache, and dual DDR2 memory controllers. The chip also integrates the logic for node-to-node communication, using the same network topologies as Blue Gene/L, but at more than twice the bandwidth. A compute card contains a Blue Gene/P chip with 2 or 4 GB DRAM, comprising a \"compute node\". A single compute node has a peak performance of 13.6 GFLOPS. 32 Compute cards are plugged into an air-cooled node board. A rack contains 32 node boards (thus 1024 nodes, 4096 processor cores). By using many small, low-power, densely packaged chips, Blue Gene/P exceeded the power efficiency of other supercomputers of its generation, and at 371 MFLOPS/W Blue Gene/P installations ranked at or near the top of the Green500 lists in 2007-2008.\n",
        "\n"
      ],
      "metadata": {
        "id": "xX57DuJiRXF2"
      }
    }
  ],
  "metadata": {
    "kernelspec": {
      "display_name": "Python 3 (ipykernel)",
      "language": "python",
      "name": "python3"
    },
    "language_info": {
      "codemirror_mode": {
        "name": "ipython",
        "version": 3
      },
      "file_extension": ".py",
      "mimetype": "text/x-python",
      "name": "python",
      "nbconvert_exporter": "python",
      "pygments_lexer": "ipython3",
      "version": "3.11.5"
    },
    "colab": {
      "provenance": [],
      "include_colab_link": true
    }
  },
  "nbformat": 4,
  "nbformat_minor": 0
}