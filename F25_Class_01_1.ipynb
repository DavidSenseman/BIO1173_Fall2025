{
  "cells": [
    {
      "cell_type": "markdown",
      "metadata": {
        "id": "view-in-github",
        "colab_type": "text"
      },
      "source": [
        "<a href=\"https://colab.research.google.com/github/DavidSenseman/BIO1173_Fall2025/blob/main/F25_Class_01_1.ipynb\" target=\"_parent\"><img src=\"https://colab.research.google.com/assets/colab-badge.svg\" alt=\"Open In Colab\"/></a>"
      ]
    },
    {
      "cell_type": "markdown",
      "metadata": {
        "id": "iQ6gdvHM-C-m"
      },
      "source": [
        "---------------------------\n",
        "**COPYRIGHT NOTICE:** This Jupyterlab Notebook is a Derivative work of [Jeff Heaton](https://github.com/jeffheaton) licensed under the Apache License, Version 2.0 (the \"License\"); You may not use this file except in compliance with the License. You may obtain a copy of the License at\n",
        "\n",
        "> [http://www.apache.org/licenses/LICENSE-2.0](http://www.apache.org/licenses/LICENSE-2.0)\n",
        "\n",
        "Unless required by applicable law or agreed to in writing, software distributed under the License is distributed on an \"AS IS\" BASIS, WITHOUT WARRANTIES OR CONDITIONS OF ANY KIND, either express or implied. See the License for the specific language governing permissions and limitations under the License.\n",
        "\n",
        "------------------------"
      ]
    },
    {
      "cell_type": "markdown",
      "source": [
        "# **BIO 1173: Intro Computational Biology**"
      ],
      "metadata": {
        "id": "IsOxxU9Qq9W9"
      }
    },
    {
      "cell_type": "markdown",
      "metadata": {
        "id": "0ZKR9xpX-C-n"
      },
      "source": [
        "## **Class_01_1: Getting Started with Google COLAB**"
      ]
    },
    {
      "cell_type": "markdown",
      "metadata": {
        "id": "QRA_AHlf-C-n"
      },
      "source": [
        "##### **Module 1: Getting Started with Python**\n",
        "\n",
        "* Instructor: [David Senseman](mailto:David.Senseman@utsa.edu), [Department of Biology, Health and the Environment](https://sciences.utsa.edu/bhe/), [UTSA](https://www.utsa.edu/)\n",
        "\n",
        "### Module 1 Material\n",
        "\n",
        "* **Part 1.1: Introduction to Google CoLab**\n",
        "* Part 1.2: Python Basics -- Strings, Variables, Functions\n",
        "* Part 1.3: Python Basics -- Lists, Dictionaries, Sets and JSON\n",
        "* Part 1.4: Python Basics -- Conditionals and Loops\n",
        "* Part 1.5: Python Basics -- Packages, NumPy arrays and Matplotlib\n",
        "* Part 1.6: Python Basics -- Pandas and File Handling"
      ]
    },
    {
      "cell_type": "markdown",
      "source": [
        "# **MAKE A COPY OF THIS LESSON!**\n",
        "\n",
        "The very first thing you have to do when starting on a new Google Colab assignment is to make a copy of it in your Google GDRIVE. You will work on this copy and when you have finished, you will submit a PDF of this **_copy_** for grading.\n",
        "\n",
        "**WARNING: If you submit a Colab notebook that is not a copy, it won't be graded!**\n",
        "\n",
        "To make a copy, select `FILE -> Save copy to Drive` as shown in this image:\n",
        "\n",
        "![____](https://biologicslab.co/BIO1173/images/module_01/class_01_1_image04.png)\n",
        "\n",
        "If you haven't already logged into Google Colab with your GMAIL user name, you will receive this error message:\n",
        "\n",
        "![____](https://biologicslab.co/BIO1173/images/module_01/class_01_1_image05.png)\n",
        "\n",
        "After you have signed in, you can continue with making a copy of this lesson.\n",
        "\n",
        "When you make a copy, the name of this Colab lesson will automatically change to `Copy of Class_01_1.ipynb` as shown in this image:\n",
        "\n",
        "![____](https://biologicslab.co/BIO1173/images/module_01/class_01_1_image06.png)\n",
        "\n",
        "\n",
        "Once your have made a copy, you can continue with this lesson.\n",
        "\n",
        "## **WARNING**\n",
        "\n",
        "Unless you make a copy of this Colab notebook, and use that copy for this assignment, your assignment will **not** be graded.\n"
      ],
      "metadata": {
        "id": "zV4zPmQW-gtL"
      }
    },
    {
      "cell_type": "markdown",
      "metadata": {
        "id": "yKQylnEiLDUM"
      },
      "source": [
        "## Google CoLab Instructions\n",
        "\n",
        "You MUST run the following code cell to get credit for this class lesson. By running this code cell, you will map your GDrive to ```/content/drive`` and print out your Google GMAIL address. Your Instructor will use your GMAIL address to verify the author of this class lesson."
      ]
    },
    {
      "cell_type": "code",
      "execution_count": null,
      "metadata": {
        "id": "seXFCYH4LDUM",
        "scrolled": true
      },
      "outputs": [],
      "source": [
        "# You must run this cell first\n",
        "try:\n",
        "    from google.colab import drive\n",
        "    drive.mount('/content/drive', force_remount=True)\n",
        "    from google.colab import auth\n",
        "    auth.authenticate_user()\n",
        "    COLAB = True\n",
        "    print(\"Note: Using Google CoLab\")\n",
        "    import requests\n",
        "    gcloud_token = !gcloud auth print-access-token\n",
        "    gcloud_tokeninfo = requests.get('https://www.googleapis.com/oauth2/v3/tokeninfo?access_token=' + gcloud_token[0]).json()\n",
        "    print(gcloud_tokeninfo['email'])\n",
        "except:\n",
        "    print(\"**WARNING**: Your GMAIL address was **not** printed in the output below.\")\n",
        "    print(\"**WARNING**: You will NOT receive credit for this lesson.\")\n",
        "    COLAB = False"
      ]
    },
    {
      "cell_type": "markdown",
      "metadata": {
        "jp-MarkdownHeadingCollapsed": true,
        "tags": [],
        "id": "p44g_22e-C-o"
      },
      "source": [
        "If the code is correct, you should see something similar to the following output, but _your_  GMAIL address should be printed out.\n",
        "~~~text\n",
        "Mounted at /content/drive\n",
        "Note: Using Google CoLab\n",
        "david.senseman@gmail.com\n",
        "~~~\n",
        "If your GMAIL address is not visible, your submission will not be graded."
      ]
    },
    {
      "cell_type": "markdown",
      "metadata": {
        "jp-MarkdownHeadingCollapsed": true,
        "id": "JwNycQSR-C-p"
      },
      "source": [
        "# **Getting Started with Google Colab**\n",
        "\n",
        "**Google Colab**, or “Colaboratory,” is a powerful tool for data science and machine learning. Here are some of its main features:\n",
        "\n",
        "* **Free Access to GPUs and TPUs:** Colab provides free access to powerful hardware accelerators, which can significantly speed up the training and inference of machine learning models.\n",
        "* **No Configuration Required:** You can write and execute Python code directly in your browser without needing to install any software.\n",
        "* **Collaborative Environment:** Colab notebooks are stored in Google Drive, making it easy to share and collaborate with others in real-time.\n",
        "* **Integration with Google Drive:** You can easily import and export data from your Google Drive, making data management straightforward.\n",
        "* **Rich Text and Code Cells:** Colab allows you to combine executable code with rich text, including images, HTML, LaTeX, and more, in a single document.\n",
        "* **Support for Popular Libraries:** Colab supports many popular Python libraries for data analysis and visualization, such as NumPy, pandas, and Matplotlib.\n",
        "* **Interactive Visualizations:** You can create interactive visualizations directly within your notebook, enhancing your data analysis and presentation.\n",
        "* **Easy Sharing and Collaboration:** You can share your notebooks with others, allowing them to comment or even edit them, facilitating teamwork and collaboration.\n",
        "\n",
        "In short, the Google COLAB notebook provides an excellent platform for teaching you computational biostatistics!"
      ]
    },
    {
      "cell_type": "markdown",
      "metadata": {
        "id": "kPbjRvZ6-C-p"
      },
      "source": [
        "## **The COLAB interface**\n",
        "\n",
        "The Google Colab notebook interface is designed to be user-friendly and efficient for coding, data analysis, and collaboration. Here are the main areas you’ll interact with:\n",
        "\n",
        "1. **Main Work Area:** The main area where you write and execute code (code cells) or add formatted text, images, and LaTeX (text cells).\n",
        "2. **Menu Bar:** Located at the top, it provides options for file management, editing, viewing, inserting cells, running code, and accessing tools and help.\n",
        "3. **Toolbar:** Just below the menu bar, it includes buttons for common actions like adding code or text cells, running cells, and stopping execution.\n",
        "4. **Code and Text Cells:**\n",
        "*  _Code Cells:_ Where you write and execute Python code. Each cell can be run independently, and the output is displayed directly below the cell.\n",
        "*  _Text Cells:_ Use Markdown to add formatted text, images, LaTeX equations, and more. Great for documentation and explanations.\n",
        "5. **Table of Contents:** A sidebar that helps you navigate through different sections of your notebook, making it easier to manage and organize your work.\n",
        "6. **File Browser:** Another sidebar that allows you to manage files and folders in your Google Drive, upload files, and access datasets.\n",
        "7. **Interactive Output:** When you run code cells, the output (such as graphs, tables, or text) is displayed directly below the cell, making it easy to see results immediately.\n",
        "Runtime Information: Displays details about the current runtime environment, including the type of hardware accelerator (CPU, GPU, TPU) and memory usage.\n",
        "\n"
      ]
    },
    {
      "cell_type": "markdown",
      "metadata": {
        "id": "YlzVTgir-C-q"
      },
      "source": [
        "## **Main Work Area**\n",
        "\n",
        "The area highlighted in red in the image below, is COLABs **main work area**.\n",
        "\n",
        "![____](https://biologicslab.co/BIO1173/images/module_1/class_01_image02A.png)\n",
        "\n",
        "The main work area in enables you to arrange documents (notebooks, text files, etc.) and other activities (terminals, code consoles, etc.) into panels of tabs that can be resized or subdivided. Drag a tab to the center of a tab panel to move the tab to the panel. Subdivide a tab panel by dragging a tab to the left, right, top, or bottom of the panel. The work area has a single current activity. The tab for the current activity is marked with a colored top border (blue by default)."
      ]
    },
    {
      "cell_type": "markdown",
      "metadata": {
        "jp-MarkdownHeadingCollapsed": true,
        "id": "KTHD40yU-C-q"
      },
      "source": [
        "## **Left Side Menu**\n",
        "\n",
        "The left menu in Google Colab provides several useful functions to help you manage your projects and files. Here are the main sections and their functions:\n",
        "\n",
        "* **Files:** This section allows you to upload, manage, and access files directly from your Google Drive or local system. You can also mount your Google Drive to access files stored there.\n",
        "* **Code Snippets:** This section provides a collection of pre-written code snippets that you can easily insert into your notebook. These snippets cover a wide range of tasks, from data manipulation to machine learning.\n",
        "* **Table of Contents:** This section helps you navigate through your notebook by providing a structured view of all the headings and sections. It’s especially useful for longer notebooks.\n",
        "* **Find and Replace:** This tool allows you to search for specific text within your notebook and replace it if needed.\n",
        "* **Terminal:** This feature provides access to a terminal where you can run shell commands directly within Colab\n",
        "\n",
        "The area highlighted in red shows the Left Side Menu.\n",
        "\n",
        "![____](https://biologicslab.co/BIO1173/images/module_1/class_01_image03A.png)\n"
      ]
    },
    {
      "cell_type": "markdown",
      "metadata": {
        "jp-MarkdownHeadingCollapsed": true,
        "id": "v09g8pxI-C-q"
      },
      "source": [
        "## **Top Menu Bar**\n",
        "\n",
        "The **icons** in the Google Colab top menu bar provide quick access to various functions that help you manage and interact with your notebook. Here are some of the key icons and their functions:\n",
        "\n",
        "* **File:** </br>\n",
        "&ensp; _New Notebook:_ Create a new Colab notebook. </br>\n",
        "&ensp; _Open Notebook:_ Open an existing notebook from Google Drive, GitHub, or your local system.</br>\n",
        "&ensp; _Save:_ Save the current notebook.</br>\n",
        "&ensp; _Download:_ Download the notebook in different formats (e.g., .ipynb, .py).</br>\n",
        "* **Edit:**</br>\n",
        "&ensp; _Undo/Redo:_ Undo or redo your last action.</br>\n",
        "&ensp; _Find and Replace:_ Search for specific text and replace it if needed.</br>\n",
        "* **View:**</br>\n",
        "&ensp; _Table of Contents:_ Toggle the table of contents sidebar.</br>\n",
        "&ensp; _Show/Hide Code:_ Show or hide code cells.</br>\n",
        "* **Insert:**</br>\n",
        "&ensp; _Code Cell:_ Insert a new code cell.</br>\n",
        "&ensp; _Text Cell:_ Insert a new text cell.</br>\n",
        "* **Runtime:**</br>\n",
        "&ensp; _Run All:_ Run all cells in the notebook.</br>\n",
        "&ensp; _Restart Runtime:_ Restart the runtime environment.</br>\n",
        "&ensp; _Change Runtime Type:_ Change the runtime environment (e.g., switch between CPU and GPU).</br>\n",
        "* **Tools:**</br>\n",
        "&ensp; _Settings:_ Access various settings for the notebook.</br>\n",
        "&ensp; _Command Palette:_ Access a list of commands and shortcuts.</br>\n",
        "* **Help:**</br>\n",
        "&ensp; _Documentation:_ Access Google Colab documentation.</br>\n",
        "&ensp; _Keyboard Shortcuts:_ View a list of keyboard shortcuts.</br>\n",
        "\n",
        "The Menu Bar is highlighted in red in the following image:\n",
        "\n",
        "![____](https://biologicslab.co/BIO1173/images/module_1/class_01_image04A.png)"
      ]
    },
    {
      "cell_type": "markdown",
      "metadata": {
        "id": "gtS1n9Fr-C-r"
      },
      "source": [
        "## **Cells**\n",
        "\n",
        "A COLAB notebook consists of cells. There are two types of cells:\n",
        "\n",
        "1. **Code:** Python code\n",
        "2. **Text:** Rendered text\n",
        "\n",
        "#### Code Cells\n",
        "\n",
        "* **Code Cells:** are where you write and execute Python code. Each cell can be run independently. To render a code cell, select the cell with your mouse and then press `Shift` + `Enter` (`cmd` + `Enter` on Mac) or press the play button (triangle icon) that appears at the upper left. The output is displayed directly below the cell.\n",
        "\n",
        "#### Text Cells\n",
        "\n",
        "* **Text cells:** contain text, equations and graphics. The text is written in a type of \"markup language\" called _Markdown_. The cell below shows what the text in the you are reading looks like before it is **rendered**. Rendering a markdown cell is the same as a code cell. Select the cell with your mouse and then press `Shift` + `Enter` (`cmd` + `Enter` on Mac) or press the play button (triangle icon). Normally, the text cells in your COLAB notebook have already been rendered."
      ]
    },
    {
      "cell_type": "markdown",
      "metadata": {
        "id": "qMMvGf0E-C-r"
      },
      "source": [
        "## **Code cells**\n",
        "\n",
        "A **code cell** contains actual code that you want to run. You can tell the difference between a text cell and a code cell by its color. Text cells are white while Code cells are slightly gray.\n",
        "\n",
        "The image below shows the first code cell in Lesson_01_1.\n",
        "\n",
        "![____](https://biologicslab.co/BIO1173/images/module_1/class_01_image05A.png)\n",
        "\n",
        "To receive full credit for your Python coding assignments, you must \"run\" **all** code cells. This is especially true of the first code cell. If you don't run the first code cell you will not receive any credit for the assignment.\n",
        "\n",
        "To \"run\" (execute) a code cell, simply click on white triange surrounded by a black circle at the upper left edge of the code cell (where the hand icon is pointing). The output from running the code cell will be shown immediately below the cell.\n",
        "\n",
        "You should expect to see several warnings when you run the first code cell. This first warning is shown in the next image.\n",
        "\n",
        "![____](https://biologicslab.co/STA1403/images/A01_Image_06.png)\n",
        "\n",
        "You can safely ignore this and the next few warnings. Simply select `Run Anyway`.\n",
        "\n",
        "When all the warning messages have been addressed, the first code cell will run as shown in the next image.\n",
        "\n",
        "![____](https://biologicslab.co/STA1403/images/A01_Image_12.png)\n",
        "\n",
        "The output from the first code cell is high-lighted in yellow. Note that the last line of the output is your GMail address which indicates the author of the Google COLAB notebook."
      ]
    },
    {
      "cell_type": "markdown",
      "metadata": {
        "id": "QAMYFfds-C-r"
      },
      "source": [
        "# **Writing and Running Python Code**\n",
        "\n",
        "The pedagological approach used to teach Python coding and statistical analysis is to present a code example paired with a code example. The code **_example_** shows the correct Python syntax for preforming a certain task or a series of related tasks. You must run (execute) each code example to see what the code does by looking at the output that appears immediately below the code cell. And then, using the code in example as a template, you are asked to complete a campanion **_exercise_**."
      ]
    },
    {
      "cell_type": "markdown",
      "metadata": {
        "id": "5pdDhwlt-C-r"
      },
      "source": [
        "### Example 1: Print out a message\n",
        "\n",
        "When you run the cell below, the message \"Hello World\" will appear below the cell."
      ]
    },
    {
      "cell_type": "code",
      "execution_count": null,
      "metadata": {
        "id": "6Lgjm5Sw-C-r"
      },
      "outputs": [],
      "source": [
        "# Example 1: Print out a string\n",
        "\n",
        "print(\"Hello World\")"
      ]
    },
    {
      "cell_type": "markdown",
      "metadata": {
        "id": "gq0NM09f-C-r"
      },
      "source": [
        "When you run a code cell, a program called the `Python Interpreter` parses ('looks at') each line of code. If the `Python Interpreter` understands the code, it will carry out the code's command. In this example, **Python** printed out the words `Hello, World` to your COLAB notebook immediately below the code cell. If the **Python** Interpreter doesn't understand the code -- perhaps you spelled the command `print` with a captial letter as `Print` -- **Python** will report an error and stop."
      ]
    },
    {
      "cell_type": "markdown",
      "metadata": {
        "id": "uRSE3j_C-C-r"
      },
      "source": [
        "### **Exercise 1: Print out a message**\n",
        "\n",
        "In the cell below, write the code that prints out the message \"Good-bye Cruel World\"."
      ]
    },
    {
      "cell_type": "code",
      "execution_count": null,
      "metadata": {
        "id": "3yR5twBT-C-r"
      },
      "outputs": [],
      "source": [
        "# Insert your code for Exercise 1 here\n",
        "\n"
      ]
    },
    {
      "cell_type": "markdown",
      "metadata": {
        "id": "CNpPlCO_-C-s"
      },
      "source": [
        "If your code is correct, you should see the following output:\n",
        "\n",
        "~~~text\n",
        "Good-bye Cruel World\n",
        "~~~\n",
        "\n",
        "Usually, you will be given what the correct output of an exercise should look like. By comparing your output to the correct output, you should be able to make any necessary changes to your code."
      ]
    },
    {
      "cell_type": "markdown",
      "metadata": {
        "id": "trbSJb3g-C-t"
      },
      "source": [
        "## **Finding Additional Resources**\n",
        "\n",
        "This lesson is only designed to get you started working with Google COLAB. You are **_strongly_** encouraged to find additional resources such as YouTube. The more you know about using COLAB, the easier you will find your coding assignments."
      ]
    },
    {
      "cell_type": "markdown",
      "metadata": {
        "id": "EN1DU_Eb-C-t"
      },
      "source": [
        "## **How to turn-in your completed COLAB notebook**\n",
        "\n",
        "When you have completed an assignment, you need to print out a copy of your COLAB notebook as a PDF. From the top menu select **File** -> **Print**. This will bring up a new `Print` dialog window as shown in the next image.\n",
        "\n",
        "![__](https://biologicslab.co/BIO1173/images/class_01/class_01_2_image02a.png)\n",
        "\n",
        "Under `Destination`, click on the downward triangle icon and select `Microsoft Print to PDF`. (NOTE: If your computer does not give you this \"Microsoft option\" you can select \"Save to PDF\" instead.)\n",
        "\n",
        "Name your PDF as `Class_01_1_lastname.pdf` where _lastname_ is your last name. Upload the PDF to Class_01_1 to Canvas for grading.\n",
        "\n",
        "**Remember, your Colab notebook should say `Copy of Class_01_1` at the top of the page.**"
      ]
    },
    {
      "cell_type": "markdown",
      "source": [
        "---------------------------------------------------\n",
        "\n",
        "## **Introduction to the Lizard's Tail**\n",
        "\n",
        "\n",
        "The last part of each lesson will be a section called **Lizard Tai**. As you may of may not know, some lizard's can \"amputate\" their tail without causing them any serious harm. Actually, this \"self-amputation\" is often beneficial as described below.\n",
        "\n",
        "So what does a Lizard Tail have to do with your Colab notebook? Well, a well known problem with Colab occurs when you print your notebook to create a PDF. In some cases there are no problems and the entire notebook is printed to the PDF. However, for reasons that are not entirely clear, Colab might not include the last part of your notebook in the PDF. That's where the Lizard Tail comes in. By adding this last section, the important part of your Colab notebook is included in the PDF even if some of it gets \"discarded\" by Colab.\n",
        "\n",
        "Do I need to know the contents of each Lizard Tail? The answer is NO. You are not required to learn this material. However, a genuine attempt has been made to include topics that you might find interesting if you are taking this course. So for those students who take the time to read these Lizard Tail's, ENJOY!\n",
        "\n",
        "P.S. ALl of the Lizard Tails have been copied from Wikipedia, so if you what to learn more about a particular topic, just go to [Wikipedia](https://www.wikipedia.org/)\n",
        "\n",
        "\n",
        "----------------------------------------------------\n",
        "\n",
        "## **Lizard's Tail**\n",
        "\n",
        "**Autotomy** (from the Greek auto-, \"self-\" and tome, \"severing\", αὐτοτομία) or 'self-amputation', is the behaviour whereby an animal sheds or discards an appendage, usually as a self-defense mechanism to elude a predator's grasp or to distract the predator and thereby allow escape. Some animals are able to regenerate the lost body part later. Autotomy is thought to have evolved independently at least nine times. The term was coined in 1883 by Leon Fredericq.\n",
        "\n",
        "[Severed Skink Tail Video](https://en.wikipedia.org/wiki/File:Severed_skink_tail.webm)\n",
        "\n",
        "Some lizards,salamandersand tuatara when caught by the tail will shed part of it in attempting to escape. In many species the detached tail will continue to wriggle, creating a deceptive sense of continued struggle, and distracting the predator's attention from the fleeing prey animal. In addition, many species of lizards, such as Plestiodon fasciatus, Cordylosaurus subtessellatus, Holaspis guentheri, Phelsuma barbouri, and Ameiva wetmorei, have elaborately colored blue tails which have been shown to divert predatory attacks toward the tail and away from the body and head. Depending upon the species, the animal may be able to partially regenerate its tail, typically over a period of weeks or months. Though functional, the new tail section often is shorter and will contain cartilage rather than regenerated vertebrae of bone, and in color and texture the skin of the regenerated organ generally differs distinctly from its original appearance. However, some salamanders can regenerate a morphologically complete and identical tail. Some reptiles, such as the Western fence lizard, develop split or branched tails after autotomy.\n",
        "\n",
        "**Mechanism**\n",
        "\n",
        "The technical term for this ability to drop the tail is 'caudal autotomy'. In most lizards that sacrifice the tail in this manner, breakage occurs only when the tail is grasped with sufficient force, but some animals, such as some species of geckos, can perform true autotomy, throwing off the tail when sufficiently stressed, such as when attacked by ants.\n",
        "\n",
        "Caudal autotomy in lizards takes two forms. In the first form, called intervertebral autotomy, the tail breaks between the vertebrae. The second form of caudal autotomy is intravertebral autotomy, in which there are zones of weakness, fracture planes across each vertebra in the mid-part of the tail. In this second type of autotomy the lizard contracts a muscle to fracture a vertebra, rather than break the tail between two vertebrae. Sphincter muscles in the tail then contract around the caudal artery to minimize bleeding. Another adaptation associated with intravertebral autotomy is that skin flaps fold over the wound at the site of autotomy to readily seal the wound, which can minimize infection at the autotomy site. Caudal autotomy is prevalent among lizards; it has been recorded in 13 of approximately 20 families."
      ],
      "metadata": {
        "id": "Cp0JG3TnKFKZ"
      }
    },
    {
      "cell_type": "code",
      "source": [],
      "metadata": {
        "id": "5qek_GtksxKL"
      },
      "execution_count": null,
      "outputs": []
    }
  ],
  "metadata": {
    "kernelspec": {
      "display_name": "Python 3 (ipykernel)",
      "language": "python",
      "name": "python3"
    },
    "language_info": {
      "codemirror_mode": {
        "name": "ipython",
        "version": 3
      },
      "file_extension": ".py",
      "mimetype": "text/x-python",
      "name": "python",
      "nbconvert_exporter": "python",
      "pygments_lexer": "ipython3",
      "version": "3.11.5"
    },
    "colab": {
      "provenance": [],
      "include_colab_link": true
    }
  },
  "nbformat": 4,
  "nbformat_minor": 0
}