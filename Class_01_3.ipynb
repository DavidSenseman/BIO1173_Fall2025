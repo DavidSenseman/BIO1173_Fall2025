{
  "cells": [
    {
      "cell_type": "markdown",
      "metadata": {
        "id": "view-in-github",
        "colab_type": "text"
      },
      "source": [
        "<a href=\"https://colab.research.google.com/github/DavidSenseman/BIO1173_Fall2025/blob/main/Class_01_3.ipynb\" target=\"_parent\"><img src=\"https://colab.research.google.com/assets/colab-badge.svg\" alt=\"Open In Colab\"/></a>"
      ]
    },
    {
      "cell_type": "markdown",
      "metadata": {
        "id": "h64gPAsSYYX4"
      },
      "source": [
        "---------------------------\n",
        "**COPYRIGHT NOTICE:** This Jupyterlab Notebook is a Derivative work of [Jeff Heaton](https://github.com/jeffheaton) licensed under the Apache License, Version 2.0 (the \"License\"); You may not use this file except in compliance with the License. You may obtain a copy of the License at\n",
        "\n",
        "> [http://www.apache.org/licenses/LICENSE-2.0](http://www.apache.org/licenses/LICENSE-2.0)\n",
        "\n",
        "Unless required by applicable law or agreed to in writing, software distributed under the License is distributed on an \"AS IS\" BASIS, WITHOUT WARRANTIES OR CONDITIONS OF ANY KIND, either express or implied. See the License for the specific language governing permissions and limitations under the License.\n",
        "\n",
        "------------------------"
      ]
    },
    {
      "cell_type": "markdown",
      "metadata": {
        "id": "5Ng3ZA8-YYX5"
      },
      "source": [
        "# **BIO 1173: Intro Computational Biology**\n",
        "\n",
        "## **Class_01_3: Lists, Dictionaries, Sets and JSON**"
      ]
    },
    {
      "cell_type": "markdown",
      "metadata": {
        "jp-MarkdownHeadingCollapsed": true,
        "id": "zCJNy1q4YYX5"
      },
      "source": [
        "##### **Module I: Getting Started with Python**\n",
        "\n",
        "* Instructor: [David Senseman](mailto:David.Senseman@utsa.edu), [Department of Biology, Health and the Environment](https://sciences.utsa.edu/bhe/), [UTSA](https://www.utsa.edu/)\n",
        "\n",
        "### Module 1 Material\n",
        "\n",
        "* Part 1.1: Introduction to Google CoLab\n",
        "* Part 1.2: Python Basics 1 -- Strings, Variables, Functions\n",
        "* **Part 1.3: Python Basics 3 -- Lists, Dictionaries, Sets and JSON**\n",
        "* Part 1.4: Python Basics 4 -- Conditionals and Loops\n",
        "* Part 1.5: Python Basics 5 -- Packages, NumPy arrays and Matplotlib\n",
        "* Part 1.6: Python Basics 6 -- Pandas and File Handling"
      ]
    },
    {
      "cell_type": "markdown",
      "metadata": {
        "id": "yKQylnEiLDUM"
      },
      "source": [
        "## Google CoLab Instructions\n",
        "\n",
        "You MUST run the following code cell to get credit for this class lesson. By running this code cell, you will map your GDrive to ```/content/drive``` and print out your Google GMAIL address. Your Instructor will use your GMAIL address to verify the author of this class lesson."
      ]
    },
    {
      "cell_type": "code",
      "execution_count": null,
      "metadata": {
        "id": "seXFCYH4LDUM"
      },
      "outputs": [],
      "source": [
        "# You must run this cell first\n",
        "try:\n",
        "    from google.colab import drive\n",
        "    drive.mount('/content/drive', force_remount=True)\n",
        "    from google.colab import auth\n",
        "    auth.authenticate_user()\n",
        "    COLAB = True\n",
        "    print(\"Note: Using Google CoLab\")\n",
        "    import requests\n",
        "    gcloud_token = !gcloud auth print-access-token\n",
        "    gcloud_tokeninfo = requests.get('https://www.googleapis.com/oauth2/v3/tokeninfo?access_token=' + gcloud_token[0]).json()\n",
        "    print(gcloud_tokeninfo['email'])\n",
        "except:\n",
        "    print(\"**WARNING**: Your GMAIL address was not printed in the output below.\")\n",
        "    print(\"**WARNING**: You will NOT receive credit for this lesson.\")\n",
        "    COLAB = False"
      ]
    },
    {
      "cell_type": "markdown",
      "source": [
        "If the code is correct, you should see something similar to the following output, but your GMAIL address will be printed out.\n",
        "~~~text\n",
        "Mounted at /content/drive\n",
        "Note: Using Google CoLab\n",
        "david.senseman@gmail.com\n",
        "~~~\n",
        "\n",
        "If your GMAIL address is not visible, your submission will not be graded.\n"
      ],
      "metadata": {
        "id": "xZEMEIyDMsXb"
      }
    },
    {
      "cell_type": "markdown",
      "metadata": {
        "id": "SXRI33ObYYX6"
      },
      "source": [
        "# **Python Basics 3 -- Lists, Dictionaries, Sets and JSON**\n",
        "\n",
        "Python includes **Lists**, **Sets**, **Dictionaries**, and other data structures as built-in types. The syntax appearance of both of these is similar to **JSON** which is discussed later in this module.\n",
        "\n",
        "This course will focus primarily on Lists, Sets, and Dictionaries. It is important to understand the differences between these three fundamental collection types.\n",
        "\n",
        "* **List** - A list is a mutable ordered collection that allows duplicate elements.\n",
        "* **Tuple** - A tuple is an immutable ordered collection that allows duplicate elements.\n",
        "* **Dictionary** - A dictionary is a mutable unordered collection that Python indexes with name and value pairs.\n",
        "* **Set** - A set is a mutable unordered collection with no duplicate elements.\n",
        "\n",
        "Most Python collections are mutable, meaning the program can add and remove elements after definition. One notable exception is a Python **tuple** which is an immutable collection which means that items cannot be added or removed after its definition.\n",
        "\n",
        "It is also essential to understand that an ordered collection means that items maintain their order as the program adds them to a collection. However, this order might not be any specific ordering, such as alphabetic or numeric.\n",
        "\n",
        "Lists and tuples are very similar in Python and are often confused. The significant difference is that a list is mutable, but a tuple isn’t. So, we include a list when we want to contain similar items and a tuple when we know what information goes into it ahead of time."
      ]
    },
    {
      "cell_type": "markdown",
      "metadata": {
        "id": "I3oEQHtOYYX6"
      },
      "source": [
        "## **Lists and Tuples**\n",
        "\n",
        "For a Python programmer, lists and tuples look very similar. Both lists and tuples hold an ordered collection of items. It is possible to get by as a programmer using only lists and ignoring tuples.\n",
        "\n",
        "The primary difference is that a list is enclosed by square braces `[ ]`, while a tuple is enclosed by parenthesis `( )`.\n",
        "\n",
        "The following code defines both list and tuple. The code below also illustrates that Python indexes lists starting at element `0`. Accessing element one modifies the second element in the collection. One advantage of `tuples` over `lists` is that `tuples` are generally slightly faster to iterate over than `lists`."
      ]
    },
    {
      "cell_type": "markdown",
      "metadata": {
        "tags": [],
        "id": "P5IWgnpqYYX6"
      },
      "source": [
        "### Example 1:  Create a list called `myList`\n",
        "\n",
        "The code in the cell below uses square brackets `[ ]` to create a list called `myList`. (Note: `list` is a Python **reserved word** so don't use it a variable name without adding something to it)."
      ]
    },
    {
      "cell_type": "code",
      "execution_count": null,
      "metadata": {
        "id": "DtpdY0-EYYX7"
      },
      "outputs": [],
      "source": [
        "# Example 1: Create a list\n",
        "\n",
        "# Use square brackets to create a list\n",
        "myList = ['a', 'b', 'c', 'd']\n",
        "\n",
        "# Print output\n",
        "print(myList)"
      ]
    },
    {
      "cell_type": "markdown",
      "source": [
        "If the code is correct, you should see the following output:\n",
        "~~~text\n",
        "['a', 'b', 'c', 'd']\n",
        "~~~\n",
        "\n",
        "The square brackets tells you that this is Python `list`."
      ],
      "metadata": {
        "id": "QnltMAvYo0tF"
      }
    },
    {
      "cell_type": "markdown",
      "metadata": {
        "id": "lxLhg92zYYX7"
      },
      "source": [
        "### **Exercise 1: Create a tuple called `myTuple`**\n",
        "\n",
        "In the cell below use parentheses `( )` to create a tuple called `myTuple` with the letters `A`, `B`, `C` and `D`. (Note: `tuple` is a Python reserved word so don't use it a variable name without adding something to it)."
      ]
    },
    {
      "cell_type": "code",
      "execution_count": null,
      "metadata": {
        "id": "O6ITpVbpYYX7"
      },
      "outputs": [],
      "source": [
        "# Insert your code for Exercise 1 here\n",
        "\n",
        "\n"
      ]
    },
    {
      "cell_type": "markdown",
      "source": [
        "If the code is correct, you should see the following output but perhaps in a different order:\n",
        "~~~text\n",
        "('A', 'B', 'C', 'D')\n",
        "~~~\n",
        "\n",
        "The parantheses tells you that this is Python `tuple`."
      ],
      "metadata": {
        "id": "l1PDnCBUp4v1"
      }
    },
    {
      "cell_type": "markdown",
      "metadata": {
        "tags": [],
        "id": "hgllRHSEYYX7"
      },
      "source": [
        "### Example 2: Change the contents of `myList`\n",
        "\n",
        "As mentioned above, a `list` is mutable, which means its contents can be changed after it has been created.\n",
        "\n",
        "The code in the cell below demonstrates that the program can change a list. This example uses square bracket`[ ]` indexing to change the second element in `myLis`. (Remember: Python starts counting sequences at 0.)\n"
      ]
    },
    {
      "cell_type": "code",
      "execution_count": null,
      "metadata": {
        "id": "IkthoizhYYX7"
      },
      "outputs": [],
      "source": [
        "# Example 2: Change contents of myList\n",
        "\n",
        "# Second the second element\n",
        "myList[1] = 'Z'\n",
        "\n",
        "# Print output\n",
        "print(myList)"
      ]
    },
    {
      "cell_type": "markdown",
      "source": [
        "If the code is correct, you should see the following output but perhaps in a different order:\n",
        "~~~text\n",
        "\n",
        "['a', 'Z', 'c', 'd']\n",
        "~~~\n",
        "\n",
        "This demonstrates that a program can change the contents of a `list` after it has been created."
      ],
      "metadata": {
        "id": "y_ETFWweq23y"
      }
    },
    {
      "cell_type": "markdown",
      "metadata": {
        "id": "uq8Azu7gYYX7"
      },
      "source": [
        "### **Exercise 2: Change the contents of `myTuple`**\n",
        "\n",
        "As mentioned above, a `tuple` is **immutable**, which means its contents can not be changed after it has been created.\n",
        "\n",
        "Using Example 2 as a template. write the code in the cell below to change the second element in `myTuple` to letter Z."
      ]
    },
    {
      "cell_type": "code",
      "execution_count": null,
      "metadata": {
        "id": "cMB0O3EbYYX7"
      },
      "outputs": [],
      "source": [
        "# Insert your code for Exercise 2 here\n",
        "\n"
      ]
    },
    {
      "cell_type": "markdown",
      "metadata": {
        "id": "s9rCUyLpYYX7"
      },
      "source": [
        "If your code is correct, you should see the following error message:\n",
        "\n",
        "![___](https://biologicslab.co/BIO1173/images/module_01/class_01_3_image01.png)\n",
        "\n",
        "As expected, Python will generate an error if you try to change the contents of `tuple` after it has been created. In other words, a `tuple` is immutable.\n"
      ]
    },
    {
      "cell_type": "markdown",
      "source": [
        "## **Difference Between List and Tuple**\n",
        "\n",
        "For a Python program, lists and tuples are very similar. Both lists and tuples hold an ordered collection of items. It is possible to get by as a programmer using only lists and ignoring tuples.\n",
        "\n",
        "The primary difference that you will see syntactically is that a list is enclosed by square braces `[ ]`, and a tuple is enclosed by parenthesis `( )`."
      ],
      "metadata": {
        "id": "AiYv8Pr7tGrW"
      }
    },
    {
      "cell_type": "code",
      "source": [
        "# Run this example\n",
        "\n",
        "myList = ['a', 'b', 'c', 'd']\n",
        "myTuple = ('a', 'b', 'c', 'd')\n",
        "\n",
        "print(f\"This is a Python list: {myList}\")\n",
        "print(f\"This is a Python tuple: {myTuple}\")"
      ],
      "metadata": {
        "id": "d4K5c7ootU8G"
      },
      "execution_count": null,
      "outputs": []
    },
    {
      "cell_type": "markdown",
      "source": [
        "\n",
        "If the code is correct you should see the following out:\n",
        "\n",
        "~~~text\n",
        "This is a Python list: ['a', 'b', 'c', 'd']\n",
        "This is a Python tuple: ('a', 'b', 'c', 'd')\n",
        "~~~\n"
      ],
      "metadata": {
        "id": "feut6OIRtYl3"
      }
    },
    {
      "cell_type": "markdown",
      "source": [
        "## **Python Dictionaries**\n",
        "\n",
        "A Python **dictionary** or **`dict`** is a mutable unordered collection of key/value pairs. A mutable data type in Python is a type of object whose value can be changed after it is created. It means that you can modify, add, or remove elements within the object without creating a new instance of it.\n",
        "\n",
        "For example, lists (`list`) and dictionaries (`dict`) in Python are mutable data types. You can change the elements of a list or update the key-value pairs of a dictionary without creating a new list or dictionary. An important aspect of mutability is that if you have multiple references to the same mutable object, any modifications made to the object will be reflected in all the references.\n",
        "\n",
        "In contrast, immutable data types like strings (`str`), tuples (`tuple`), and numbers (`int`, `float`) cannot be changed after they are created. If you want to modify these types, you need to create a new instance with the desired changes.\n",
        "\n",
        "Like other collection types, `dict` can be called with a collection argument to create a dictionary with the elements of the argument. However, those elements must be tuples or lists of two elements — a key and a value. Dictionaries are enclosed within curly braces `{ }`, and each item is separated by a comma. The key-value pairs in a dictionary are separated by a colon `:`."
      ],
      "metadata": {
        "id": "Y9rofAI-vPF0"
      }
    },
    {
      "cell_type": "markdown",
      "metadata": {
        "id": "TZAiYHIdYYX8"
      },
      "source": [
        "### Example 3: Create a dict called `DNABaseDict`\n",
        "\n",
        "The code in the cell below uses Python's `dict()` function to create a dictionary called `DNABaseDict`.\n",
        "\n",
        "The dictionary's keys are the single-letter abbreviation of the four bases in DNA. Each key has an associated value which is the name of the base. The key/value pairs in this example are contained in a list since they are defined using square brackets `[  ]`."
      ]
    },
    {
      "cell_type": "code",
      "execution_count": null,
      "metadata": {
        "id": "GPyG5_k_YYX8"
      },
      "outputs": [],
      "source": [
        "# Example 3: Multiple two integers\n",
        "\n",
        "# create dict using dict() function\n",
        "DNABaseDict = dict((['A', 'adenine'],\n",
        "                    ['C', 'cytosine'],\n",
        "                    ['G', 'guanine'],\n",
        "                    ['T', 'thymine']\n",
        "                   ))\n",
        "\n",
        "# Print out the dictionary\n",
        "DNABaseDict"
      ]
    },
    {
      "cell_type": "markdown",
      "metadata": {
        "id": "aD-rrL7zYYX8"
      },
      "source": [
        "If the code is correct, you should see the following output:\n",
        "\n",
        "~~~text\n",
        "{'A': 'adenine', 'C': 'cytosine', 'G': 'guanine', 'T': 'thymine'}\n",
        "~~~\n",
        "\n",
        "The curly braces `{ }` tells you that this is a Python dictionary. This particular dictionary contains 4 `key/value` pairs with a colon `:` separating each `key` from its corresponding `value`."
      ]
    },
    {
      "cell_type": "markdown",
      "metadata": {
        "tags": [],
        "id": "fl1S_5ldYYX8"
      },
      "source": [
        "### **Exercise 3: Create a dict called `RNABaseDict`**\n",
        "\n",
        "In the cell below use Python's `dict()` function to create a dictionary called `RNABaseDict`. The dictionary's `keys` should be the single-letter abbreviations of the four RNA nitrogenous bases with the correspondong `value` being the name of the base. Print out the RNABaseDict.\n",
        "\n",
        "You should already know the four nitrogenous bases in RNA. If you don't, you can \"Google\" it."
      ]
    },
    {
      "cell_type": "code",
      "execution_count": null,
      "metadata": {
        "id": "zNcnrqhCYYX8"
      },
      "outputs": [],
      "source": [
        "# Insert your code for Exercise 3 here\n",
        "\n"
      ]
    },
    {
      "cell_type": "markdown",
      "metadata": {
        "id": "4157cL9exc1T"
      },
      "source": [
        "If the code is correct, you should see the following output:\n",
        "\n",
        "~~~text\n",
        "{'A': 'adenine', 'C': 'cytosine', 'G': 'guanine', 'U': 'uracil'}\n",
        "~~~"
      ]
    },
    {
      "cell_type": "markdown",
      "source": [
        "----------------------------\n",
        "\n",
        "### **Why the curly braces `{ }`?**\n",
        "\n",
        "Even though parentheses `( )` were used to define the `DNABaseDict` dictionary in Example 3, Python printed out this dictionary using curly braces `{ }`.\n",
        "\n",
        "> **So why the curly braces?**\n",
        "\n",
        "Because they are so frequently used, Python provides a notation for dictionaries that is similar to `sets`: a comma-separated list of `key/value` pairs enclosed in curly braces `{ }`. Within the braces, a colon `:` is used to separate each `key/value` pair. When Python prints out a dictionary, it uses the curly brace format.\n",
        "\n",
        "\n",
        "----------------------------"
      ],
      "metadata": {
        "id": "9GZwgkkVxs6n"
      }
    },
    {
      "cell_type": "markdown",
      "metadata": {
        "tags": [],
        "id": "9-JUFIGTYYX8"
      },
      "source": [
        "### Example 4: Create `dnaBaseDict` using curly braces `{ }`\n",
        "\n",
        "As explained above, you can also create a Python dictionary using curly braces `{ }`. The cell below shows how to create a dictionary called `dnaBaseDict` using curly braces. This dictionary is similar to `DNABaseDict` created in Example 2 except that lower case letters are used for the keys."
      ]
    },
    {
      "cell_type": "code",
      "execution_count": null,
      "metadata": {
        "id": "bwKC7JAFYYX8"
      },
      "outputs": [],
      "source": [
        "# Example 4: Create dictionary using {}\n",
        "\n",
        "# Create dictionary using curly braces\n",
        "dnaBaseDict = {'a': 'adenine', 't': 'thymine', 'g': 'guanine',  'c': 'cytosine'}\n",
        "\n",
        "# Print out the dictionary\n",
        "dnaBaseDict"
      ]
    },
    {
      "cell_type": "markdown",
      "metadata": {
        "id": "tenoC-upYYX8"
      },
      "source": [
        "If the code is correct, you should see the following output but perhaps in a different order:\n",
        "\n",
        "~~~text\n",
        "{'a': 'adenine', 't': 'thymine', 'g': 'guanine', 'c': 'cytosine'}\n",
        "~~~"
      ]
    },
    {
      "cell_type": "markdown",
      "metadata": {
        "tags": [],
        "id": "eEhkGamXYYX8"
      },
      "source": [
        "### **Exercise 4: Create `rnaBaseDict` using curly braces `{ }`**\n",
        "\n",
        "In the cell below create a dictionary called `rnaBaseDict` using curly braces. Use lower case letters for the `keys`."
      ]
    },
    {
      "cell_type": "code",
      "execution_count": null,
      "metadata": {
        "id": "8lL_Sz9dYYX8"
      },
      "outputs": [],
      "source": [
        "# Insert your code for Exercise 4 here\n",
        "\n"
      ]
    },
    {
      "cell_type": "markdown",
      "metadata": {
        "id": "ZBGFj5zozQAI"
      },
      "source": [
        "If the code is correct, you should see the following output but perhaps in a different order:\n",
        "\n",
        "~~~text\n",
        "{'a': 'adenine', 'c': 'cytosine', 'g': 'guanine', 'u': 'uracil'}\n",
        "~~~"
      ]
    },
    {
      "cell_type": "markdown",
      "source": [
        "-------------------------------\n",
        "\n",
        "### **Unique Keys**\n",
        "\n",
        "The keys of a mapping must be **unique** within the collection, because the dictionary has no way to distinguish different values indexed by the same key.\n",
        "\n",
        "--------------------------------"
      ],
      "metadata": {
        "id": "ZemCAKm9zapL"
      }
    },
    {
      "cell_type": "markdown",
      "source": [
        "## **Python Sets**\n",
        "\n",
        "A Python **set** is an _unordered_  collection of items that contains no duplicates. As we will see, if you try to add an item that is already in a set, nothing happens.\n",
        "\n",
        "Since strings behave as collections, a string can be used as the argument for a call to set. The resulting set will contain a **single-character string** for each unique character that appears in the argument. The order in which the elements of a set are printed will not necessarily bear any relation to the order in which they were added."
      ],
      "metadata": {
        "id": "RTXoGCblzsQ7"
      }
    },
    {
      "cell_type": "markdown",
      "metadata": {
        "tags": [],
        "id": "rxqdnDOpYYX9"
      },
      "source": [
        "### Example 5: Create a Set called `DNABases_set`\n",
        "\n",
        "The code below shows how to create a set of single-character strings called `DNABase_set` using curly braces `{ }`."
      ]
    },
    {
      "cell_type": "code",
      "execution_count": null,
      "metadata": {
        "id": "Mhai0s19YYX9"
      },
      "outputs": [],
      "source": [
        "# Example 5: Create set\n",
        "\n",
        "# Create a set called DNABases_set\n",
        "DNABases_set = {'T', 'C', 'A', 'G'}\n",
        "\n",
        "# Print DNABases_set\n",
        "print(DNABases_set)"
      ]
    },
    {
      "cell_type": "markdown",
      "metadata": {
        "id": "veEndcRvYYX9"
      },
      "source": [
        "If the correct is correct, you should see the following output but perhaps in a different order:\n",
        "\n",
        "~~~text\n",
        "{'T', 'A', 'C', 'G'}\n",
        "~~~\n",
        "You should notice two things. First our `set` is **not** the string \"TCAG', but a collection of 4 single-character strings (\"letters\"), `A`, `C`, `G` and `T`.\n",
        "\n",
        "Second, the order in the \"letters\" when we created the set (`TCAG`) may, or may not, be preserved.\n",
        "\n",
        "Also, a set is an _unordered_  collection. If you tried to use square brackets `[ ]` to index an item in a set, you would get the error message: `set object is not subscriptable`."
      ]
    },
    {
      "cell_type": "markdown",
      "metadata": {
        "id": "S-Tc3C0IYYX9"
      },
      "source": [
        "### **Exercise 5: Create a Set called `RNABases_set`**\n",
        "\n",
        "In the cell below, create a new set called `RNABases_set` and print it out. Remember that in RNA the base `uracil` substitutes for the DNA base `thymine`."
      ]
    },
    {
      "cell_type": "code",
      "execution_count": null,
      "metadata": {
        "id": "Vk7y7BshYYX9"
      },
      "outputs": [],
      "source": [
        "# Insert your code for Exercise 5 here\n",
        "\n"
      ]
    },
    {
      "cell_type": "markdown",
      "metadata": {
        "id": "jkGCykNJYYYA"
      },
      "source": [
        "If your code is correct, you should see the following output but perhaps in a different order:\n",
        "\n",
        "~~~text\n",
        "{'U', 'A', 'C', 'G'}\n",
        "~~~"
      ]
    },
    {
      "cell_type": "markdown",
      "metadata": {
        "id": "KTktsvwYYYYA"
      },
      "source": [
        "### Example 6: Algebraic set operations - Union\n",
        "\n",
        "In Python there are a number of operations and functions that work on different collection types such as sets. In this example, we show one example of an operation called `union`.\n",
        "\n",
        "The \"adding\" of one set with another is called the **union of the two sets**. In Python, you can use the `|` operator to create a union of two sets as shown in the next cell."
      ]
    },
    {
      "cell_type": "code",
      "execution_count": null,
      "metadata": {
        "id": "n3vB9UfhYYYA"
      },
      "outputs": [],
      "source": [
        "# Example 6: Union of 2 sets\n",
        "\n",
        "# Create a new set called AddBases_set\n",
        "AddBases_set =  {'X', 'Y', 'Z', 'U', 'U', 'A','A'}\n",
        "\n",
        "# Use | to create union\n",
        "RNABases_set_union = RNABases_set | AddBases_set\n",
        "\n",
        "# Print the new set\n",
        "print(RNABases_set_union)\n"
      ]
    },
    {
      "cell_type": "markdown",
      "metadata": {
        "id": "T-o2T4uDYYYA"
      },
      "source": [
        "If the code is correct, you should see the following output but perhaps in a different order:\n",
        "\n",
        "~~~text\n",
        "{'Z', 'X', 'C', 'U', 'G', 'Y', 'A'}\n",
        "~~~\n",
        "\n",
        "Notice that when we add the two sets together, only the letters `X`, `Y`, and `Z` were added to `RNABases_set`, not the additional `Us` and `As`.\n",
        "\n",
        "> **Why?**\n",
        "\n",
        "Because every element in a set must be unique. Since our original `RNABases_set` already contained the letters `U` and `A`, they were not added, only the new letters, `X`, `Y` and `Z`. In other words, a set can only contain **one example of each element**.\n",
        "\n",
        "**NOTE:** In order for this example to run correctly, you must have successfully completed **Exercise 5** above."
      ]
    },
    {
      "cell_type": "markdown",
      "metadata": {
        "id": "b9iN8s5FYYYA"
      },
      "source": [
        "### **Exercise 6: Try to create a set with duplicated items**\n",
        "\n",
        "Because each element in a set must be unique, when you try to create a set with duplicated items, you don't get an error, but only one item will be added to the set.\n",
        "\n",
        "In the cell below, create a set called `RNABases_set2` with {'U', 'A', 'A', 'G', 'U', 'C', 'C'} and then print out the set."
      ]
    },
    {
      "cell_type": "code",
      "execution_count": null,
      "metadata": {
        "id": "bRk7YQWkYYYA"
      },
      "outputs": [],
      "source": [
        "# Insert your code for Exercise 6 here\n",
        "\n"
      ]
    },
    {
      "cell_type": "markdown",
      "metadata": {
        "id": "6ymosOw7YYYA"
      },
      "source": [
        "If your code is correct, you should see the following output but perhaps in a different order:\n",
        "\n",
        "~~~text\n",
        "{'U', 'A', 'G', 'C'}\n",
        "~~~\n",
        "\n",
        "The new `RNABase_set2` only contains one example of each item."
      ]
    },
    {
      "cell_type": "markdown",
      "metadata": {
        "id": "5ucexCCkYYYA"
      },
      "source": [
        "### Example 7: Algebraic set operations - Intersection\n",
        "\n",
        "Another algebraic set operation is **intersection**.\n",
        "\n",
        "The cell below uses the `&` operator to find the intersection of two sets."
      ]
    },
    {
      "cell_type": "code",
      "execution_count": null,
      "metadata": {
        "id": "Chr1Mt0vYYYA"
      },
      "outputs": [],
      "source": [
        "# Example 7: Set intersection using & operator\n",
        "\n",
        "# Create 2 sets using curly braces\n",
        "let1_set = {'a','b','c','d','e'}\n",
        "let2_set = {'c','d','e','f','g'}\n",
        "\n",
        "# Use `&` to find their intersection\n",
        "let_set_intersection = let1_set & let2_set\n",
        "\n",
        "# Print out the intersection\n",
        "print(let_set_intersection)\n"
      ]
    },
    {
      "cell_type": "markdown",
      "metadata": {
        "id": "n6zY4y7DYYYA"
      },
      "source": [
        "If the code is correct, you should see the following output but perhaps in a different order:\n",
        "\n",
        "~~~text\n",
        "{'e', 'c', 'd'}\n",
        "~~~\n",
        "\n",
        "Set intersection is the set of elements that **both sets have in common**. In this example, only the letters `c`, `d` and `e` were contained in both sets."
      ]
    },
    {
      "cell_type": "markdown",
      "metadata": {
        "id": "R8wc_gFmYYYA"
      },
      "source": [
        "### **Exercise 7: Algebraic set operations - Intersection**\n",
        "\n",
        "In Example 7, set intersection was found using the `&` operator. Python also offers the `intersection()` method for accomplishing the same thing. In the cell below, use the `intersection()` method to find the intersection between the same two sets, `let1_set` and `let2_set` used in Example 7.\n",
        "\n",
        "(**HINT:** The use of Python **methods** was covered in Class_01_02. Methods are called using **dot notation**. In this case, the `intersection()` method is attached (by the dot) to the first set and its argument is the second set.)"
      ]
    },
    {
      "cell_type": "code",
      "execution_count": null,
      "metadata": {
        "id": "IMpAvZEqYYYA"
      },
      "outputs": [],
      "source": [
        "# Insert your code for Exercise 7 here\n",
        "\n",
        "\n"
      ]
    },
    {
      "cell_type": "markdown",
      "metadata": {
        "id": "5lggK1w_6EXW"
      },
      "source": [
        "If your code is correct, you should see the following output but perhaps in a different order:\n",
        "\n",
        "~~~text\n",
        "{'e', 'c', 'd'}\n",
        "~~~\n"
      ]
    },
    {
      "cell_type": "markdown",
      "metadata": {
        "id": "PUphlCJzYYYA"
      },
      "source": [
        "### Example 8: Use `add()` method with sets\n",
        "\n",
        "A `list` is always enclosed in square braces `[ ]`, a `tuple` in parenthesis `( )`, and similarly a `set` is enclosed in curly braces `{ }`.\n",
        "\n",
        "Programs can add items to a `set` as they run. Programs can dynamically add items to a `set` with the **add function**. However, to add an item to a `list` you must use instead the **append function**.\n",
        "\n",
        "In other words, items are added to `sets` using the **add function** while items are added to `lists` using the **append function**."
      ]
    },
    {
      "cell_type": "code",
      "execution_count": null,
      "metadata": {
        "id": "IxtJG27eYYYB"
      },
      "outputs": [],
      "source": [
        "# Example 8: Use add() method\n",
        "\n",
        "# Create a new empty set called mySet\n",
        "mySet = set()\n",
        "\n",
        "# Add letter `a` to the empty set\n",
        "mySet.add('a')\n",
        "\n",
        "# Keeping adding letters to the set\n",
        "mySet.add('b')\n",
        "mySet.add('c')\n",
        "\n",
        "# Try to add a duplicate letter `c`\n",
        "mySet.add('c')\n",
        "\n",
        "# Print out the set\n",
        "print(mySet)\n"
      ]
    },
    {
      "cell_type": "markdown",
      "metadata": {
        "id": "nOW8jQcrYYYB"
      },
      "source": [
        "If the code is correct, you should see the following output but perhaps in a different order:\n",
        "\n",
        "~~~text\n",
        "{'a', 'b', 'c'}\n",
        "~~~\n",
        "\n",
        "Sets can only contain unique items so there is only one `c` in the final set."
      ]
    },
    {
      "cell_type": "markdown",
      "metadata": {
        "id": "J2mldzdYYYYB"
      },
      "source": [
        "### **Exercise 8: Use `append()` method with lists**\n",
        "\n",
        "While programs can dynamically add items to a `set` with the `add( )` method you must use the `append( )` method to add items to a `list`.\n",
        "\n",
        "In the cell below use the `append( )` method function to adds item to a list called `myList` using Example 8 as a template."
      ]
    },
    {
      "cell_type": "code",
      "execution_count": null,
      "metadata": {
        "id": "A-6b3Td1YYYB"
      },
      "outputs": [],
      "source": [
        "# Insert your code for Exercise 8 here\n",
        "\n",
        "\n"
      ]
    },
    {
      "cell_type": "markdown",
      "metadata": {
        "id": "Cbg8o163YYYB"
      },
      "source": [
        "If your code is correct you should see the following list but perhaps in a different order:\n",
        "\n",
        "~~~text\n",
        "['a', 'b', 'c', 'c']\n",
        "~~~\n",
        "\n",
        "Lists (but not sets) can contain duplicate items so the letter `c` appears twice in this list."
      ]
    },
    {
      "cell_type": "markdown",
      "metadata": {
        "id": "AC45JMV2YYYB"
      },
      "source": [
        "## **JSON (JavaScript Object Notation)**\n",
        "\n",
        "Data stored in a comma separated variable (CSV) file must be flat. In a flat file, all the data must fit neatly into rows and columns.\n",
        "\n",
        "Here is an example of data stored in a flat, CSV file:\n",
        "\n",
        "![__](https://biologicslab.co/BIO1173/images/module_01/class_01_3_image02.png)\n",
        "\n",
        "Most people refer to this type of data as structured or **tabular**. This data is tabular because the number of columns is the same for every row. Individual rows may be missing a value for a column but these rows still have the same number of columns. Tabular data is convenient for machine learning because most models, such as neural networks, also expect incoming data to be of fixed dimensions.\n",
        "\n",
        "On the other hand, real-world information is not always so tabular. This is where **JSON** comes in. Instead of being tubular, **JavaScript Object Notation (JSON)** is a standard file format that stores data in a hierarchical format similar to **eXtensible Markup Language (XML)**.\n",
        "\n",
        "JSON is nothing more than a hierarchy of lists and dictionaries. Programmers refer to this sort of data as semi-structured data or hierarchical data.\n",
        "\n",
        "The following is a sample JSON file. Even though this isn't Python code, Python is able to run it!"
      ]
    },
    {
      "cell_type": "code",
      "source": [
        "# JASON example. RUN THIS CELL\n",
        "{\n",
        "    \"glossary\": {\n",
        "        \"title\": \"example glossary\",\n",
        "\t\t\"GlossDiv\": {\n",
        "            \"title\": \"S\",\n",
        "\t\t\t\"GlossList\": {\n",
        "                \"GlossEntry\": {\n",
        "                    \"ID\": \"SGML\",\n",
        "\t\t\t\t\t\"SortAs\": \"SGML\",\n",
        "\t\t\t\t\t\"GlossTerm\": \"Standard Generalized Markup Language\",\n",
        "\t\t\t\t\t\"Acronym\": \"SGML\",\n",
        "\t\t\t\t\t\"Abbrev\": \"ISO 8879:1986\",\n",
        "\t\t\t\t\t\"GlossDef\": {\n",
        "                        \"para\": \"A meta-markup language.\",\n",
        "\t\t\t\t\t\t\"GlossSeeAlso\": [\"GML\", \"XML\"]\n",
        "                    },\n",
        "\t\t\t\t\t\"GlossSee\": \"markup\"\n",
        "                }\n",
        "            }\n",
        "        }\n",
        "    }\n",
        "}"
      ],
      "metadata": {
        "id": "lk9m79Kv-TnB"
      },
      "execution_count": null,
      "outputs": []
    },
    {
      "cell_type": "markdown",
      "source": [
        "If the code is correct, you should see the following output:\n",
        "\n",
        "~~~text\n",
        "{'glossary': {'title': 'example glossary',\n",
        "  'GlossDiv': {'title': 'S',\n",
        "   'GlossList': {'GlossEntry': {'ID': 'SGML',\n",
        "     'SortAs': 'SGML',\n",
        "     'GlossTerm': 'Standard Generalized Markup Language',\n",
        "     'Acronym': 'SGML',\n",
        "     'Abbrev': 'ISO 8879:1986',\n",
        "     'GlossDef': {'para': 'A meta-markup language.',\n",
        "      'GlossSeeAlso': ['GML', 'XML']},\n",
        "     'GlossSee': 'markup'}}}}}\n",
        "~~~~\n",
        "\n",
        "A data scientist will generally encounter **JSON** when they access web services to get their data."
      ],
      "metadata": {
        "id": "Gh2ttPBa-anC"
      }
    },
    {
      "cell_type": "markdown",
      "metadata": {
        "id": "ZAI6mJyhYYYC"
      },
      "source": [
        "## **Lesson Turn-in**\n",
        "\n",
        "When you have completed and run all of the code cells, use the **File --> Print.. --> Save to PDF** to generate a PDF of your Colab notebook. Save your PDF as `Class_01_3.lastname.pdf` where _lastname_ is your last name, and upload the file to Canvas."
      ]
    },
    {
      "cell_type": "markdown",
      "source": [
        "-------------------------------------------------\n",
        "\n",
        "## **Lizard Tail**\n",
        "\n",
        "The topic for the **Lizard Tail** lesson is the meaning of the \"Poly A Tail\" from the study of molecular genetics.\n",
        "\n",
        "## **Poly A Tail in Molecular Genetics**\n",
        "\n",
        "\n",
        "![__](https://biologicslab.co/BIO1173/images/module_01/class_01_3_image03.png)\n",
        "\n",
        "#### What is the Poly A Tail?\n",
        "The **poly A tail** is a long chain of adenine nucleotides (A's) added to the 3' end of a messenger RNA (mRNA) molecule during RNA processing. This process, known as **polyadenylation**, involves the enzyme **poly-A polymerase**. The poly A tail typically consists of 100-250 adenine residues.\n",
        "\n",
        "#### Function\n",
        "The primary functions of the poly A tail include:\n",
        "1. **Stability**: It protects the mRNA from enzymatic degradation in the cytoplasm, increasing its stability.\n",
        "2. **Nuclear Export**: It aids in the export of the mRNA from the nucleus to the cytoplasm, where it can be translated into a protein.\n",
        "3. **Translation Efficiency**: It enhances the translation efficiency of the mRNA by ribosomes.\n",
        "4. **Transcription Termination**: It plays a role in the termination of transcription.\n",
        "\n",
        "#### Discovery\n",
        "The discovery of the poly A tail is attributed to several researchers in the 1970s. Notably, **Richard J. Roberts** and **Phillip Sharp** independently discovered introns and the process of RNA splicing, which also contributed to understanding mRNA processing, including polyadenylation.\n",
        "\n",
        "Richard J. Roberts was working at the **Cold Spring Harbor Laboratory** on Long Island, New York, when he made his discovery. Phillip A. Sharp was at the **Massachusetts Institute of Technology (MIT)** in Cambridge, Massachusetts.\n",
        "\n",
        "Their independent discoveries of split genes and RNA splicing in 1977 were groundbreaking and earned them the Nobel Prize in Physiology or Medicine in 1993\n",
        "\n",
        "#### Importance\n",
        "\n",
        "The poly A tail is crucial for gene expression and regulation. It ensures that mRNA molecules are stable enough to be translated into proteins, which is essential for the proper functioning of cells. Additionally, the length of the poly A tail can influence the lifespan of the mRNA and, consequently, the level of protein production.\n",
        "\n",
        "In summary, the poly A tail is a vital component of mRNA that enhances its stability, aids in its export from the nucleus, and improves translation efficiency, playing a key role in gene expression and regulation.\n",
        "\n",
        "--------------------------------------\n"
      ],
      "metadata": {
        "id": "nhJj0brmBrgY"
      }
    },
    {
      "cell_type": "code",
      "source": [],
      "metadata": {
        "id": "eL6s5cud-U9k"
      },
      "execution_count": null,
      "outputs": []
    }
  ],
  "metadata": {
    "kernelspec": {
      "display_name": "Python 3 (ipykernel)",
      "language": "python",
      "name": "python3"
    },
    "language_info": {
      "codemirror_mode": {
        "name": "ipython",
        "version": 3
      },
      "file_extension": ".py",
      "mimetype": "text/x-python",
      "name": "python",
      "nbconvert_exporter": "python",
      "pygments_lexer": "ipython3",
      "version": "3.11.5"
    },
    "colab": {
      "provenance": [],
      "include_colab_link": true
    }
  },
  "nbformat": 4,
  "nbformat_minor": 0
}