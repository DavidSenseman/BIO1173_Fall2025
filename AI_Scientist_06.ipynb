{
  "nbformat": 4,
  "nbformat_minor": 0,
  "metadata": {
    "colab": {
      "provenance": [],
      "machine_shape": "hm",
      "authorship_tag": "ABX9TyPdXa78Cu1WLU3kW1lQesdD",
      "include_colab_link": true
    },
    "kernelspec": {
      "name": "python3",
      "display_name": "Python 3"
    },
    "language_info": {
      "name": "python"
    }
  },
  "cells": [
    {
      "cell_type": "markdown",
      "metadata": {
        "id": "view-in-github",
        "colab_type": "text"
      },
      "source": [
        "<a href=\"https://colab.research.google.com/github/DavidSenseman/BIO1173_Fall2025/blob/main/AI_Scientist_06.ipynb\" target=\"_parent\"><img src=\"https://colab.research.google.com/assets/colab-badge.svg\" alt=\"Open In Colab\"/></a>"
      ]
    },
    {
      "cell_type": "markdown",
      "source": [
        "---------------------------\n",
        "**COPYRIGHT NOTICE:** This Jupyterlab Notebook is a Derivative work of [Jeff Heaton](https://github.com/jeffheaton) licensed under the Apache License, Version 2.0 (the \"License\"); You may not use this file except in compliance with the License. You may obtain a copy of the License at\n",
        "\n",
        "> [http://www.apache.org/licenses/LICENSE-2.0](http://www.apache.org/licenses/LICENSE-2.0)\n",
        "\n",
        "Unless required by applicable law or agreed to in writing, software distributed under the License is distributed on an \"AS IS\" BASIS, WITHOUT WARRANTIES OR CONDITIONS OF ANY KIND, either express or implied. See the License for the specific language governing permissions and limitations under the License.\n",
        "\n",
        "------------------------"
      ],
      "metadata": {
        "id": "b_7ZtOqzuPlX"
      }
    },
    {
      "cell_type": "markdown",
      "source": [
        "# **BIO 1173: Intro Computational Biology**"
      ],
      "metadata": {
        "id": "T1MqPE_puPYn"
      }
    },
    {
      "cell_type": "markdown",
      "source": [
        "##### **Module 6: Advanced Topics**\n",
        "\n",
        "* Instructor: [David Senseman](mailto:David.Senseman@utsa.edu), [Department of Biology, Health and the Environment](https://sciences.utsa.edu/bhe/), [UTSA](https://www.utsa.edu/)\n",
        "\n",
        "### Module 6 Material\n",
        "\n",
        "* Part 6.1: Reenforcement Learning\n",
        "* **Part 6.2: AI-Scientist**\n",
        "* Part 6.3: Generative AI\n",
        "* Part 6.4: Text to Images with Stable Diffusion\n"
      ],
      "metadata": {
        "id": "KO49Tsxzue8O"
      }
    },
    {
      "cell_type": "markdown",
      "source": [
        "## Google CoLab Instructions\n",
        "\n",
        "You MUST run the following code cell to get credit for this class lesson. By running this code cell, you will map your GDrive to /content/drive and print out your Google GMAIL address. Your Instructor will use your GMAIL address to verify the author of this class lesson."
      ],
      "metadata": {
        "id": "Kod6uWwDu8nk"
      }
    },
    {
      "cell_type": "code",
      "source": [
        "# You must run this cell first\n",
        "try:\n",
        "    from google.colab import drive\n",
        "    drive.mount('/content/drive', force_remount=True)\n",
        "    # from google.colab import auth\n",
        "    # auth.authenticate_user()\n",
        "    COLAB = True\n",
        "    print(\"Note: Using Google CoLab\")\n",
        "    # import requests\n",
        "    # gcloud_token = !gcloud auth print-access-token\n",
        "    # gcloud_tokeninfo = requests.get('https://www.googleapis.com/oauth2/v3/tokeninfo?access_token=' + gcloud_token[0]).json()\n",
        "    # print(gcloud_tokeninfo['email'])\n",
        "except:\n",
        "    print(\"**WARNING**: Your GMAIL address was **not** printed in the output below.\")\n",
        "    print(\"**WARNING**: You will NOT receive credit for this lesson.\")\n",
        "    COLAB = False"
      ],
      "metadata": {
        "colab": {
          "base_uri": "https://localhost:8080/"
        },
        "id": "8g7XGhn1ggT_",
        "outputId": "1fbe33c6-1d6c-45fe-e4b2-08f6b5437e4a"
      },
      "execution_count": 1,
      "outputs": [
        {
          "output_type": "stream",
          "name": "stdout",
          "text": [
            "Mounted at /content/drive\n",
            "Note: Using Google CoLab\n"
          ]
        }
      ]
    },
    {
      "cell_type": "markdown",
      "source": [
        "Make sure your GMAIL address is included as the last line in the output above."
      ],
      "metadata": {
        "id": "KWgr-KEzvFQb"
      }
    },
    {
      "cell_type": "markdown",
      "source": [
        "# **AI-Scientist Project by SakanaAI**\n",
        "\n",
        "The **AI-Scientist project** by SakanaAI is an ambitious initiative aimed at automating the entire scientific research process. It leverages advanced **Large Language Models (LLMs)** and other AI technologies to independently conduct research, from generating ideas to writing full scientific papers.\n",
        "\n"
      ],
      "metadata": {
        "id": "LHLlCwFJnq6Y"
      }
    },
    {
      "cell_type": "markdown",
      "source": [
        "Get Key"
      ],
      "metadata": {
        "id": "hZy1cW0IURtW"
      }
    },
    {
      "cell_type": "code",
      "source": [
        "# Retrieve the OpenAI API key and store it in a variable\n",
        "from google.colab import userdata\n",
        "\n",
        "# Retrieve the OpenAI API key and store it in a variable\n",
        "OPENAI_API_KEY = userdata.get('OPENAI_KEY')\n",
        "\n",
        "# Ensure that the API key is correctly set\n",
        "if not OPENAI_API_KEY:\n",
        "    raise ValueError(\"OpenAI API key is not set. Please check if you have stored the API key in userdata.\")"
      ],
      "metadata": {
        "id": "cHsw65BoURdv"
      },
      "execution_count": null,
      "outputs": []
    },
    {
      "cell_type": "markdown",
      "source": [],
      "metadata": {
        "id": "uXl7NealYFJh"
      }
    },
    {
      "cell_type": "code",
      "source": [
        "!pip install backoff\n",
        "!pip install anthropic\n",
        "!pip install openai\n"
      ],
      "metadata": {
        "id": "ZcuXYj2zOIYg"
      },
      "execution_count": null,
      "outputs": []
    },
    {
      "cell_type": "code",
      "source": [
        "# !pip install git+https://github.com/Aider-AI/aider.git"
      ],
      "metadata": {
        "id": "gxNpLXPSrVwj"
      },
      "execution_count": null,
      "outputs": []
    },
    {
      "cell_type": "markdown",
      "source": [
        "## **Install GitHub AI-Scientist**"
      ],
      "metadata": {
        "id": "n4QPVySIikYS"
      }
    },
    {
      "cell_type": "code",
      "source": [
        "\n",
        "!apt-get install git -y\n",
        "!git clone https://github.com/SakanaAI/AI-Scientist.git\n",
        "%cd AI-Scientist\n",
        "!cp -r /content/AI-Scientist/* /content/\n",
        "!ls /content/\n"
      ],
      "metadata": {
        "colab": {
          "base_uri": "https://localhost:8080/"
        },
        "id": "m7JP2hOWif9y",
        "outputId": "e4d54604-3981-4c9b-a7a9-ba85abf6838e"
      },
      "execution_count": 2,
      "outputs": [
        {
          "output_type": "stream",
          "name": "stdout",
          "text": [
            "Reading package lists... Done\n",
            "Building dependency tree... Done\n",
            "Reading state information... Done\n",
            "git is already the newest version (1:2.34.1-1ubuntu1.12).\n",
            "0 upgraded, 0 newly installed, 0 to remove and 29 not upgraded.\n",
            "Cloning into 'AI-Scientist'...\n",
            "remote: Enumerating objects: 2638, done.\u001b[K\n",
            "remote: Counting objects: 100% (10/10), done.\u001b[K\n",
            "remote: Compressing objects: 100% (9/9), done.\u001b[K\n",
            "remote: Total 2638 (delta 3), reused 1 (delta 1), pack-reused 2628 (from 2)\u001b[K\n",
            "Receiving objects: 100% (2638/2638), 116.87 MiB | 41.62 MiB/s, done.\n",
            "Resolving deltas: 100% (464/464), done.\n",
            "Updating files: 100% (2319/2319), done.\n",
            "/content/AI-Scientist\n",
            "ai_scientist  docs\t      experimental\t   README.md\t\treview_iclr_bench\n",
            "AI-Scientist  drive\t      launch_scientist.py  requirements.txt\tsample_data\n",
            "data\t      example_papers  LICENSE\t\t   review_ai_scientist\ttemplates\n"
          ]
        }
      ]
    },
    {
      "cell_type": "markdown",
      "source": [
        "~~~text\n",
        "Reading package lists... Done\n",
        "Building dependency tree... Done\n",
        "Reading state information... Done\n",
        "git is already the newest version (1:2.34.1-1ubuntu1.12).\n",
        "0 upgraded, 0 newly installed, 0 to remove and 29 not upgraded.\n",
        "Cloning into 'AI-Scientist'...\n",
        "remote: Enumerating objects: 2638, done.\n",
        "remote: Counting objects: 100% (10/10), done.\n",
        "remote: Compressing objects: 100% (9/9), done.\n",
        "remote: Total 2638 (delta 3), reused 1 (delta 1), pack-reused 2628 (from 2)\n",
        "Receiving objects: 100% (2638/2638), 116.87 MiB | 34.45 MiB/s, done.\n",
        "Resolving deltas: 100% (464/464), done.\n",
        "Updating files: 100% (2319/2319), done.\n",
        "/content/AI-Scientist/AI-Scientist\n",
        "ai_scientist  docs\t      experimental\t   README.md\t\treview_iclr_bench\n",
        "AI-Scientist  drive\t      launch_scientist.py  requirements.txt\tsample_data\n",
        "data\t      example_papers  LICENSE\t\t   review_ai_scientist\ttemplates\n",
        "\n",
        "~~~"
      ],
      "metadata": {
        "id": "eCrHdt-pFt05"
      }
    },
    {
      "cell_type": "markdown",
      "source": [],
      "metadata": {
        "id": "Z-FGk8N1ifoz"
      }
    },
    {
      "cell_type": "markdown",
      "source": [],
      "metadata": {
        "id": "ypeYhMdvOACz"
      }
    },
    {
      "cell_type": "markdown",
      "source": [],
      "metadata": {
        "id": "RptHCHvuOJbS"
      }
    },
    {
      "cell_type": "code",
      "source": [
        "!ls -Fla /content/AI-Scientist/templates/mobilenetV3/"
      ],
      "metadata": {
        "colab": {
          "base_uri": "https://localhost:8080/"
        },
        "id": "9LI2iPFfBIlq",
        "outputId": "640ca118-318a-4bc3-c833-2ae8bcb4cddc"
      },
      "execution_count": 6,
      "outputs": [
        {
          "output_type": "stream",
          "name": "stdout",
          "text": [
            "total 60\n",
            "drwxr-xr-x  3 root root  4096 Mar 25 20:15 ./\n",
            "drwxr-xr-x 12 root root  4096 Mar 25 20:15 ../\n",
            "-rw-r--r--  1 root root 21966 Mar 25 20:15 experiment.py\n",
            "-rw-r--r--  1 root root  1135 Mar 25 20:15 ideas.json\n",
            "drwxr-xr-x  2 root root  4096 Mar 25 20:15 latex/\n",
            "-rw-r--r--  1 root root  8752 Mar 25 20:15 plot.py\n",
            "-rw-r--r--  1 root root   425 Mar 25 20:15 prompt.json\n",
            "-rw-r--r--  1 root root  1119 Mar 25 20:15 seed_ideas.json\n"
          ]
        }
      ]
    },
    {
      "cell_type": "code",
      "source": [
        "!mkdir /content/data\n",
        "!mkdir /content/data/mobilenetV3\n",
        "!mkdir /content/data/results/\n",
        "!mkdir /content/data/results/mobilenetV3\n",
        "!ls -Fla /content/data/results"
      ],
      "metadata": {
        "id": "cjPP8_jXPI9H"
      },
      "execution_count": null,
      "outputs": []
    },
    {
      "cell_type": "markdown",
      "source": [
        "!python"
      ],
      "metadata": {
        "id": "UUwRaNly0m-P"
      }
    },
    {
      "cell_type": "markdown",
      "source": [
        "# **Create Jason Idea File**"
      ],
      "metadata": {
        "id": "lahDP7s2QHNU"
      }
    },
    {
      "cell_type": "code",
      "source": [
        "# Create Idea file\n",
        "\n",
        "import json\n",
        "import os\n",
        "\n",
        "# Example data (replace this with your actual \"ideas\" data)\n",
        "ideas = {\n",
        "      \"Name\": \"CNN analysis of non-coding genetic variants\",\n",
        "      \"Title\": \"Identifying Functional Non-Coding Variants\",\n",
        "      \"Experiment\": \"Use CNNs to predict the regulatory roles of non-coding genetic variants identified in GWAS.\",\n",
        "      \"Interestingness\": 9,\n",
        "      \"Feasibility\": 7,\n",
        "      \"Novelty\": 8\n",
        "}\n",
        "\n",
        "# Define the target directory\n",
        "output_dir = \"/content/AI-Scientist/templates/mobilenetV3/\"\n",
        "os.makedirs(output_dir, exist_ok=True)  # Ensure the directory exists\n",
        "\n",
        "# Define the full path for the output file\n",
        "output_file = os.path.join(output_dir, \"seed_ideas.json\")\n",
        "\n",
        "# Save the data as a JSON file\n",
        "with open(output_file, \"w\") as json_file:\n",
        "    json.dump(ideas, json_file, indent=4)\n",
        "\n",
        "print(f\"Your ideas have been saved to {output_file}!\")\n"
      ],
      "metadata": {
        "colab": {
          "base_uri": "https://localhost:8080/"
        },
        "id": "UkYKkEA1PlPF",
        "outputId": "7380d039-2ee3-4966-989f-d0ad1c59a5ee"
      },
      "execution_count": 18,
      "outputs": [
        {
          "output_type": "stream",
          "name": "stdout",
          "text": [
            "Your ideas have been saved to /content/AI-Scientist/templates/mobilenetV3/seed_ideas.json!\n"
          ]
        }
      ]
    },
    {
      "cell_type": "markdown",
      "source": [],
      "metadata": {
        "id": "GHznz3VvR7lc"
      }
    },
    {
      "cell_type": "code",
      "source": [
        "import json\n",
        "\n",
        "# Path to your JSON file (adjust the path as needed)\n",
        "file_path = '/content/AI-Scientist/templates/mobilenetV3/seed_ideas.json'\n",
        "\n",
        "# Open and load the JSON file\n",
        "with open(file_path, 'r') as json_file:\n",
        "    data = json.load(json_file)\n",
        "\n",
        "# Print the contents of the JSON file\n",
        "print(data)\n",
        "\n"
      ],
      "metadata": {
        "colab": {
          "base_uri": "https://localhost:8080/"
        },
        "id": "i6LkoqWV3a7E",
        "outputId": "785c0309-515a-4f12-d82c-feb64dd8c2ee"
      },
      "execution_count": 20,
      "outputs": [
        {
          "output_type": "stream",
          "name": "stdout",
          "text": [
            "{'Name': 'CNN analysis of non-coding genetic variants', 'Title': 'Identifying Functional Non-Coding Variants', 'Experiment': 'Use CNNs to predict the regulatory roles of non-coding genetic variants identified in GWAS.', 'Interestingness': 9, 'Feasibility': 7, 'Novelty': 8}\n"
          ]
        }
      ]
    },
    {
      "cell_type": "markdown",
      "source": [
        "# **Create Jason Prompt File**"
      ],
      "metadata": {
        "id": "fnrOmur5XzlH"
      }
    },
    {
      "cell_type": "code",
      "source": [
        "# Create Idea file\n",
        "\n",
        "import json\n",
        "import os\n",
        "\n",
        "# Example data (replace this with your actual \"ideas\" data)\n",
        "prompt = {\n",
        "    \"system\": \"You are an ambitious AI PhD student who is looking to publish a paper that will contribute significantly to the field.\",\n",
        "    \"task_description\": \"You are given the following file to work with, which studies Convolutional neural networks by training CNN models on multiple GWAS datasets. Please come up with interesting experiments to investigate the best architectures for these convolutional networks.\"\n",
        "}\n",
        "\n",
        "# Define the target directory\n",
        "output_dir = \"/content/AI-Scientist/templates/mobilenetV3/\"\n",
        "os.makedirs(output_dir, exist_ok=True)  # Ensure the directory exists\n",
        "\n",
        "# Define the full path for the output file\n",
        "output_file = os.path.join(output_dir, \"prompt.json\")\n",
        "\n",
        "# Save the data as a JSON file\n",
        "with open(output_file, \"w\") as json_file:\n",
        "    json.dump(ideas, json_file, indent=4)\n",
        "\n",
        "print(f\"Your ideas have been saved to {output_file}!\")\n"
      ],
      "metadata": {
        "colab": {
          "base_uri": "https://localhost:8080/"
        },
        "outputId": "494634bb-36de-4e3e-b2c1-122391313872",
        "id": "lTyeMCngXzlI"
      },
      "execution_count": 21,
      "outputs": [
        {
          "output_type": "stream",
          "name": "stdout",
          "text": [
            "Your ideas have been saved to /content/AI-Scientist/templates/mobilenetV3/prompt.json!\n"
          ]
        }
      ]
    },
    {
      "cell_type": "code",
      "source": [
        "!ls -Fla /content/AI-Scientist/templates/mobilenetV3/"
      ],
      "metadata": {
        "colab": {
          "base_uri": "https://localhost:8080/"
        },
        "id": "mXckQ7zR-FQL",
        "outputId": "c8857e4f-d7ec-41d2-85a0-b71db8434c69"
      },
      "execution_count": 14,
      "outputs": [
        {
          "output_type": "stream",
          "name": "stdout",
          "text": [
            "total 60\n",
            "drwxr-xr-x  3 root root  4096 Mar 25 20:15 ./\n",
            "drwxr-xr-x 12 root root  4096 Mar 25 20:15 ../\n",
            "-rw-r--r--  1 root root 21966 Mar 25 20:15 experiment.py\n",
            "-rw-r--r--  1 root root  1135 Mar 25 20:15 ideas.json\n",
            "drwxr-xr-x  2 root root  4096 Mar 25 20:15 latex/\n",
            "-rw-r--r--  1 root root  8752 Mar 25 20:15 plot.py\n",
            "-rw-r--r--  1 root root   299 Mar 25 20:23 prompt.json\n",
            "-rw-r--r--  1 root root   299 Mar 25 20:19 seed_ideas.json\n"
          ]
        }
      ]
    },
    {
      "cell_type": "code",
      "source": [
        "import json\n",
        "\n",
        "# Path to your JSON file (adjust the path as needed)\n",
        "file_path = '/content/AI-Scientist/templates/mobilenetV3/prompt.json'\n",
        "\n",
        "# Open and load the JSON file\n",
        "with open(file_path, 'r') as json_file:\n",
        "    data = json.load(json_file)\n",
        "\n",
        "# Print the contents of the JSON file\n",
        "print(data)\n",
        "\n"
      ],
      "metadata": {
        "colab": {
          "base_uri": "https://localhost:8080/"
        },
        "outputId": "fb5eb8fc-81e1-4d4d-9df2-1376c39bc57a",
        "id": "abLbA8509hIe"
      },
      "execution_count": 22,
      "outputs": [
        {
          "output_type": "stream",
          "name": "stdout",
          "text": [
            "{'Name': 'CNN analysis of non-coding genetic variants', 'Title': 'Identifying Functional Non-Coding Variants', 'Experiment': 'Use CNNs to predict the regulatory roles of non-coding genetic variants identified in GWAS.', 'Interestingness': 9, 'Feasibility': 7, 'Novelty': 8}\n"
          ]
        }
      ]
    },
    {
      "cell_type": "markdown",
      "source": [
        "## **Run Experiment**"
      ],
      "metadata": {
        "id": "WvCtKtoCR8a9"
      }
    },
    {
      "cell_type": "code",
      "source": [
        "!python /content/AI-Scientist/templates/mobilenetV3/experiment.py"
      ],
      "metadata": {
        "id": "_F2QDDxL0mr3"
      },
      "execution_count": null,
      "outputs": []
    },
    {
      "cell_type": "markdown",
      "source": [
        "# **Generate Ideas - Step 1**"
      ],
      "metadata": {
        "id": "yd80Dpx-R8a-"
      }
    },
    {
      "cell_type": "markdown",
      "source": [],
      "metadata": {
        "id": "sl-ghg1BR8a-"
      }
    },
    {
      "cell_type": "code",
      "source": [
        "!ls -Fla /content/AI-Scientist/AI-Scientist/ai_scientist"
      ],
      "metadata": {
        "colab": {
          "base_uri": "https://localhost:8080/"
        },
        "id": "qXAWQdM2DCZi",
        "outputId": "83427c0b-315d-41ad-91f9-ccac1abc3a99"
      },
      "execution_count": null,
      "outputs": [
        {
          "output_type": "stream",
          "name": "stdout",
          "text": [
            "total 12\n",
            "drwxr-xr-x 3 root root 4096 Mar 24 21:41 ./\n",
            "drwxr-xr-x 3 root root 4096 Mar 24 21:41 ../\n",
            "drwxr-xr-x 3 root root 4096 Mar 24 21:41 templates/\n"
          ]
        }
      ]
    },
    {
      "cell_type": "markdown",
      "source": [],
      "metadata": {
        "id": "yfpWvvbdN-38"
      }
    },
    {
      "cell_type": "code",
      "source": [],
      "metadata": {
        "id": "18orCxP4IEio"
      },
      "execution_count": null,
      "outputs": []
    }
  ]
}