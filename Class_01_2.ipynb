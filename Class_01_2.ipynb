{
  "cells": [
    {
      "cell_type": "markdown",
      "metadata": {
        "id": "view-in-github",
        "colab_type": "text"
      },
      "source": [
        "<a href=\"https://colab.research.google.com/github/DavidSenseman/BIO1173_Fall2025/blob/main/Class_01_2.ipynb\" target=\"_parent\"><img src=\"https://colab.research.google.com/assets/colab-badge.svg\" alt=\"Open In Colab\"/></a>"
      ]
    },
    {
      "cell_type": "markdown",
      "metadata": {
        "id": "ZtkH0OzvXrpc"
      },
      "source": [
        "---------------------------\n",
        "**COPYRIGHT NOTICE:** This Jupyterlab Notebook is a Derivative work of [Jeff Heaton](https://github.com/jeffheaton) licensed under the Apache License, Version 2.0 (the \"License\"); You may not use this file except in compliance with the License. You may obtain a copy of the License at\n",
        "\n",
        "> [http://www.apache.org/licenses/LICENSE-2.0](http://www.apache.org/licenses/LICENSE-2.0)\n",
        "\n",
        "Unless required by applicable law or agreed to in writing, software distributed under the License is distributed on an \"AS IS\" BASIS, WITHOUT WARRANTIES OR CONDITIONS OF ANY KIND, either express or implied. See the License for the specific language governing permissions and limitations under the License.\n",
        "\n",
        "------------------------"
      ]
    },
    {
      "cell_type": "markdown",
      "metadata": {
        "id": "TdeYaYKqXrpc"
      },
      "source": [
        "# **BIO1173: Into Computational Biology**"
      ]
    },
    {
      "cell_type": "markdown",
      "metadata": {
        "id": "W2WD-91qXrpd"
      },
      "source": [
        "## **Class_01_2:  Strings, Variables, Functions**"
      ]
    },
    {
      "cell_type": "markdown",
      "metadata": {
        "jp-MarkdownHeadingCollapsed": true,
        "id": "l9QIzrCFXrpd"
      },
      "source": [
        "##### **Module I: Getting Started with Python**\n",
        "\n",
        "* Instructor: [David Senseman](mailto:David.Senseman@utsa.edu), [Department of Biology, Health and the Environment](https://sciences.utsa.edu/bhe/), [UTSA](https://www.utsa.edu/)\n",
        "\n",
        "### Module 1 Material\n",
        "\n",
        "* Part 1.1: Introduction to Google CoLab\n",
        "* **Part 1.2: Python Basics 1 -- Strings, Variables, Functions**\n",
        "* Part 1.3: Python Basics 3 -- Lists, Dictionaries, Sets and JSON\n",
        "* Part 1.4: Python Basics 4 -- Conditionals and Loops\n",
        "* Part 1.5: Python Basics 5 -- Packages, NumPy arrays and Matplotlib\n",
        "* Part 1.6: Python Basics 6 -- Pandas and File Handling"
      ]
    },
    {
      "cell_type": "markdown",
      "source": [
        "## **DON'T FORGET TO MAKE A COPY OF THIS LESSON BEFORE YOU CONTINUE**\n",
        "\n",
        "You will need to turn in the copy for grading.\n"
      ],
      "metadata": {
        "id": "-zkqkRYon_HL"
      }
    },
    {
      "cell_type": "markdown",
      "metadata": {
        "id": "yKQylnEiLDUM"
      },
      "source": [
        "## Google CoLab Instructions\n",
        "\n",
        "You **MUST** run the following code cell to get credit for this class lesson. By running this code cell, you will map your GDrive to /content/drive and print out your Google GMAIL address. Your Instructor will use your GMAIL address to verify the author of this class lesson."
      ]
    },
    {
      "cell_type": "code",
      "execution_count": null,
      "metadata": {
        "id": "seXFCYH4LDUM"
      },
      "outputs": [],
      "source": [
        "# You must run this cell first\n",
        "try:\n",
        "    from google.colab import drive\n",
        "    drive.mount('/content/drive', force_remount=True)\n",
        "    from google.colab import auth\n",
        "    auth.authenticate_user()\n",
        "    COLAB = True\n",
        "    print(\"Note: Using Google CoLab\")\n",
        "    import requests\n",
        "    gcloud_token = !gcloud auth print-access-token\n",
        "    gcloud_tokeninfo = requests.get('https://www.googleapis.com/oauth2/v3/tokeninfo?access_token=' + gcloud_token[0]).json()\n",
        "    print(gcloud_tokeninfo['email'])\n",
        "except:\n",
        "    print(\"**WARNING**: Your GMAIL address was **not** printed in the output below.\")\n",
        "    print(\"**WARNING**: You will NOT receive credit for this lesson.\")\n",
        "    COLAB = False"
      ]
    },
    {
      "cell_type": "markdown",
      "source": [
        "If your code is correct, you should see something similar to the following output:\n",
        "\n",
        "~~~text\n",
        "Mounted at /content/drive\n",
        "Note: using Google CoLab\n",
        "Colab only includes TensorFlow 2.x; %tensorflow_version has no effect.\n",
        "david.senseman@gmail.com\n",
        "~~~\n",
        "\n",
        "### **---WARNING--------------------**\n",
        "\n",
        "~~~text\n",
        "**WARNING**: Your GMAIL address was not printed in the output below.\n",
        "**WARNING**: You will NOT receive credit for this lesson.\n",
        "~~~\n",
        "\n",
        "When you run the first cell and you see this output it means you didn't log into your GMAIL account correctly. Unless your GMAIL address is visible, you will **not** receive a grade for your work."
      ],
      "metadata": {
        "id": "XzwVnCguZ28U"
      }
    },
    {
      "cell_type": "markdown",
      "metadata": {
        "id": "UoNwFV2MXrpe"
      },
      "source": [
        "# **Python Basics 1 -- Strings, Variables, Functions**\n",
        "\n",
        "In computer science, the **syntax** of a computer language is the set of rules that defines the combinations of symbols that are considered to be a correctly structured or written. One of the main challenges in learning any computer language is learning the correct syntax.\n",
        "\n",
        "If the syntax of your code isn't perfect, **Python** will become confused and immediately complain by printing an error message. This course is designed to teach you how to write the correct Python syntax. Perhaps more importantly, this course is designed to help you figure out why a syntax error occurred and how to fix it.\n",
        "\n",
        "Sooner or later (probably sooner) you will get an error message from Python complaining by a syntax error. When you run the code in the next cell you will see an example of a common syntax error.\n",
        "\n",
        "When you run the next code cell, you will receive an error message.\n"
      ]
    },
    {
      "cell_type": "code",
      "source": [
        "# Run this cell to generate an error message\n",
        "\n",
        "print(The Double Helix)"
      ],
      "metadata": {
        "id": "2Bi5lj6ib6CR"
      },
      "execution_count": null,
      "outputs": []
    },
    {
      "cell_type": "markdown",
      "source": [
        "## **-----WARNING------------------------------**\n",
        "\n",
        "Do **NOT** turn in work that contain any Error Message:\n",
        "\n",
        "![___](https://biologicslab.co/BIO1173/images/module_01/class_01_2_image01.png)\n",
        "\n",
        "\n",
        "### **PLEASE READ THIS CAREFULLY--YOU DON'T WANT TO FAIL THIS COURSE!**\n",
        "\n",
        "There is **no excuse** to turn in a class lesson with a single error message!\n",
        "\n",
        "If you code contains a _single_  error message, your score on the class lesson will be reduced by 20%. If you code has two error messages your score will be reduced by 40%. If your code contains three or more error messages, you will receive `0` points for your submission.\n",
        "\n",
        "#### **But Sir! Is it fair to fail my coding if I make a mistake?**\n",
        "\n",
        "In my opinion, this policy is completely fair. First, you will **always** be shown exactly what output your code should generate. When your code produces the same output, you (and the grader) will know that your code is correct.\n",
        "\n",
        "Second, your Instructor's and/or TA's **sole function** during the class lecture is to help you fix any errors that you might encounter.\n",
        "\n",
        "It is your responsibilty, however, to come to class (Monday, Wednesday and Friday from 10-10:50 AM) to get help. However, this means, of course, that you must try to complete your class assignment **before** you come to class. This is one class that if you procrastinate and wait until the last minute, you might end up errors that you won't be able to fix.\n"
      ],
      "metadata": {
        "id": "RCCf1eP3c1q6"
      }
    },
    {
      "cell_type": "markdown",
      "source": [
        "P.S. By the way, this particular lesson is designed to have the above error, so this is the one time that it's OK that your lesson has an error message."
      ],
      "metadata": {
        "id": "BY7zBnepcLCS"
      }
    },
    {
      "cell_type": "markdown",
      "source": [
        "# **Comments**\n",
        "\n",
        "**Comments** in Python are text notes in the code that are _not_  executed by the Python interpreter. They are used to explain the code and make it more readable for humans. In Python, comments are created using the `#` symbol for single-line comments and triple quotes `'''` or `\"\"\"` for multi-line comments (although the latter are technically multi-line strings used as comments).\n",
        "\n",
        "##### Example:\n",
        "\n",
        "```python\n",
        "# This is a single-line comment\n",
        "```\n",
        "\n",
        "#### **Why Comments Are Important**\n",
        "\n",
        "1. **Code Readability:** Comments help to explain the purpose of the code, making it easier for others (or yourself at a later date) to understand what the code is doing.\n",
        "\n",
        "2. **Maintenance:** When maintaining or updating code, comments provide context and help prevent errors by explaining the logic behind the code.\n",
        "\n",
        "3. **Collaboration:** In a team setting, comments are essential for collaboration, as they allow team members to understand each other's work more easily.\n",
        "\n",
        "4. **Documentation:** Comments can serve as in-line documentation for the code, explaining complex sections, algorithms, or specific decisions made during development.\n",
        "\n",
        "Remember, while comments are extremely useful, they should be clear and concise. Over-commenting can make the code cluttered and harder to read, so it's important to strike a balance.\n"
      ],
      "metadata": {
        "id": "84zOq4odvfLI"
      }
    },
    {
      "cell_type": "markdown",
      "metadata": {
        "id": "e2eODF-rXrpf"
      },
      "source": [
        "# **Variables**\n",
        "\n",
        "In this course you will required to create and use **variables** very frequently. When it comes to naming your variables, you must follow a few rules to avoid errors.\n",
        "\n",
        "* Variable names can contain only letters, numbers, and underscores.\n",
        "* Variable names can only start with a letter or an underscore, **not** a number.\n",
        "* Variable names can **not** contain a space. To make variable names easier to understand, use an underscore and/or a capitialization instead of a space to separate different words. For example, either `total_neurons` or `TotalNeurons` would be good variable names, while the name `Total Neurons`, with a space between the words, would generate an error.\n",
        "* Variable names should be both short and descriptive. For example, the name `total_neurons` is better (more descriptive) than just `tn`. It is also better (shorter) than `total_number_of_neurons_in_the_model`.\n",
        "* Try to avoid using the lowercase letter _l_ and the uppercase letter _O_ since they are easily confused with the number _1_ and the number _0_.\n",
        "* Avoid using Python **_reserved_ words** as variable names. Python comes with a set of keywords and built-in functions. For example, `True, False, as, and, from, or, while`, are keywords, while `any(), bool(), bytes(), chr(), range(), vars()` are built-in functions.  \n"
      ]
    },
    {
      "cell_type": "markdown",
      "source": [
        "# **Strings**\n",
        "\n",
        "**Strings** in Python are sequences of characters enclosed within quotes. They can be defined using single quotes (`'`), double quotes (`\"`), or triple quotes (`'''` or `\"\"\"`). Strings are used to represent text and are one of the most common data types in Python.\n",
        "\n",
        "Here's are the two most common way to define strings:\n",
        "\n",
        "```python\n",
        "# Single-quoted string\n",
        "single_quoted = 'Hello, World!'\n",
        "```\n",
        "```python\n",
        "# Double-quoted string\n",
        "double_quoted = \"Hello, World!\"\n",
        "```\n",
        "\n",
        "#### **Why Strings Are Important**\n",
        "\n",
        "1. **Text Manipulation:** Strings are essential for handling and manipulating text data. This includes tasks like searching, slicing, replacing, and formatting text.\n",
        "\n",
        "2. **User Input and Output:** Strings are often used to capture user input and to display output to the user. For example, functions like input() and print() work with strings.\n",
        "\n",
        "3. **Data Storage:** Strings are used to store textual data in variables, databases, files, and more. They are crucial for handling data that involves characters, such as names, addresses, and descriptions.\n",
        "\n",
        "4. **Code Readability:** Using strings, you can create readable and maintainable code. For example, meaningful variable names and informative messages enhance the readability of your code."
      ],
      "metadata": {
        "id": "eUok-1Sy0sN8"
      }
    },
    {
      "cell_type": "markdown",
      "source": [
        "### Example 1: Assign a String to a Variable\n",
        "\n",
        "The code in the cell below assigns the string \"James Watson\" to a variable called `var1`.\n",
        "\n",
        "_Code Description:_\n",
        "\n",
        "1. An equal sign `=` is used to **assign** the string \"James Watson\" to the variable `var1`. Notice that the variable is on the left side of the `=` sign while the item to be assigned, in this case a string, is on the right\n",
        "\n",
        "2. An `f-print statement` is used to print out the variable. The `f` in an f-string in Python stands for \"formatted string\". It provides a way to embed expressions inside string literals using curly braces {}. `F-print` statements will be used routinely in this course.\n",
        "\n",
        "As will be explained below, the `f-print statement` is an example of a Python function."
      ],
      "metadata": {
        "id": "Skv_mfMflKSS"
      }
    },
    {
      "cell_type": "code",
      "source": [
        "# Example 1: Assign a string to a variable\n",
        "\n",
        "# Assign variable\n",
        "var1 = \"James Watson\"\n",
        "\n",
        "# Print out variable\n",
        "print(f\"The variable 'var1' is assigned to the string {var1}\")\n"
      ],
      "metadata": {
        "id": "MkNGz2CumALV"
      },
      "execution_count": null,
      "outputs": []
    },
    {
      "cell_type": "markdown",
      "source": [
        "If the code is correct, you should see the following output:\n",
        "\n",
        "~~~text\n",
        "The variable 'var1' is assigned to the string James Watson\n",
        "~~~"
      ],
      "metadata": {
        "id": "ehK9p0i2o6PI"
      }
    },
    {
      "cell_type": "markdown",
      "source": [
        "### **Exercise 1: Assign a String to a Variable**\n",
        "\n",
        "In the cell below, assign the string \"Francis Crick\" to a new variable called `var2`. Use an `f-print statement` to print out the value of your `var2`."
      ],
      "metadata": {
        "id": "PlZIMtten7FY"
      }
    },
    {
      "cell_type": "code",
      "source": [
        "# Insert your code for Exercise 1 here\n",
        "\n"
      ],
      "metadata": {
        "id": "zAjVWOVToaq6"
      },
      "execution_count": null,
      "outputs": []
    },
    {
      "cell_type": "markdown",
      "source": [
        "If your code is correct, you should see the following output:\n",
        "\n",
        "~~~text\n",
        "The variable 'var2' is assigned to the string Francis Crick\n",
        "~~~"
      ],
      "metadata": {
        "id": "wg6u4wVIosTa"
      }
    },
    {
      "cell_type": "markdown",
      "source": [
        "# **Operators and Expressions**\n",
        "\n",
        "Python has a large number of **operators** that perform actions or \"operations\" on variables. In this section we look at some of the most important operators that we will be using in this course.\n",
        "\n",
        "We start with the addition operator which is the plus symbol `+`. In general, an operator is a symbol that indicates a calculation using one or more **operands**. The combination of the operator and its operand(s) is called an **expression**."
      ],
      "metadata": {
        "id": "ZRe1vw8WpF97"
      }
    },
    {
      "cell_type": "markdown",
      "source": [
        "### Example 2: Use the `+` Operator to Add Integers\n",
        "\n",
        "The addition operator `+` can be used to add two numbers together. In Python there are two kinds of numbers, integers or `int` and floating point numbers or `float`. The cell below uses the addition operator to add two integers together and prints out the result using an `f-print statement`."
      ],
      "metadata": {
        "id": "4mgf41uGpcR8"
      }
    },
    {
      "cell_type": "code",
      "source": [
        "# Example 2: Use the + operator to add ints\n",
        "\n",
        "# Add integers\n",
        "ans = 4 + 2\n",
        "\n",
        "# Print out result\n",
        "print(f\" The result of adding 4 + 3 is {ans}\")"
      ],
      "metadata": {
        "id": "JG4CnelDp3v0"
      },
      "execution_count": null,
      "outputs": []
    },
    {
      "cell_type": "markdown",
      "source": [
        "If the code is correct, you should see the following output:\n",
        "\n",
        "~~~text\n",
        "The result of adding 4 + 3 is 6\n",
        "~~~"
      ],
      "metadata": {
        "id": "0nVj7H4-qWyO"
      }
    },
    {
      "cell_type": "markdown",
      "source": [
        "### **Exercise 2: Use the `+` Operator to Add Integers**\n",
        "\n",
        "In the cell below, use the addition operator to add the integers `10` and `15` together."
      ],
      "metadata": {
        "id": "HMsxkwdcqlQN"
      }
    },
    {
      "cell_type": "code",
      "source": [
        "# Insert your code for Exercise 2 here\n",
        "\n"
      ],
      "metadata": {
        "id": "uA8ECPQsqlQS"
      },
      "execution_count": null,
      "outputs": []
    },
    {
      "cell_type": "markdown",
      "source": [
        "If your code is correct, you should see the following output:\n",
        "\n",
        "~~~text\n",
        " The result of adding 10 + 15 is 25\n",
        "~~~"
      ],
      "metadata": {
        "id": "8uF9l7veqlQT"
      }
    },
    {
      "cell_type": "markdown",
      "source": [
        "### Example 3: Use the `+` Operator to Add Floats\n",
        "\n",
        "A **float** in Python is a data type that represents a floating-point number, which is a number that has a decimal point. Floats can be used for performing arithmetic operations that require more precision than integers. They are particularly useful in scientific calculations.\n",
        "\n",
        "The code in the cell below adds three floats together and prints out the result."
      ],
      "metadata": {
        "id": "W9PNMSRgrT1M"
      }
    },
    {
      "cell_type": "code",
      "source": [
        "# Example 3: Use the + operator to add floats\n",
        "\n",
        "# Add floats\n",
        "ans = 2.71828 + 3.3333 + 12.1\n",
        "\n",
        "# Print out result\n",
        "print(f\" The result of adding 2.71828 + 3.3333 + 12.1 is {ans}\")"
      ],
      "metadata": {
        "id": "Q4f8LvjGrT1S"
      },
      "execution_count": null,
      "outputs": []
    },
    {
      "cell_type": "markdown",
      "source": [
        "If the code is correct, you should see the following output:\n",
        "\n",
        "~~~text\n",
        "The result of adding 2.71828 + 3.3333 + 12.1 is 18.15158\n",
        "~~~"
      ],
      "metadata": {
        "id": "s-xECYjurT1S"
      }
    },
    {
      "cell_type": "markdown",
      "source": [
        "### **Exercise 3: Use the `+` Operator to Add Floats**\n",
        "\n",
        "In the cell below, use the addition operator to add the floats `10.2`, `6.0` and `0.5` together and print out the results using an `f-print statement`."
      ],
      "metadata": {
        "id": "HD3XygnerT1S"
      }
    },
    {
      "cell_type": "code",
      "source": [
        "# Insert your code for Exercise 3 here\n",
        "\n"
      ],
      "metadata": {
        "id": "0KdVc0gBrT1S"
      },
      "execution_count": null,
      "outputs": []
    },
    {
      "cell_type": "markdown",
      "source": [
        "If your code is correct, you should see the following output:\n",
        "\n",
        "~~~text\n",
        "The result of adding 10.2 + 6.0 + 0.5 is 16.7\n",
        "~~~"
      ],
      "metadata": {
        "id": "_uXofs-XrT1S"
      }
    },
    {
      "cell_type": "markdown",
      "source": [
        "### Example 4: Use the `*` Operator to Multiple Integers\n",
        "\n",
        "The code in the cell below uses the `*` operator to multiple three integers together and prints out the result."
      ],
      "metadata": {
        "id": "7nhNmXcQtQDB"
      }
    },
    {
      "cell_type": "code",
      "source": [
        "# Example 3: Use the + operator to add floats\n",
        "\n",
        "# Multiple integers\n",
        "ans = 4 * 8 * 10\n",
        "\n",
        "# Print out result\n",
        "print(f\" The result of multiplying 4 * 8 * 10 is {ans}\")"
      ],
      "metadata": {
        "id": "8gIuUWM-tQDH"
      },
      "execution_count": null,
      "outputs": []
    },
    {
      "cell_type": "markdown",
      "source": [
        "If the code is correct, you should see the following output:\n",
        "\n",
        "~~~text\n",
        "The result of multiplying 4 * 8 * 10 is 320\n",
        "~~~"
      ],
      "metadata": {
        "id": "xBfNbsW7tQDH"
      }
    },
    {
      "cell_type": "markdown",
      "source": [
        "### **Exercise 4: Use the `*` Operator to Multiple Floats**\n",
        "\n",
        "In the cell below, use the multiplication operator to multiple the floats `10.2`, `6.0` and `0.5` together."
      ],
      "metadata": {
        "id": "6_OF7Qj5tQDH"
      }
    },
    {
      "cell_type": "code",
      "source": [
        "# Insert your code for Exercise 4 here\n",
        "\n"
      ],
      "metadata": {
        "id": "Gs3Nxm5MtQDH"
      },
      "execution_count": null,
      "outputs": []
    },
    {
      "cell_type": "markdown",
      "source": [
        "If your code is correct, you should see the following output:\n",
        "\n",
        "~~~text\n",
        "The result of multiplying 10.2 * 6.0 * 0.5 is 30.599999999999998\n",
        "~~~"
      ],
      "metadata": {
        "id": "AgL_VejDtQDH"
      }
    },
    {
      "cell_type": "markdown",
      "source": [
        "---------------------------------------\n",
        "\n",
        "#### **Why 30.599999999999998 and not just 30.6?**\n",
        "\n",
        "You might be wondering why Python didn't simply print out the value 30.6? After all, if you multiply `10.2` by `6.0` by `0.5` on a simple calculator, you only get `30.6`, not `30.599999999999998`.\n",
        "\n",
        "The answer is somewhat complicated but it has to do with how Python stores floating point numbers in memory. **Precision errors**, also known as floating-point errors or round-off errors, occur because digital computers cannot always represent decimal numbers exactly. This is due to the way numbers are stored in binary format. In Python, these errors are particularly noticeable when working with floating-point arithmetic.\n",
        "\n",
        "--------------------------------------"
      ],
      "metadata": {
        "id": "Ri-PbPnQwxI7"
      }
    },
    {
      "cell_type": "markdown",
      "source": [
        "### Example 5: Use the `**` Operator to Exponentiate a Number\n",
        "\n",
        "In Python, the double asterisk `**` is used to take a number to a power (exponentiate).\n",
        "\n",
        "The code in the cell below uses the `**` operator to take the number `4` to the second power.  "
      ],
      "metadata": {
        "id": "KNVo4AoOyKRS"
      }
    },
    {
      "cell_type": "code",
      "source": [
        "# Example 5: Use the ** operator to exponentiate a number\n",
        "\n",
        "# Exponentiate\n",
        "ans = 4 ** 2\n",
        "\n",
        "# Print out result\n",
        "print(f\" The result of exponentiating 4 to the 2nd power is {ans}\")"
      ],
      "metadata": {
        "id": "Ia2fjvb9yKRZ"
      },
      "execution_count": null,
      "outputs": []
    },
    {
      "cell_type": "markdown",
      "source": [
        "If the code is correct, you should see the following output:\n",
        "\n",
        "~~~text\n",
        "The result of exponentiating 4 to the 2nd power is 16\n",
        "~~~"
      ],
      "metadata": {
        "id": "WWwx03jKyKRZ"
      }
    },
    {
      "cell_type": "markdown",
      "source": [
        "### **Exercise 5: Use the** `**` **Operator to Exponentiate a Number**\n",
        "\n",
        "In the cell below, use the `**` operator to exponentiate the number 4 to the **minus** -2 power."
      ],
      "metadata": {
        "id": "uh3X1Wl2yKRZ"
      }
    },
    {
      "cell_type": "code",
      "source": [
        "# Insert your code for Exercise 5 here\n",
        "\n"
      ],
      "metadata": {
        "id": "CvQUUTFwyKRZ"
      },
      "execution_count": null,
      "outputs": []
    },
    {
      "cell_type": "markdown",
      "source": [
        "If your code is correct, you should see the following output:\n",
        "\n",
        "~~~text\n",
        " The result of exponentiating 4 to -2nd power is 0.0625\n",
        "~~~\n",
        "\n",
        "Notice that you can use negative as well as positive values when you exponentiate."
      ],
      "metadata": {
        "id": "dgLaoLZOyKRZ"
      }
    },
    {
      "cell_type": "markdown",
      "source": [
        "### Example 6: Use the `/` Operator to Divide Two Numbers\n",
        "\n",
        "In Python, the double asterisk `/` is used to divide two numbers.\n",
        "\n",
        "The code in the cell below uses the `/` operator to divide the number `24` by `3` and then prints out the answer."
      ],
      "metadata": {
        "id": "QbFf_8Gb0Kin"
      }
    },
    {
      "cell_type": "code",
      "source": [
        "# Example 6: Use the /operator to divide two numbers\n",
        "\n",
        "# Divide\n",
        "ans = 24 / 3\n",
        "\n",
        "# Print out result\n",
        "print(f\" The result of dividing 28 by 3 is {ans}\")"
      ],
      "metadata": {
        "id": "-H7Q1W8l0Kiu"
      },
      "execution_count": null,
      "outputs": []
    },
    {
      "cell_type": "markdown",
      "source": [
        "If the code is correct, you should see the following output:\n",
        "\n",
        "~~~text\n",
        " The result of dividing 28 by 3 is 8.0\n",
        "~~~\n",
        "\n",
        "Even though we divided an **integer** (`28`) by another **integer** (`3`), the answer is the **float** `8.0`. In Python, the result of a division is _always_ a float."
      ],
      "metadata": {
        "id": "jBtdaMrM0Kiu"
      }
    },
    {
      "cell_type": "markdown",
      "source": [
        "### **Exercise 6: Use the `//` Operator to Two Number**\n",
        "\n",
        "In the cell below, use the `//` operator to divide the number `435.0` by `8.25` and print out the answer."
      ],
      "metadata": {
        "id": "VSGbIIw-0Kiu"
      }
    },
    {
      "cell_type": "code",
      "source": [
        "# Insert your code for Exercise 6 here\n",
        "\n"
      ],
      "metadata": {
        "id": "vqTxJ1IF0Kiu"
      },
      "execution_count": null,
      "outputs": []
    },
    {
      "cell_type": "markdown",
      "source": [
        "If your code is correct, you should see the following output:\n",
        "\n",
        "~~~text\n",
        "The result of dividing 435.0 by 8.25 is 52.0\n",
        "~~~\n",
        "\n",
        "If you use a calculator to divide 435.0 by 8.25 you will get the answer: `52.727272727272727272727272727273`. So why did Python give the result `52.0`? The answer is given in the next text cell."
      ],
      "metadata": {
        "id": "TA_4bAvC0Kiu"
      }
    },
    {
      "cell_type": "markdown",
      "source": [
        "---------------------------------\n",
        "\n",
        "#### **Note about Division Operators**\n",
        "\n",
        "When is comes to division, Python offers three different ways to divide one number by another. In Example 6, the single backslash symbol / was used. This is normal division and the answer (quotient) is always a floating number.\n",
        "\n",
        "In **Exercise 6**, the double forward slash `//` was used for **integer division**. In integer division, the answer is always a whole number. (Technically, the // operator produces floor division).\n",
        "\n",
        "Python can also be used for **modulo division** using the percent % operator.\n",
        "\n",
        "-----------------------------"
      ],
      "metadata": {
        "id": "EnQ9BELi3MqY"
      }
    },
    {
      "cell_type": "markdown",
      "source": [
        "## **Logical Operators**\n",
        "\n",
        "Like other programming languages, Python provides operations on **truth values**. There are two \"truth values\" in Python `True` and `False`. Importantly, these words are case sensitive. In other words, Python does not recognize the word `TRUE` as a logical operator, only the word `True`.\n",
        "\n",
        "Logical operators follow the mathematical laws of **Boolean logic**. The classic Boolean operators are `not`, `and`, and `or`. In Python, those are written just that way instead of using special symbols as illustrated in the examples below."
      ],
      "metadata": {
        "id": "E6FxXhZoq48n"
      }
    },
    {
      "cell_type": "code",
      "source": [
        "# 'not' logical operator\n",
        "\n",
        "not True"
      ],
      "metadata": {
        "id": "h29h20LYq48t"
      },
      "execution_count": null,
      "outputs": []
    },
    {
      "cell_type": "code",
      "source": [
        "# 'not' logical operator\n",
        "\n",
        "not False"
      ],
      "metadata": {
        "id": "rekeHI3srxJS"
      },
      "execution_count": null,
      "outputs": []
    },
    {
      "cell_type": "code",
      "source": [
        "# 'and' logical operator\n",
        "\n",
        "True and True"
      ],
      "metadata": {
        "id": "sDABMIw5rxRC"
      },
      "execution_count": null,
      "outputs": []
    },
    {
      "cell_type": "code",
      "source": [
        "# 'and' logical operator\n",
        "\n",
        "True and False"
      ],
      "metadata": {
        "id": "qx55mQbFrxYh"
      },
      "execution_count": null,
      "outputs": []
    },
    {
      "cell_type": "code",
      "source": [
        "# 'or' logical operator\n",
        "\n",
        "True or False"
      ],
      "metadata": {
        "id": "yApxrGIQsF0T"
      },
      "execution_count": null,
      "outputs": []
    },
    {
      "cell_type": "code",
      "source": [
        "# 'or' logical operator\n",
        "\n",
        "False or False"
      ],
      "metadata": {
        "id": "Vg5x7FczsF0Z"
      },
      "execution_count": null,
      "outputs": []
    },
    {
      "cell_type": "markdown",
      "source": [
        "-----------------------------------\n",
        "\n",
        "### **Boolean Logic**\n",
        "\n",
        "As you can see from the examples above, figuring out the results of a Boolean Logic statement can be a bit tricky.\n",
        "\n",
        "Boolean Logic is a very important topic in Biostatistics so we will look at it later in some detail. For the moment, just keep in mind that Boolean Operators are one type of Python operator.\n",
        "\n",
        "------------------------------"
      ],
      "metadata": {
        "id": "DX7AnXIisR2Z"
      }
    },
    {
      "cell_type": "markdown",
      "source": [
        "## **Comparison Operators**\n",
        "\n",
        "In addition to the Boolean operators, there are six **comparison operators** that return Boolean values (`True` or `False`).\n",
        "\n",
        "These comparison operators are: `==`, `!=`, `<`, `<=`, `>`, and `>=`. These symbols stand for the logical comparisons `equal to`, `less than`, `less than or equal`, `greater than` and `greater than or equal`, respectively."
      ],
      "metadata": {
        "id": "ZYNjZsLSsjK4"
      }
    },
    {
      "cell_type": "markdown",
      "source": [
        "### Examples of Comparison Operators\n",
        "\n",
        "The cells below show some examples of comparison operators."
      ],
      "metadata": {
        "id": "hEx7J3iMq48t"
      }
    },
    {
      "cell_type": "code",
      "source": [
        "# 'Equal to' operator  ==\n",
        "8 == 5 + 3"
      ],
      "metadata": {
        "id": "XoRECH_Ttw1b"
      },
      "execution_count": null,
      "outputs": []
    },
    {
      "cell_type": "code",
      "source": [
        "# 'Greater than' operator  >\n",
        "3 > 13"
      ],
      "metadata": {
        "id": "8D7zkeAAt2Br"
      },
      "execution_count": null,
      "outputs": []
    },
    {
      "cell_type": "code",
      "source": [
        "# 'Less than' operator   <\n",
        "'A' < 'B'"
      ],
      "metadata": {
        "id": "OSDaVQVZq48u"
      },
      "execution_count": null,
      "outputs": []
    },
    {
      "cell_type": "markdown",
      "source": [
        "# **Functions**\n",
        "\n",
        "**Functions** are the commands that perform some action. Python functions are always followed by parentheses. For example, Example 1 used the Python function print().\n",
        "\n",
        "Python functions may, or may not, have arguments. If a function does not have an argument, the parantheses are empty; If the function has one (or more) arguments, the arguments are written inside the parantheses, separated by commas.\n",
        "\n",
        "In Example 1, the `print()` function had an argument,\n",
        "\n",
        "```python\n",
        "# Print out variable\n",
        "print(f\"The variable 'var1' is assigned to the string {var1}\")\n",
        "```\n"
      ],
      "metadata": {
        "id": "1mBcW_iJt-EL"
      }
    },
    {
      "cell_type": "markdown",
      "metadata": {
        "id": "dEoajaJaXrpf"
      },
      "source": [
        "# **Methods**\n",
        "\n",
        "In Python, **methods** and functions have similar purposes but differ in important ways.\n",
        "\n",
        "Functions are independent which means you are free to insert a function anywhere in a program. Methods are not independent but are part of an object. Functions are called by name, while methods are accessed using dot notation."
      ]
    },
    {
      "cell_type": "markdown",
      "metadata": {
        "id": "a6kJHvynXrpg"
      },
      "source": [
        "### Example 7: Use the `upper()` string method\n",
        "\n",
        "Example 7 illustrates how to call a string method using the dot notation. You have already seen how to call the `print()` function in **Exercise 1**. In the code cell below, the `print()` function is combined with the `upper()` string method to change how a particular string is printed out."
      ]
    },
    {
      "cell_type": "code",
      "execution_count": null,
      "metadata": {
        "id": "x-p2OjudXrpg"
      },
      "outputs": [],
      "source": [
        "# Example 7: Application of upper() string method\n",
        "\n",
        "# Assign a string to variable name\n",
        "fatherANN = \"Geoffrey Hinton\"   # The father of artificial neural networks\n",
        "\n",
        "# Print\n",
        "print(fatherANN.upper())"
      ]
    },
    {
      "cell_type": "markdown",
      "source": [
        "If the code is correct, you should see the following output:\n",
        "\n",
        "~~~text\n",
        "GEOFFREY HINTON\n",
        "~~~"
      ],
      "metadata": {
        "id": "lAHWKsK4ELeZ"
      }
    },
    {
      "cell_type": "markdown",
      "metadata": {
        "id": "-FBY-e6NXrpg"
      },
      "source": [
        "By inspection of the output, you can see that the job of the `upper()` method is to capitalize (change to upper case) every letter in the associated string. In other words, a method is associated with, and acts only on, the object to which it is attached by the dot.  \n",
        "\n",
        "The dot notation is the only way to access a method. Like functions, methods must also be followed by a pair of parentheses. The `upper()` method does not require an argument so the paratheses for this method are empty.  "
      ]
    },
    {
      "cell_type": "markdown",
      "metadata": {
        "id": "ea9dAgseXrpg"
      },
      "source": [
        "### **Exercise 7: Use the `lower()` string method**\n",
        "\n",
        "Python provides another string method, `lower()`, that complements the action of the `upper()` method.\n",
        "\n",
        "In the cell below, use the `lower()` method to print out the string variable `fatherANN` previously defined in Example 7."
      ]
    },
    {
      "cell_type": "code",
      "execution_count": null,
      "metadata": {
        "id": "qjl1BSmlXrpg"
      },
      "outputs": [],
      "source": [
        "# Insert your code for Exercise 7 here\n",
        "\n"
      ]
    },
    {
      "cell_type": "markdown",
      "metadata": {
        "id": "l0gQ1Q0yXrpg"
      },
      "source": [
        "If your code is correct you should see the following output:\n",
        "\n",
        "`geoffrey hinton`\n",
        "\n",
        "As you might have guessed, the job of the `lower()` method is to convert every letter to lowercase."
      ]
    },
    {
      "cell_type": "markdown",
      "metadata": {
        "id": "VZVqdgQAXrpg"
      },
      "source": [
        "### Example 8: Use the Count Method\n",
        "\n",
        "Some string methods require an argument such as Python's `count()` method. The `count()` method returns the number of times a specified value appears in the string.\n",
        "\n",
        "The code in the cell below uses the `count()` method to count the number of times the letter \"a\" appears in a sentence.\n"
      ]
    },
    {
      "cell_type": "code",
      "execution_count": null,
      "metadata": {
        "id": "zpzCyA0-Xrpg"
      },
      "outputs": [],
      "source": [
        "# Example 8: Use the .count method\n",
        "\n",
        "sentence = \"A neural network is a method in artificial intelligence that \\\n",
        "            teaches computers to process data in a way that is inspired \\\n",
        "            by the human brain.\"\n",
        "\n",
        "num = sentence.count(\"a\")\n",
        "\n",
        "print(f\"There were {num} a's in this sentence.\")"
      ]
    },
    {
      "cell_type": "markdown",
      "source": [
        "If the code was correct, you should see the following output:\n",
        "\n",
        "~~~text\n",
        "here were 13 a's in this sentence.\n",
        "~~~"
      ],
      "metadata": {
        "id": "XvO2sD4VFKKj"
      }
    },
    {
      "cell_type": "markdown",
      "metadata": {
        "id": "_6E9yDQyXrpg"
      },
      "source": [
        "-----------------------\n",
        "\n",
        "### **Use a backslash `\\` to continue a line**\n",
        "You should also notice from this example, that a backslash `\\` was use to \"spread\" (continue) a long sentence across multiple lines of code. Adding a backslash indicates to Python that the code continues on the next line. Remember, the Python Interpreter reads one line at a time. Without the backslash, the Python Interpreter would come to the end of the line and reported an error since it didn't find any quotation mark to enclose (finish) the end the string.\n",
        "\n",
        "------------------------\n"
      ]
    },
    {
      "cell_type": "markdown",
      "metadata": {
        "id": "0fy5GuiZXrpg"
      },
      "source": [
        "### **Exercise 8: Use the Find Method`**\n",
        "\n",
        "Another Python string method is `find()`. The `find()` method finds the first occurrence (location) of the specified value. If the value is not found, the `find()` method returns -1.\n",
        "\n",
        "In the code cell below, use the `find()` method to located the position of the string 'computers' in the same sentence used in Example 7. Store the output of the `find()` method in a new variable called `loc_computer`.\n",
        "\n",
        "Use the f-string method to print out the location (`loc_computer`) returned by the `find()` method in an appropiate sentence. Don't forget to change the text in your print statement to make it appropiate for the `find()` method. Keep changing your code so it produces the same output as shown below.\n"
      ]
    },
    {
      "cell_type": "code",
      "execution_count": null,
      "metadata": {
        "id": "ZuefZMjgXrpg"
      },
      "outputs": [],
      "source": [
        "# Insert your code for Exercise 8 here\n",
        "\n"
      ]
    },
    {
      "cell_type": "markdown",
      "metadata": {
        "id": "DId2B47iXrpg"
      },
      "source": [
        "If your code was correct, you should see the following:\n",
        "\n",
        "`The word 'computer' appeared 81 in the sentence.`\n",
        "\n",
        "The number `81` means that the first letter in the word `computer` was located 81 spaces from the start of the sentence.\n",
        "\n"
      ]
    },
    {
      "cell_type": "markdown",
      "source": [
        "-------------------------------------\n",
        "\n",
        "## **Mixing Single and Double Quotation Marks**\n",
        "\n",
        "You can use either double quotation marks `\" \"` or single quotation marks `' '` to enclose a Python string. Sometimes you may need to use both types in the same argument as in **Exercise 4**.\n",
        "\n",
        "In **Exercise 8**, you needed to use double quotation marks `\" \"` to enclose the entire sentence, and single quotation marks `' '` to just enclose the word 'computer'.\n",
        "\n",
        "--------------------------------------"
      ],
      "metadata": {
        "id": "24Un5ajrGkK_"
      }
    },
    {
      "cell_type": "markdown",
      "metadata": {
        "id": "wS2hjg4wXrpg"
      },
      "source": [
        "# **String Indexing**\n",
        "\n",
        "In **Exercise 8** the `find()` method was used to find the first occurence of a specified value. The value that this method returned was a location within the string. Finding a particular string location is closely related to the concept of **string indexing**.\n",
        "\n",
        "String indexing allows you to access individual characters in a string by referring to their position within the string. Each character in a string has an index, starting from 0 for the first character and increasing by 1 for each subsequent character."
      ]
    },
    {
      "cell_type": "markdown",
      "metadata": {
        "id": "X_xgkIE4Xrpj"
      },
      "source": [
        "### Example 9: String Indexing Using Square Brackets\n",
        "\n",
        "Square brackets `[ ]` can used to access individual elements in a Python object such as a string, an array or a dictionary. To use square bracket syntax, just add the brackets to the end of an object with a number inside. The number specifies the location within the object.\n",
        "\n",
        "The code in the cell below shows how to find the letter that is located at position 81 in the string. This example uses the same string that was used in **Exercise 8**.\n"
      ]
    },
    {
      "cell_type": "code",
      "execution_count": null,
      "metadata": {
        "id": "nWoQUWbtXrpj"
      },
      "outputs": [],
      "source": [
        "# Example 9: Use square brackets to locate the letter at position 81\n",
        "\n",
        "# Assign string to the variable sentence\n",
        "sentence = \"A neural network is a method in artificial intelligence that \\\n",
        "            teaches computers to process data in a way that is inspired \\\n",
        "            by the human brain.\"\n",
        "\n",
        "# Print out the value at position 81\n",
        "sentence[81]"
      ]
    },
    {
      "cell_type": "markdown",
      "metadata": {
        "id": "VwvTaAWYXrpj"
      },
      "source": [
        "The output is the letter `'c'`. This is exactly as we should have expected based on the results of **Exercise 8** where the `find()` method was used to find the first occurence of `computer` within the longer string."
      ]
    },
    {
      "cell_type": "markdown",
      "metadata": {
        "id": "udfwkMpBXrpj"
      },
      "source": [
        "### **Exercise 9: String Indexing Using Square Brackets**\n",
        "\n",
        "In the cell below, use square bracket syntax to find the first letter in the string variable `sentence` that was already defined (assigned) to string in Example 9 above."
      ]
    },
    {
      "cell_type": "code",
      "execution_count": null,
      "metadata": {
        "id": "wwJt4PvSXrpj"
      },
      "outputs": [],
      "source": [
        "# Insert your code for Exercise 9 here\n",
        "\n"
      ]
    },
    {
      "cell_type": "markdown",
      "source": [
        "If your code is correct, you should see the following output:\n",
        "\n",
        "~~~text\n",
        "'A'\n",
        "~~~"
      ],
      "metadata": {
        "id": "d8d-yJd9JAzD"
      }
    },
    {
      "cell_type": "markdown",
      "metadata": {
        "id": "GJFDKefEXrpj"
      },
      "source": [
        "If your output was `' '` without the letter `A` inside, it means you simply copy-and-pasted without reading the description of string indexing.\n",
        "\n",
        "##### In Python, numbering always starts at `0` instead of at `1`.\n",
        "\n",
        "To see the **first** letter, you should write `sentence[0]` instead of `sentence[1]`. If you wrote the later, Python returned the blank space after the letter `A`.\n",
        "\n"
      ]
    },
    {
      "cell_type": "markdown",
      "source": [
        "----------------------------------------\n",
        "\n",
        "## **Why does Python start numbering at 0?**\n",
        "\n",
        "Zero-based numbering or `index origin = 0` is a way of numbering in which the initial element of a sequence is assigned the index `0`, rather than the index `1` as is typical in everyday non-mathematical or non-programming circumstances.\n",
        "\n",
        "Many modern computer languages such as `C` use zero-based numbering, but not all of them. For example the statistical computing language `R` starts numbering arrays at `1` which certainly makes it easier for first-time programmers to learn. And some languages like `Pascal`, `Lua` and `Visual Basic` allow the programmer to set the index origin number to either 0 or 1 within their code.\n",
        "\n",
        "In other words, this is one of the most basic decisions that the creator of Python, **Guido van Rossum**, had to make when started writing the Python language in the late 1980's. For better or worse, you will have to get use to the notion that sequences always starting at `0` when you program in Python.  \n",
        "\n",
        "For the new Python programmer, starting with `0` will invariably lead to problems. For example, it's easy to forget that if you have 100 patient records in a file, when the index of the last record is 99, not 100.\n",
        "\n",
        "---------------------------------------------"
      ],
      "metadata": {
        "id": "NVPnO_3wJhWD"
      }
    },
    {
      "cell_type": "markdown",
      "metadata": {
        "id": "Jc3eh-xLXrpj"
      },
      "source": [
        "### Example 10: String Slicing\n",
        "\n",
        "When using square bracket indexing, you are not limited to a single number. You can easily extract a range of letter using a technique known as **string splicing**.\n",
        "\n",
        "For the next few examples, we use the word `'Supercalifragilisticexpialidocious'` from 1964 movie [_Mary Poppins_](https://youtu.be/1Pu1adxqUAg?si=5bvBwf0ODoRTl4yi) to illustrate various ways to use string slicing.\n",
        "\n",
        "To extract `Super`, we could use the following square bracket syntax."
      ]
    },
    {
      "cell_type": "code",
      "execution_count": null,
      "metadata": {
        "id": "lxZDu9QUXrpk"
      },
      "outputs": [],
      "source": [
        "# Example 10: String slicing\n",
        "\n",
        "# Extract the first 5 letters\n",
        "'Supercalifragilisticexpialidocious'[0:5]"
      ]
    },
    {
      "cell_type": "markdown",
      "source": [
        "If your code is correct, you should see the following output:\n",
        "\n",
        "~~~text\n",
        "'Super'\n",
        "\n",
        "~~~"
      ],
      "metadata": {
        "id": "FpZXMdKgKSF-"
      }
    },
    {
      "cell_type": "markdown",
      "metadata": {
        "id": "658pIDNSXrpk"
      },
      "source": [
        "The output is `'Super'` which is exactly what we wanted to extract. Notice that there are single quotation marks `'  '` that enclose the word Supercalifragilisticexpialidocious. That tells Python to treat this object as a string. If you forget to include the quotation marks, you will get an error.\n",
        "\n",
        "Perhaps to some of you, it might seem that something \"funny\" going on in the above example. Clearly the word `'Super'` has exactly 5 letters. But if start slicing at 0, and end at 5, wouldn't that be **6** letters?\n",
        "\n",
        "Here is a more formal definition of _string slicing_ to explain why `strng [0:5]` returns only 5 letters instead of 6.\n",
        "\n",
        "> String slicing extracts a series of characters from a string. The character positions of a slice are specified by two or three integers inside square brackets, separated by colons. The first index indicates the position of the first character to be extracted. The second index indicates where the slice ends. The character at that position is **not** included in the slice. A slice [m:n] would therefore be read as “from character m up to but _not including_ character n.”"
      ]
    },
    {
      "cell_type": "markdown",
      "metadata": {
        "id": "vWD_yCmlXrpk"
      },
      "source": [
        "### **Exercise 10: String slicing**\n",
        "\n",
        "In the cell below use square bracket notation to extract `'fragilistic'` from the string `'Supercalifragilisticexpialidocious'`"
      ]
    },
    {
      "cell_type": "code",
      "execution_count": null,
      "metadata": {
        "id": "6_JueBESXrpk"
      },
      "outputs": [],
      "source": [
        "# Insert your code for Exercise 10 here\n",
        "\n"
      ]
    },
    {
      "cell_type": "markdown",
      "metadata": {
        "id": "JiQqzR98Xrpk"
      },
      "source": [
        "If your code is correct you should see\n",
        "\n",
        "~~~text\n",
        "'fragilistic'\n",
        "~~~"
      ]
    },
    {
      "cell_type": "markdown",
      "metadata": {
        "id": "I6VK5JoLXrpk"
      },
      "source": [
        "### **Quick Review of the `find()` Method**\n",
        "\n",
        "If you had trouble counting the letters in **Exercise 10**, you could have taken advantage of the `find()` method to find the location of the first letter. Here is the code you could use:"
      ]
    },
    {
      "cell_type": "code",
      "execution_count": null,
      "metadata": {
        "id": "Gp0MYNzeXrpk",
        "colab": {
          "base_uri": "https://localhost:8080/"
        },
        "outputId": "f6ef9de4-2f11-41fe-c4aa-6315fc4d0f91"
      },
      "outputs": [
        {
          "output_type": "stream",
          "name": "stdout",
          "text": [
            "The starting location of 'fragilistic' was at position 9.\n"
          ]
        }
      ],
      "source": [
        "# Use the find() method locate start of 'fragilistic'\n",
        "\n",
        "startLoc = 'Supercalifragilisticexpialidocious'.find('fragilistic')\n",
        "\n",
        "# Print out location using f-print\n",
        "print(f\"The starting location of 'fragilistic' was at position {startLoc}.\")"
      ]
    },
    {
      "cell_type": "markdown",
      "source": [
        "If the code is correct, you should see the following output:\n",
        "\n",
        "~~~text\n",
        "The starting location of 'fragilistic' was at position 9.\n",
        "~~~"
      ],
      "metadata": {
        "id": "87Pi3F3PNMQz"
      }
    },
    {
      "cell_type": "markdown",
      "metadata": {
        "id": "tI2seMV9Xrpk"
      },
      "source": [
        "Since 'fragilistic' has 11 characters, and the `find()` method tells the start location is `9`, the correct index for **Exercise 10** must be `[9:20]`."
      ]
    },
    {
      "cell_type": "markdown",
      "metadata": {
        "id": "pEm4vTnKXrpk"
      },
      "source": [
        "### Example 11: Omitting index values\n",
        "\n",
        "When string splicing, the first index value specifies where to start and the second index value where to start. If you **omit** the first index value, Python automatically starts at very beginning of the string. The cell below illustrates how to extract `Super` by omitting the first index value."
      ]
    },
    {
      "cell_type": "code",
      "execution_count": null,
      "metadata": {
        "id": "TlvDyjJ3Xrpk"
      },
      "outputs": [],
      "source": [
        "# Example 11: Omit index values\n",
        "\n",
        "# String splice with only one index value\n",
        "'Supercalifragilisticexpialidocious'[ :5]"
      ]
    },
    {
      "cell_type": "markdown",
      "source": [
        "If the code is correct, you should see the following output:\n",
        "\n",
        "~~~text\n",
        "'Super'\n",
        "~~~"
      ],
      "metadata": {
        "id": "Nfy5XzqdN802"
      }
    },
    {
      "cell_type": "markdown",
      "metadata": {
        "id": "LsLdAuqzXrpk"
      },
      "source": [
        "### **Exercise 11: Omitting index values**\n",
        "\n",
        "When string splicing, the first index value specifies where to start and the second index value where to start. If you omit the **second index value**, Python automatically goes to the very **end** of the string.\n",
        "\n",
        "In the cell below, start by using the `find()` method to locate the beginning of `'expialidocious'`. Save of the output of the `find()` method as the variable, `startLoc`.\n",
        "\n",
        "Then extract `'expialidocious'` with square bracket notation, using the variable `startLoc` as the first index value, and leaving the second index value blank."
      ]
    },
    {
      "cell_type": "code",
      "execution_count": null,
      "metadata": {
        "id": "C4drlCUIXrpk"
      },
      "outputs": [],
      "source": [
        "# Insert your code for Exercise 11 here\n",
        "\n"
      ]
    },
    {
      "cell_type": "markdown",
      "metadata": {
        "id": "ehLyqJewXrpk"
      },
      "source": [
        "If your code is correct the output of your code cell should be:\n",
        "\n",
        "`'expialidocious'`"
      ]
    },
    {
      "cell_type": "markdown",
      "metadata": {
        "id": "am73xTs2Xrpk"
      },
      "source": [
        "### Example 12: Using Negative Integers as Indicies\n",
        "\n",
        "Using a negative integer allows you to access values starting from the _end_ of a sequence. Given that `'expialidocious'` has 14 letters, and is located at the end of the sequence, another way to extract it, is shown in the code cell below.\n"
      ]
    },
    {
      "cell_type": "code",
      "execution_count": null,
      "metadata": {
        "id": "_1d0v18XXrpk"
      },
      "outputs": [],
      "source": [
        "# Example 12: Negative index value\n",
        "\n",
        "# Extract last 14 letters\n",
        "'Supercalifragilisticexpialidocious'[-14: ]"
      ]
    },
    {
      "cell_type": "markdown",
      "source": [
        "If the code is correct, you should see the following output:\n",
        "\n",
        "~~~text\n",
        "'expialidocious'\n",
        "~~~"
      ],
      "metadata": {
        "id": "6q3YEkPZPP1f"
      }
    },
    {
      "cell_type": "markdown",
      "metadata": {
        "id": "I3TfykVDXrpk"
      },
      "source": [
        "### **Exercise 12: Using negative integer as indicies**\n",
        "\n",
        "In a number of programming situations you will need to know the very _last_ element in a sequence. This might be a problem if you didn't know the sequence length. Fortunately there is a simply way to access the last element of any sequence, by just using `-1` as the index.\n",
        "\n",
        "In the code cell below, extract the last letter in the word 'Supercalifragilisticexpialidocious' using square bracket indexing. Since you are only accessing a _single_ letter, you only need a single index value.\n"
      ]
    },
    {
      "cell_type": "code",
      "execution_count": null,
      "metadata": {
        "id": "EUyaK5IEXrpk"
      },
      "outputs": [],
      "source": [
        "# Insert your code for Exercise 12 here\n",
        "\n"
      ]
    },
    {
      "cell_type": "markdown",
      "metadata": {
        "id": "5nmgoxPYXrpk"
      },
      "source": [
        "If your code is correct the output of your cell should be `'s'`."
      ]
    },
    {
      "cell_type": "markdown",
      "metadata": {
        "id": "epNwvSxoXrpk"
      },
      "source": [
        "## **Lesson Turn-in**\n",
        "\n",
        "When you have completed all of the exercises and run **all** of the code cells, including the examples as well as the exerices, create a PDF of your notebook. Remember, the title of this notebook, shown at the top of the Colab screen should saw \"Copy of Class_01_2.ipynb\".\n",
        "\n",
        "To generate a PDF of you Colab notenbook, click on **File --> Print** as shown in this image.\n",
        "\n",
        "![__](https://biologicslab.co/BIO1173/images/class_01/class_01_2_image04a.png)\n",
        "\n",
        "This will bring up the following pop-up window:\n",
        "\n",
        "![__](https://biologicslab.co/BIO1173/images/class_01/class_01_2_image02a.png)\n",
        "\n",
        "In the Print dialog box. Click on the downward caret **v** and select **Microsoft Print to PDF**.\n",
        "\n",
        "![__](https://biologicslab.co/BIO1173/images/class_01/class_01_2_image03a.png)\n",
        "\n",
        "Then click on **Save**.\n",
        "\n",
        "This will bring up a dialog box asking you where to save your PDF. Where you want to save it is up to you. You should save your PDF with the name `Class_01_02_lastname.pdf` where _lastname_ is your last name. Remember, for grading you must be printing a **_copy_**  of your Colab notebook that you have already saved to your GDrive.\n",
        "\n",
        "Finally, upload your **_PDF_** to the Class_01_2 assignment page on Canvas for grading, not the actual Colab notebook.\n"
      ]
    },
    {
      "cell_type": "markdown",
      "source": [
        "----------------------------------------------------\n",
        "\n",
        "## **Lizard's Tail**\n",
        "\n",
        "**Autotomy** (from the Greek auto-, \"self-\" and tome, \"severing\", αὐτοτομία) or 'self-amputation', is the behaviour whereby an animal sheds or discards an appendage, usually as a self-defense mechanism to elude a predator's grasp or to distract the predator and thereby allow escape. Some animals are able to regenerate the lost body part later. Autotomy is thought to have evolved independently at least nine times. The term was coined in 1883 by Leon Fredericq.\n",
        "\n",
        "[Severed Skink Tail Video](https://en.wikipedia.org/wiki/File:Severed_skink_tail.webm)\n",
        "\n",
        "Some lizards,salamandersand tuatara when caught by the tail will shed part of it in attempting to escape. In many species the detached tail will continue to wriggle, creating a deceptive sense of continued struggle, and distracting the predator's attention from the fleeing prey animal. In addition, many species of lizards, such as Plestiodon fasciatus, Cordylosaurus subtessellatus, Holaspis guentheri, Phelsuma barbouri, and Ameiva wetmorei, have elaborately colored blue tails which have been shown to divert predatory attacks toward the tail and away from the body and head. Depending upon the species, the animal may be able to partially regenerate its tail, typically over a period of weeks or months. Though functional, the new tail section often is shorter and will contain cartilage rather than regenerated vertebrae of bone, and in color and texture the skin of the regenerated organ generally differs distinctly from its original appearance. However, some salamanders can regenerate a morphologically complete and identical tail. Some reptiles, such as the Western fence lizard, develop split or branched tails after autotomy.\n",
        "\n",
        "**Mechanism**\n",
        "\n",
        "The technical term for this ability to drop the tail is 'caudal autotomy'. In most lizards that sacrifice the tail in this manner, breakage occurs only when the tail is grasped with sufficient force, but some animals, such as some species of geckos, can perform true autotomy, throwing off the tail when sufficiently stressed, such as when attacked by ants.\n",
        "\n",
        "Caudal autotomy in lizards takes two forms. In the first form, called intervertebral autotomy, the tail breaks between the vertebrae. The second form of caudal autotomy is intravertebral autotomy, in which there are zones of weakness, fracture planes across each vertebra in the mid-part of the tail. In this second type of autotomy the lizard contracts a muscle to fracture a vertebra, rather than break the tail between two vertebrae. Sphincter muscles in the tail then contract around the caudal artery to minimize bleeding. Another adaptation associated with intravertebral autotomy is that skin flaps fold over the wound at the site of autotomy to readily seal the wound, which can minimize infection at the autotomy site. Caudal autotomy is prevalent among lizards; it has been recorded in 13 of approximately 20 families."
      ],
      "metadata": {
        "id": "IL4h4JkT7KX9"
      }
    },
    {
      "cell_type": "code",
      "source": [
        "## **Lizard's Tail**\n",
        "\n",
        "Autotomy (from the Greek auto-, \"self-\" and tome, \"severing\", αὐτοτομία) or 'self-amputation', is the behaviour whereby an animal sheds or discards an appendage,[1] usually as a self-defense mechanism to elude a predator's grasp or to distract the predator and thereby allow escape. Some animals are able to regenerate the lost body part later. Autotomy is thought to have evolved independently at least nine times.[2] The term was coined in 1883 by Leon Fredericq.[3]"
      ],
      "metadata": {
        "id": "CbyfVY_KpFpO"
      },
      "execution_count": null,
      "outputs": []
    }
  ],
  "metadata": {
    "kernelspec": {
      "display_name": "Python 3 (ipykernel)",
      "language": "python",
      "name": "python3"
    },
    "language_info": {
      "codemirror_mode": {
        "name": "ipython",
        "version": 3
      },
      "file_extension": ".py",
      "mimetype": "text/x-python",
      "name": "python",
      "nbconvert_exporter": "python",
      "pygments_lexer": "ipython3",
      "version": "3.11.5"
    },
    "colab": {
      "provenance": [],
      "include_colab_link": true
    }
  },
  "nbformat": 4,
  "nbformat_minor": 0
}