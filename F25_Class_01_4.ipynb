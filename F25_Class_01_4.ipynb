{
  "cells": [
    {
      "cell_type": "markdown",
      "metadata": {
        "id": "view-in-github",
        "colab_type": "text"
      },
      "source": [
        "<a href=\"https://colab.research.google.com/github/DavidSenseman/BIO1173_Fall2025/blob/main/F25_Class_01_4.ipynb\" target=\"_parent\"><img src=\"https://colab.research.google.com/assets/colab-badge.svg\" alt=\"Open In Colab\"/></a>"
      ]
    },
    {
      "cell_type": "markdown",
      "metadata": {
        "id": "TVuc_gAVcBWW"
      },
      "source": [
        "---------------------------\n",
        "**COPYRIGHT NOTICE:** This Jupyterlab Notebook is a Derivative work of [Jeff Heaton](https://github.com/jeffheaton) licensed under the Apache License, Version 2.0 (the \"License\"); You may not use this file except in compliance with the License. You may obtain a copy of the License at\n",
        "\n",
        "> [http://www.apache.org/licenses/LICENSE-2.0](http://www.apache.org/licenses/LICENSE-2.0)\n",
        "\n",
        "Unless required by applicable law or agreed to in writing, software distributed under the License is distributed on an \"AS IS\" BASIS, WITHOUT WARRANTIES OR CONDITIONS OF ANY KIND, either express or implied. See the License for the specific language governing permissions and limitations under the License.\n",
        "\n",
        "------------------------"
      ]
    },
    {
      "cell_type": "markdown",
      "metadata": {
        "id": "rHbE7NfjcBWW"
      },
      "source": [
        "# **BIO 1173: Intro Computational Biology**"
      ]
    },
    {
      "cell_type": "markdown",
      "source": [
        "## **Class_01_4: Conditionals and Loops**"
      ],
      "metadata": {
        "id": "5gVWcgPVIMGU"
      }
    },
    {
      "cell_type": "markdown",
      "metadata": {
        "id": "7XtLxR8-cBWW"
      },
      "source": [
        "##### **Module I: Getting Started with Python**\n",
        "\n",
        "* Instructor: [David Senseman](mailto:David.Senseman@utsa.edu), [Department of Biology, Health and the Environment](https://sciences.utsa.edu/bhe/), [UTSA](https://www.utsa.edu/)\n",
        "\n",
        "### Module I Material\n",
        "\n",
        "* Part 1.1: Introduction to Google CoLab\n",
        "* Part 1.2: Python Basics 1 -- Strings, Variables, Functions\n",
        "* Part 1.3: Python Basics 3 -- Lists, Dictionaries, Sets and JSON\n",
        "* **Part 1.4: Python Basics 4 -- Conditionals and Loops**\n",
        "* Part 1.5: Python Basics 5 -- Packages, NumPy arrays and Matplotlib\n",
        "* Part 1.6: Python Basics 6 -- Pandas and File Handling"
      ]
    },
    {
      "cell_type": "markdown",
      "source": [
        "## **MAKE SURE TO MAKE A COPY OF YOUR LESSON**\n",
        "\n",
        "You need to work on a copy of this lesson, not the actual lesson."
      ],
      "metadata": {
        "id": "uCvcz0V8UB8_"
      }
    },
    {
      "cell_type": "markdown",
      "metadata": {
        "id": "yKQylnEiLDUM"
      },
      "source": [
        "## **Google CoLab Instructions**\n",
        "\n",
        "You MUST run the following code cell to get credit for this class lesson. By running this code cell, you will map your GDrive to ```/content/drive``` and print out your Google GMAIL address. Your Instructor will use your GMAIL address to verify the author of this class lesson."
      ]
    },
    {
      "cell_type": "code",
      "execution_count": null,
      "metadata": {
        "id": "seXFCYH4LDUM"
      },
      "outputs": [],
      "source": [
        "# You must run this cell first\n",
        "try:\n",
        "    from google.colab import drive\n",
        "    drive.mount('/content/drive', force_remount=True)\n",
        "    from google.colab import auth\n",
        "    auth.authenticate_user()\n",
        "    COLAB = True\n",
        "    print(\"Note: Using Google CoLab\")\n",
        "    import requests\n",
        "    gcloud_token = !gcloud auth print-access-token\n",
        "    gcloud_tokeninfo = requests.get('https://www.googleapis.com/oauth2/v3/tokeninfo?access_token=' + gcloud_token[0]).json()\n",
        "    print(gcloud_tokeninfo['email'])\n",
        "except:\n",
        "    print(\"**WARNING**: Your GMAIL address was not printed in the output below.\")\n",
        "    print(\"**WARNING**: You will NOT receive credit for this lesson.\")\n",
        "    COLAB = False"
      ]
    },
    {
      "cell_type": "markdown",
      "source": [
        "If the code is correct, you should see something similar to the following output, but your GMAIL address will be printed out.\n",
        "\n",
        "~~~text\n",
        "Mounted at /content/drive\n",
        "Note: Using Google CoLab\n",
        "david.senseman@gmail.com\n",
        "~~~\n",
        "\n",
        "If your GMAIL address is not visible, your submission will not be graded."
      ],
      "metadata": {
        "id": "QzBMOyY2I9qH"
      }
    },
    {
      "cell_type": "markdown",
      "metadata": {
        "id": "3qF__YLScBWX"
      },
      "source": [
        "# **Conditionals and Loops**\n",
        "\n",
        "Controlling the _flow_ of a computer program is an essential part of computer programming. In this lesson we will focus on the following three methods of controlling program flow:\n",
        "\n",
        "* **Conditionals -** A conditional statement is a statement that contains a logical expression that determines whether certain conditions are true or false. It usually contains an if clause, which specifies a condition, and a then clause, which states what should be done if the condition is true.\n",
        "* **While loops -** A while loop is a type of looping statement in programming that allows code to be repeated until a certain condition is met.\n",
        "* **For loops -** A for loop is a type of looping statement in programming that allows code to be repeated a set number of times.\n"
      ]
    },
    {
      "cell_type": "markdown",
      "metadata": {
        "id": "5_m_qUaRcBWX"
      },
      "source": [
        "## **Conditionals**\n",
        "\n",
        "A **conditional statement** is a statement that contains a logical expression that determines whether certain conditions are `True` or `False`. The conditional statement usually contains an `if` clause, which specifies a condition, and a then clause, which states what should be done if the condition is true."
      ]
    },
    {
      "cell_type": "markdown",
      "metadata": {
        "id": "e46aLzt-cBWX"
      },
      "source": [
        "### Example 1: Simple conditional control statement\n",
        "\n",
        "The cell below shows an example of a simple conditional statement. The basic form of a conditional statement controls whether or not a block of statements will get executed.\n",
        "\n",
        "`if expression:`\n",
        "\n",
        "&nbsp;&nbsp;&nbsp;&nbsp;&nbsp;&nbsp;`statements`\n",
        "    \n",
        "If the `expression` evaluates to `True`, the statements will be executed; otherwise, the statements are skipped.\n",
        "\n",
        "When writing any conditional statement, the `if expression` statement must end with a colon `:`. It is also necessary that each `statement` be _**indented by 4 spaces**_.\n",
        "\n",
        "Indentation is **extremely** important in Python. It is only by indenting the statement, that Python knows the statement belows to the `if` statement.   "
      ]
    },
    {
      "cell_type": "code",
      "execution_count": null,
      "metadata": {
        "tags": [],
        "id": "tjLOb_UrcBWX"
      },
      "outputs": [],
      "source": [
        "# Example 1: Simple conditional control statement\n",
        "\n",
        "# Define variables\n",
        "a = 30\n",
        "b = 200\n",
        "\n",
        "# Write the conditional statement\n",
        "if b > a:\n",
        "    print(\"b is greater than a\")  # This line MUST BE INDENTED 4 SPACES!!"
      ]
    },
    {
      "cell_type": "markdown",
      "metadata": {
        "id": "94Z6AiimcBWY"
      },
      "source": [
        "Since the `if expression` evaluated to `True`, the print function generated the following output:\n",
        "\n",
        "`b is greater than a`\n"
      ]
    },
    {
      "cell_type": "markdown",
      "metadata": {
        "id": "Y3lTZIwTcBWY"
      },
      "source": [
        "-----------------------------------------------------------------\n",
        "## **A Comment on Indentation**\n",
        "\n",
        "In Python code blocks being looped over are delimited by **_indentation_**. In most programming languages, **_whitespace_** is not important...but in Python whitespace is _extremely_ important!\n",
        "\n",
        "In Python, **all** code blocks (i.e., those occurring inside loops, if clauses, function definitions, etc.) **must** be delimited by indentation. Unlike most computer languages, _whitespace_ in Python code affects the output of the program.\n",
        "\n",
        "Once you get used to it, this is a good thing. Indentation:\n",
        "* Forces clean, consistent indentation, improving readability.\n",
        "* Removes clutter, such as the brackets or end statements used in other languages.\n",
        "\n",
        "On the other hand, it takes a bit of care to get right, so please remember:\n",
        "\n",
        "**The line before the start of a code block always ends in a _colon_** as shown in the following examples:\n",
        "\n",
        "* for i in range(10) **:**\n",
        "* if x > y **:**\n",
        "* while x < 100 **:**\n",
        "\n",
        "In addition, all lines in a code block must have the same amount of indentation. The **_Python standard is 4 spaces_** and that is what you should use.\n",
        "\n",
        "---------------------------------------------------------------------\n"
      ]
    },
    {
      "cell_type": "markdown",
      "metadata": {
        "tags": [],
        "id": "yvuKDmDBcBWY"
      },
      "source": [
        "### **Exercise 1: Repeat Example 1 but reverse the values of `a` and `b`**\n",
        "\n",
        "In the cell below, insert the code from **Example 1**, but this time make `a=200` and `b=30` and then run the cell."
      ]
    },
    {
      "cell_type": "code",
      "execution_count": null,
      "metadata": {
        "id": "dRmymrPhcBWY"
      },
      "outputs": [],
      "source": [
        "# Insert your code for Exercise 1 here\n",
        "\n"
      ]
    },
    {
      "cell_type": "markdown",
      "metadata": {
        "id": "fVc0hT9LcBWY"
      },
      "source": [
        "If your code is correct you shouldn't see any output when you ran the code cell.\n",
        "\n",
        "This is because the `if expression` evaluated to `False` (30 is not greater than 200). Consequently, the `print()` statement was not executed (skipped) and the program terminated without any output.  "
      ]
    },
    {
      "cell_type": "markdown",
      "metadata": {
        "id": "Zfm_z4l2cBWY"
      },
      "source": [
        "### Example 2: `If-Else` one alternative statement\n",
        "\n",
        "The code cell below shows an example of a _one-alternative_ conditional statement. This type of flow control is also called an `if - else` condtional statement. A common use of the one-alternative form of conditional is to return a value when the `if expression` evalutes to `False`.\n",
        "\n",
        "Example 2 is the same code you were asked to write in **Exercise 1**, but with the addition of an `else:` followed by _statement2_."
      ]
    },
    {
      "cell_type": "code",
      "execution_count": null,
      "metadata": {
        "id": "OCY4QpPdcBWY"
      },
      "outputs": [],
      "source": [
        "# Example 2: If-else statement\n",
        "\n",
        "# Code from Exercise 1 above\n",
        "a = 200\n",
        "b = 30\n",
        "\n",
        "# Add else to conditional if statement\n",
        "if b > a:\n",
        "    print(\"b is greater than a\")       # statement1\n",
        "else:\n",
        "    print(\"b is less than a\")          # statement2\n"
      ]
    },
    {
      "cell_type": "markdown",
      "metadata": {
        "id": "6fUjOLhHcBWY"
      },
      "source": [
        "The output from the code cell is\n",
        "~~~text\n",
        "b is less than a\n",
        "~~~\n",
        "indicating that  `statement2` following the `else` was executed instead of `statement1`.\n",
        "\n",
        "Statement1 was **not** executed since `b < a` evaluated to `False`."
      ]
    },
    {
      "cell_type": "markdown",
      "metadata": {
        "id": "9xsUWWeUcBWY"
      },
      "source": [
        "### **Exercise 2: Set both `a` and `b` to the same value**\n",
        "    \n",
        "In the code cell below, copy the code from **Example 2** but this time, set the values of both `a` and `b` to 200."
      ]
    },
    {
      "cell_type": "code",
      "execution_count": null,
      "metadata": {
        "id": "r00_jLQjcBWY"
      },
      "outputs": [],
      "source": [
        "# Insert your code for Exercise 2 here\n",
        "\n"
      ]
    },
    {
      "cell_type": "markdown",
      "metadata": {
        "id": "ky1jtOy8cBWY"
      },
      "source": [
        "Again, the output from the code cell is `b is less than a` indicating that  `statement2` following the `else` was executed instead of `statement1`.\n",
        "\n",
        "However, the code is not quite right since `a` and `b` were both assigned to the **_same_** value. We can fix this problem with a _multi_-_test conditional_ statement as shown in the next example."
      ]
    },
    {
      "cell_type": "markdown",
      "metadata": {
        "id": "JutcfU2ocBWY"
      },
      "source": [
        "### **Example 3: Multi-Test Conditional**\n",
        "\n",
        "The cell below shows an example of a multi-test conditional statement. It uses the same code shown in Example 2, but adds an `elif:` in the middle. The _keyword_ `elif` is short for _else if_ ."
      ]
    },
    {
      "cell_type": "code",
      "execution_count": null,
      "metadata": {
        "id": "_3wuYwbfcBWY"
      },
      "outputs": [],
      "source": [
        "# Example 3: Add elif staTement\n",
        "\n",
        "# Code from Example 2\n",
        "a = 200\n",
        "b = 200\n",
        "\n",
        "# Add elif to conditional if statement\n",
        "if b > a:\n",
        "    print(\"b is greater than a\")       # statement1\n",
        "elif b < a:\n",
        "    print(\"b is less than a\")          # statement2\n",
        "else:\n",
        "    print(\"a and b are equal\")         # statement2\n"
      ]
    },
    {
      "cell_type": "markdown",
      "metadata": {
        "id": "RgQe41-jcBWY"
      },
      "source": [
        "The problem with the code in Exercise 2 has been fixed by making a _multi_-_test conditional_ flow control."
      ]
    },
    {
      "cell_type": "markdown",
      "metadata": {
        "tags": [],
        "id": "yUongsYscBWY"
      },
      "source": [
        "------------------------------------------------\n",
        "\n",
        "### How Many Multi-Test Conditions can you use?\n",
        "\n",
        "With a multi-test conditional, you can use as many `elif:` alternatives as you want.\n",
        "\n",
        "`if expression:`\n",
        "\n",
        "&nbsp;&nbsp;&nbsp;&nbsp;&nbsp;&nbsp;`statement1`\n",
        "\n",
        "`elif expression:`\n",
        "\n",
        "&nbsp;&nbsp;&nbsp;&nbsp;&nbsp;&nbsp;`statement2`\n",
        "\n",
        "`elif expression:`\n",
        "\n",
        "&nbsp;&nbsp;&nbsp;&nbsp;&nbsp;&nbsp;`statement3`\n",
        "\n",
        "`elif expression:`\n",
        "\n",
        "&nbsp;&nbsp;&nbsp;&nbsp;&nbsp;&nbsp;`statement4`\n",
        "\n",
        "`elif expression:`\n",
        "\n",
        "&nbsp;&nbsp;&nbsp;&nbsp;&nbsp;&nbsp;`statement5`\n",
        "\n",
        "`else:`\n",
        "\n",
        "&nbsp;&nbsp;&nbsp;&nbsp;&nbsp;&nbsp;`statement6`\n",
        "\n",
        "----------------------------------------------------------------------"
      ]
    },
    {
      "cell_type": "markdown",
      "metadata": {
        "id": "kSOo10fUcBWY"
      },
      "source": [
        "\n",
        "## **WARNING--WARNING--WARNING--WARNING**\n",
        "\n",
        "When working with loops it's easy to make a coding error so that when you run the code cell, nothing seems to be happening. Actually, your loop is literally **OUT OF CONTROL!!**\n",
        "\n",
        "Don't panic. All you need to do is to **_Interrupt execution_**.\n",
        "\n",
        "Use your mouse to select `Runtime` on the main menu. From the dropdown menu select **Interrupt execution**. (You can also use the key combination `Ctrl + M I`).\n",
        "\n",
        "It may take a few seconds, but your program should come to a stop so you can fix your coding error.\n",
        "\n",
        "![__](https://biologicslab.co/BIO1173/images/InterruptSessionArrow.png)\n",
        "\n",
        "--------------------------------------------------------"
      ]
    },
    {
      "cell_type": "markdown",
      "metadata": {
        "id": "Snz2DN8ocBWY"
      },
      "source": [
        "# **Loops**\n",
        "\n",
        "**_Looping_** is a type of programming structure which allows code to be repeated multiple times. It works by executing a set of instructions in a loop until a certain condition is met. It can be used to iterate through a set of data, or to repeat a set of instructions multiple times. Looping can be accomplished through the use of `for` loops and `while` loops.\n",
        "\n",
        "It is possible to use loops to iterate through the various Python collections previously described including lists, sets, dictionaries and tuples. Loops are also widely used when working with _array data_ that will be covered in the next lesson."
      ]
    },
    {
      "cell_type": "markdown",
      "metadata": {
        "tags": [],
        "id": "Zr4F2Hx1cBWY"
      },
      "source": [
        "## **While Loops**\n",
        "\n",
        "The basic form of a `while` loop begins with the keyword _while_ followed by an expression.\n",
        "\n",
        "`while expression:`\n",
        "\n",
        "&nbsp;&nbsp;&nbsp;&nbsp;&nbsp;&nbsp;`statements`\n",
        "\n",
        "As long as the `while expression` is true, the statements are executed and the expression is evaluated again. In other words, useless something makes the expression become `False`, the while loop will be repeated _forever_.\n",
        "\n",
        "Normally, _something_ occurs while the code is running to change the espression to `False`. When this occurs, the statements in the `while loop` are skipped and execution of the `while loop` is completed.\n",
        "\n",
        "As with conditional loops, it is essential to indent each line in the loop by 4 spaces."
      ]
    },
    {
      "cell_type": "markdown",
      "metadata": {
        "id": "qns69nrvcBWY"
      },
      "source": [
        "### Example 4: `while` loop using a positive augmented assignment\n",
        "\n",
        "To increment a `while` loop, you need to increment the **_loop control variable_** at the end of each iteration of the loop. This can be done by adding a line of code to the end of the loop that increments the loop control variable.\n",
        "\n",
        "For historical reasons, the letters `i`, `j` and `k` are often used as loop control variables. The letter `i` is used for the _main_ loop, with the letters `j` and `k` used if you need loops inside the main loop. However, variables with names such as `counter`, `index`, `number`, `position`, and `total` are often used as well.   \n",
        "\n",
        "In this example, the letter `i` serves as the loop control variable. It is always necessary to is assign an `initial value` to any loop control variable, _before_ it is used the `while` statement. In the code example below, the initial value of `i` is set to `1`. It's value is incremented by 1 at the end of each loop iteration with the code: `i += 1`.\n",
        "\n",
        "**Augmented Assignment**\n",
        "\n",
        "The code `i += 1` is an example of an **_augmented assignment_**. An augmented assignment is an operator that combines an operation and an assignment. It performs the operation on a variable and then assigns the result of the operation to that variable. For example, the augmented assignment \"+=\" adds the right-hand side value to the left-hand side variable and then assigns the result to the left-hand side variable."
      ]
    },
    {
      "cell_type": "code",
      "execution_count": null,
      "metadata": {
        "tags": [],
        "id": "ctIesH0JcBWZ"
      },
      "outputs": [],
      "source": [
        "# Example 4: Positive argument assignment\n",
        "\n",
        "# Assign an intial value to the loop control variable\n",
        "i = 1\n",
        "\n",
        "# while loop\n",
        "while i < 6:\n",
        "  print(i)\n",
        "  i += 1   # augmented assignment increases i by 1\n"
      ]
    },
    {
      "cell_type": "markdown",
      "metadata": {
        "id": "gCZWmEm_cBWZ"
      },
      "source": [
        "The `print(i)` statement near the end of the `while` loop prints the numbers 1 through 5. Here's why.\n",
        "\n",
        "Before the loop starts, the variable `i` is set to `1` so the first number printed is 1. Immediately after the `print(i)` statement, the value of `i` is incremented by 1 using the _positive_ augmented assignment `i +=1`.\n",
        "\n",
        "During the next pass through the loop, `i` is equal to 2 and so on. Finally, after printing the number 5, the value of `i` is increased to 6 so the logical expression, `while i < 6`, evaluates to `False` and the loop terminates."
      ]
    },
    {
      "cell_type": "markdown",
      "metadata": {
        "id": "tvIi1bh2cBWZ"
      },
      "source": [
        "### **Exercise 4: `while` loop using a positive agumented assignment**\n",
        "\n",
        "In **Example 4**  the `while` loop was incremented by a single integer value using the positive agumented asssingment `i +=1`. The augumented assignment is flexible. It can be set to increment by values greater than 1.\n",
        "\n",
        "In the code cell below use the variable `even_counter` as the loop control variable (instead of `i`) with an initial value of 2. Use the same `while` loop given in **Example 4** but the conditional statement `while even_counter < 12`. Print out the values of `even_counter` instead of `i`. Finally, use the augmented assignment `even_counter +=2` to advance each step by 2 instead of 1.\n",
        "\n",
        "**WARNING:** Press the stop icon (_Interrupt the kernel_) if you make a coding error and your loop doesn't terminate after a few seconds.    "
      ]
    },
    {
      "cell_type": "code",
      "execution_count": null,
      "metadata": {
        "tags": [],
        "id": "lYwCKGpxcBWZ"
      },
      "outputs": [],
      "source": [
        "# Insert your code for Exercise 4 here\n",
        "\n",
        "\n"
      ]
    },
    {
      "cell_type": "markdown",
      "metadata": {
        "id": "l8hpgBz4cBWZ"
      },
      "source": [
        "If your code is correct you should see the following even numbers printed out:\n",
        "~~~text\n",
        "2\n",
        "4\n",
        "6\n",
        "8\n",
        "10\n",
        "~~~"
      ]
    },
    {
      "cell_type": "markdown",
      "metadata": {
        "id": "19Rh1BnCcBWZ"
      },
      "source": [
        "### Example 5: While loop using a negative augmented assignment\n",
        "\n",
        "As stated above, augmented assignments can be either positive or negative. The code in the cell below uses a _negative_ agumented assignment operator to decrease the loop control variable by 1 during each iteration of the `while` loop."
      ]
    },
    {
      "cell_type": "code",
      "execution_count": null,
      "metadata": {
        "id": "8EhtZT9mcBWZ"
      },
      "outputs": [],
      "source": [
        "# Example 5: Negative augmented assignment operator\n",
        "\n",
        "# Assign an intial value to the loop control variable\n",
        "i = 5\n",
        "\n",
        "# while loop\n",
        "while i > 0:\n",
        "  print(i)\n",
        "  i -= 1   # decrement i by 1"
      ]
    },
    {
      "cell_type": "markdown",
      "metadata": {
        "id": "Sg6MjKLHcBWZ"
      },
      "source": [
        "If your code is correct you should see the following output:\n",
        "~~~text\n",
        "5\n",
        "4\n",
        "3\n",
        "2\n",
        "1\n",
        "~~~\n",
        "\n",
        "After the number `1` is printed, the value of `i` becomes `0` so the `while i > 0` becomes `False` and the loop terminates."
      ]
    },
    {
      "cell_type": "markdown",
      "metadata": {
        "id": "32J8WCjVcBWZ"
      },
      "source": [
        "### **Exercise 5: While loop using a negative augmented assignment**\n",
        "\n",
        "In the code cell below use the variable `negative_counter` as the loop control variable (instead of `i`) with an initial value of 10. Use the same `while` loop given in **Example 5** but the conditional statement `while negative_counter > -3`. Print out the values of `negative_counter` and use the negative augmented assignment `negative_counter -=2` to decrement the value of the counter by 2 after each iteration.\n",
        "\n",
        "**WARNING:** Press the stop icon (_Interrupt the kernel_) if you make a coding error and your loop doesn't terminate after a few seconds.\n"
      ]
    },
    {
      "cell_type": "code",
      "execution_count": null,
      "metadata": {
        "id": "u66cnLCxcBWZ"
      },
      "outputs": [],
      "source": [
        "# Insert your code for Exercise 5 here\n",
        "\n"
      ]
    },
    {
      "cell_type": "markdown",
      "metadata": {
        "id": "VEsDaDXdcBWZ"
      },
      "source": [
        "If your code is correct you should only see the even numbers:\n",
        "~~~text\n",
        "10\n",
        "8\n",
        "6\n",
        "4\n",
        "2\n",
        "0\n",
        "-2\n",
        "~~~\n",
        "After the number `-2` is printed, the value of `negative_counter` becomes `-4` so the `while i > -3` becomes `False` and the loop terminates."
      ]
    },
    {
      "cell_type": "markdown",
      "metadata": {
        "id": "ygHJJJZFcBWZ"
      },
      "source": [
        "### Example 6: Iterate through a list with a`while` loop\n",
        "\n",
        "The code below shows how to use a `while` loop to print out the value of item in the list using _square bracket indexing_ `[ ]`, which was covered in an earlier lesson.\n",
        "\n",
        "Since Python starts sequences at index `0`, it is important to initialize the loop control variable `index` to a value of `0` instead of `1`.\n",
        "\n",
        "Immediately after the `print(i)` statement, the value of `index` is incremented by 1 using the augmented assignment `+=1`.\n",
        "\n",
        "The variable `length` determines the number of times the loop iterates through the `nucleotide_list`. To get the correct number of items in the list, the `len()` function is used instead of counting them by hand. Notice that the `while` loop exits on step _before_ it reaches the length of the list\n",
        "\n",
        "`while index` **`<`** `length:`\n",
        "\n",
        "Once again this is because Python starts indexing sequences at `0` instead of `1`.  \n",
        "\n"
      ]
    },
    {
      "cell_type": "code",
      "execution_count": null,
      "metadata": {
        "id": "_FbpViZ7cBWZ"
      },
      "outputs": [],
      "source": [
        "# Example 6: While loop iteration through a list\n",
        "\n",
        "# Define a list\n",
        "nucleotide_list = [\"adenine\", \"guanine\", \"cytosine\", \"thymine\", \"uracil\"]\n",
        "\n",
        "# Initialize counter and length of list\n",
        "index = 0\n",
        "length = len(nucleotide_list)\n",
        "\n",
        "# Loop through the list using a while loop\n",
        "while index < length:\n",
        "    # Print the element at the current index\n",
        "    print(nucleotide_list[index])\n",
        "    # Increment the index by 1\n",
        "    index += 1"
      ]
    },
    {
      "cell_type": "markdown",
      "metadata": {
        "id": "bdDM5XJXcBWZ"
      },
      "source": [
        "If your code is correct you should see the following output:\n",
        "~~~text\n",
        "adenine\n",
        "guanine\n",
        "cytosine\n",
        "thymine\n",
        "uracil\n",
        "~~~"
      ]
    },
    {
      "cell_type": "markdown",
      "metadata": {
        "id": "rrlWixHocBWZ"
      },
      "source": [
        "### **Exercise 6: Iterate through part of a list with a `while` loop**\n",
        "\n",
        "In **Example 6** the `while` loop was used to iterate through the entire list of nucleotides using _square bracket indexing_ `[ ]`. You can also use this approach to iterate through only part of the list, (which Python calls a **slice**) by simply adjusting the the index values and/or the augmented assignment operator.\n",
        "\n",
        "Copy the code in **Example 6** and paste it into the cell below. You objective is to print out **only** the values `guanine` and `thymine` from 'nucleotid_list` by changing one or more of the following values:\n",
        "\n",
        "1. Initial value of `index`\n",
        "2. The value and/or sign of the `augmented assignment operator`\n",
        "\n",
        "Like most coding problems, there are more than one way to solve this one."
      ]
    },
    {
      "cell_type": "code",
      "execution_count": null,
      "metadata": {
        "id": "0Gk-KF4JcBWZ"
      },
      "outputs": [],
      "source": [
        "# Insert your code for Exercise 6 here\n",
        "\n"
      ]
    },
    {
      "cell_type": "markdown",
      "metadata": {
        "id": "2JUvFQoocBWZ"
      },
      "source": [
        "If your code is correct the output should only show `guanine` and `thymine` printed out in either order."
      ]
    },
    {
      "cell_type": "markdown",
      "metadata": {
        "id": "pGjFDw39cBWa"
      },
      "source": [
        "### Example 7: `while` loop with a final `else`clause\n",
        "\n",
        "Just like the  conditional `if statment`, a `while` loop can also contain an optional `else:` clause at the end. The final `else` clause is executed when the `while expression` evaluates to `False`, as shown in the code example below."
      ]
    },
    {
      "cell_type": "code",
      "execution_count": null,
      "metadata": {
        "id": "yM2I6wuYcBWa"
      },
      "outputs": [],
      "source": [
        "# Example 7: While loop with else clause\n",
        "\n",
        "# While loop with final clause\n",
        "i = 1\n",
        "while i < 6:\n",
        "    print(i)\n",
        "    i += 1   # increment i by 1\n",
        "else:\n",
        "    print('The while expression evaluated to false and the loop is terminating')"
      ]
    },
    {
      "cell_type": "markdown",
      "metadata": {
        "id": "9i-bUg_lcBWa"
      },
      "source": [
        "If your code is correct you should see the following output:\n",
        "~~~text\n",
        "1\n",
        "2\n",
        "3\n",
        "4\n",
        "5\n",
        "The while expression evaluated to false and the loop is terminating\n",
        "~~~"
      ]
    },
    {
      "cell_type": "markdown",
      "metadata": {
        "id": "KqGxjHPEcBWa"
      },
      "source": [
        "### **Exercise 7: Add a final `else` clause to Exercise 5**\n",
        "\n",
        "Copy your code from **Exercise 5** and paste it into the code cell below. Then add the final `else` clause used in Example 5 so it prints out a statement when it terminates."
      ]
    },
    {
      "cell_type": "code",
      "execution_count": null,
      "metadata": {
        "id": "4awmiWO0cBWa"
      },
      "outputs": [],
      "source": [
        "# Insert your code for Exercise 7 here\n",
        "\n"
      ]
    },
    {
      "cell_type": "markdown",
      "metadata": {
        "id": "9_TidybqcBWa"
      },
      "source": [
        "If your code is correct you should see:\n",
        "~~~text\n",
        "10\n",
        "8\n",
        "6\n",
        "4\n",
        "2\n",
        "0\n",
        "-2\n",
        "The while expression evaluated to false and the loop is terminating\n",
        "~~~\n"
      ]
    },
    {
      "cell_type": "markdown",
      "metadata": {
        "tags": [],
        "id": "q528ZG9McBWa"
      },
      "source": [
        "### Example 8: Using a `break` to interrupt flow\n",
        "\n",
        "There are three ways for a loop's execution to end:\n",
        "\n",
        "+ Normally\n",
        "  + The test evaluates to false.\n",
        "+ Abnormally\n",
        "  + An error occurs in the evaluation of the test or body of the loop.\n",
        "+ Prematurely\n",
        "  + The body of the loop executes a `return` or `break` statement.\n",
        "\n",
        "When you write a loop, you must make sure that (1) either the test expression eventually becomes false or (2) you insert either a `break` or a `return` that are executed during the loop. Otherwise, the program will get stuck in what is called an _infinite loop_ and never stop.\n",
        "\n",
        "In the example below, a `break` statement is used to prematurely exit the `while` loop use in Example 7."
      ]
    },
    {
      "cell_type": "code",
      "execution_count": null,
      "metadata": {
        "id": "M0WpM2czcBWa"
      },
      "outputs": [],
      "source": [
        "# Example 8: Using a break to interrupt flow\n",
        "\n",
        "# While loop with final clause\n",
        "i = 1\n",
        "while i < 6:\n",
        "    if i == 3:\n",
        "        break\n",
        "    print(i)\n",
        "    i += 1   # increment i by 1\n",
        "else:\n",
        "    print('The while expression evaluated to false and the loop is terminating')\n"
      ]
    },
    {
      "cell_type": "markdown",
      "metadata": {
        "id": "yGXHvDRMcBWa"
      },
      "source": [
        "Unlike Example 7, Example 8 only prints out the numbers `1` and `2`.\n",
        "\n",
        "This is because when `i=3`, the `if` expression, `if i == 3`, becomes `True` and the `break` statement is executed, which terminates the loop."
      ]
    },
    {
      "cell_type": "markdown",
      "metadata": {
        "id": "1V7MrN-gcBWa"
      },
      "source": [
        "### **Exercise 8: Using a `break` to interrupt flow**\n",
        "\n",
        "In the code cell below, add a `break` statement to **Exercise 7** so that the loop terminates when `negative_counter = 2`.\n",
        "\n",
        "**NOTE:** Be careful that you indent each line of code properly. Otherwise you will receive an error that reads: `IndentationError: unexpected indent`"
      ]
    },
    {
      "cell_type": "code",
      "execution_count": null,
      "metadata": {
        "id": "4cbMdgbacBWa"
      },
      "outputs": [],
      "source": [
        "# Insert your code for Exercise 8 here\n",
        "\n"
      ]
    },
    {
      "cell_type": "markdown",
      "metadata": {
        "id": "BrrVsPuPcBWa"
      },
      "source": [
        "If you code was written correctly, you should only see only the following numbers:\n",
        "~~~text\n",
        "10\n",
        "8\n",
        "6\n",
        "4\n",
        "~~~\n",
        "If you received an indentation error, make sure your code has the same indentation that was used in **Example 8**."
      ]
    },
    {
      "cell_type": "markdown",
      "metadata": {
        "tags": [],
        "id": "73V9h_egcBWa"
      },
      "source": [
        "## **For Loops**\n",
        "\n",
        "The basic form of a `for` loop begins with the keyword _for_ followed by an expression.\n",
        "\n",
        "`for expression:`\n",
        "\n",
        "&nbsp;&nbsp;&nbsp;&nbsp;&nbsp;&nbsp;`statements`\n",
        "\n",
        "As long as the `for expression` is `True`, the statements are executed and the expression is evaluated again. In other words, useless something makes the expression become `False`, the `for` loop will be repeated _forever_.\n",
        "\n",
        "At first glance, a `for` loop appears to duplicate the function of a `while loop`. However, there are important differences between these two types of control statements. An important, but not the only difference is that `for loops` are used when the number of iterations is already known. On the other hand, `while loops` are used when the number of iterations is unknown.\n",
        "\n",
        "The main differences between `for` and `while` loops are summarized in the folllowing table:"
      ]
    },
    {
      "cell_type": "markdown",
      "metadata": {
        "tags": [],
        "id": "6tUmT8sOcBWa"
      },
      "source": [
        "### **Differentiation Table**\n",
        "\n",
        "|Basis of Comparison |For Loop | While Loop|\n",
        "| -----------------------|-----------------------------|----------------------|\n",
        "|Keyword |Uses `for` keyword | Uses `while` keyword\n",
        "| Used | For loop is used when the number of iterations is already known. | While loop is used when the number of iterations is already Unknown.|\n",
        "| absence of condition | The loop runs infinite times in the absence of condition| Returns the compile time error in the absence of condition|\n",
        "| Nature of Initialization | Once done, it cannot be repeated | In the while loop, it can be repeated at every iteration.|\n",
        "| Functions | To iterate, the range or xrange function is used. |There is no such function in the while loop.|\n",
        "| Initialization based on iteration |To be done at the beginning of the loop.| In the while loop, it is possible to do this anywhere in the loop body.|"
      ]
    },
    {
      "cell_type": "markdown",
      "metadata": {
        "id": "U-eFoKOtcBWa"
      },
      "source": [
        "### Example 9: Looping through a sequence\n",
        "\n",
        "Looping through a list is a process of iterating through each element in a Python list. This can be done using a 'for' loop, which iterates through each element in the list and performs some kind of action on it.\n",
        "\n",
        "In this example, taken from a bioinformatics problem, a `for` loop is used to iterate through a sequence of DNA nucleotides (`a`, `g`, `c` and `t`) _three_ nucleotides at a time. As probably already know, 3 nucleotides is called a **_triplet_**.\n"
      ]
    },
    {
      "cell_type": "code",
      "execution_count": null,
      "metadata": {
        "tags": [],
        "id": "teM2ieq6cBWa"
      },
      "outputs": [],
      "source": [
        "# Example 9: Iterate a sequence with a for loop\n",
        "\n",
        "# define sequence\n",
        "dnaSequence = 'tagcgctttatcggg'\n",
        "\n",
        "# compute number of triplets\n",
        "numTriplets = len(dnaSequence) // 3\n",
        "print(f\"Number of triplets in DNA sequence = {numTriplets}.\")\n",
        "\n",
        "# initialize loop control variable\n",
        "i = 0\n",
        "\n",
        "# for loop\n",
        "for base in dnaSequence:\n",
        "    start = i\n",
        "    end = start + 3\n",
        "    print(dnaSequence[start:end])   # f-print triplet\n",
        "    i=i+3 # increment index by 3 to get next triplet\n",
        "    if end > 3 * numTriplets:break  # stop printing after last triplet\n"
      ]
    },
    {
      "cell_type": "markdown",
      "metadata": {
        "id": "RtGA_cdWcBWa"
      },
      "source": [
        "If your code is correct you should see:\n",
        "~~~text\n",
        "Number of triplets in DNA sequence = 5.\n",
        "tag\n",
        "cgc\n",
        "ttt\n",
        "atc\n",
        "ggg\n",
        "~~~"
      ]
    },
    {
      "cell_type": "markdown",
      "metadata": {
        "id": "xBqh6MumcBWa"
      },
      "source": [
        "### **Exercise 9: Looping through a dictionary**\n",
        "\n",
        "Looping through a Python dictionary is similar to the process of looping through a sequence except that dictionaries have `key:value` pairs.\n",
        "\n",
        "The cell below shows a code example that can be used to loop through a dictionary one item at a time where `dictionary_name` is the name of the Python dictionary. The `item()` method is used to extract the `key:value` pair from the dictionary."
      ]
    },
    {
      "cell_type": "markdown",
      "metadata": {
        "scrolled": true,
        "id": "aR0p9Z7fcBWa"
      },
      "source": [
        "~~~text\n",
        "for key, value in dictionary_name.items():\n",
        "    print(key + \": \" + value)\n",
        "~~~"
      ]
    },
    {
      "cell_type": "markdown",
      "metadata": {
        "id": "tqTAlb6NcBWa"
      },
      "source": [
        "And here is the code for the Python dictionary called `DNABaseDict` used in an earlier lesson."
      ]
    },
    {
      "cell_type": "markdown",
      "metadata": {
        "metadata": {
          "deletable": false,
          "editable": false,
          "trusted": true
        },
        "tags": [],
        "id": "karDBWF3cBWa"
      },
      "source": [
        "~~~text\n",
        "DNABaseDict = dict((['A', 'adenine'],\n",
        "                    ['C', 'cytosine'],\n",
        "                    ['G', 'guanine'],\n",
        "                    ['T', 'thymine']\n",
        "                   ))\n",
        "~~~"
      ]
    },
    {
      "cell_type": "markdown",
      "metadata": {
        "id": "pF7GzYk6cBWa"
      },
      "source": [
        "In the cell below write the Python code that uses a `for` loop to iterate through the `DNABaseDict` and prints out each `key:value` pair."
      ]
    },
    {
      "cell_type": "code",
      "execution_count": null,
      "metadata": {
        "id": "cwqvHbxhcBWb"
      },
      "outputs": [],
      "source": [
        "# Insert your code for Exercise 9 here\n",
        "\n"
      ]
    },
    {
      "cell_type": "markdown",
      "metadata": {
        "id": "hcIzKD89cBWb"
      },
      "source": [
        "If your code is correct you should see the following output:\n",
        "~~~text\n",
        "A: adenine\n",
        "C: cytosine\n",
        "G: guanine\n",
        "T: thymine\n",
        "~~~"
      ]
    },
    {
      "cell_type": "markdown",
      "metadata": {
        "id": "gfWQUVhRcBWb"
      },
      "source": [
        "---------------------------------------------\n",
        "\n",
        "### **Summary of Syntax**\n"
      ]
    },
    {
      "cell_type": "markdown",
      "metadata": {
        "id": "iD9tYh-kcBWb"
      },
      "source": [
        "Here is a summary of the Syntax used in this lesson"
      ]
    },
    {
      "cell_type": "markdown",
      "metadata": {
        "id": "zILWKWiMcBWb"
      },
      "source": [
        "| Python Syntax           | Description                                         |\n",
        "|:------------------------|:----------------------------------------------------|\n",
        "| `break` | Terminates the enclosing loop   |\n",
        "| `if expression:`        | Conditional loop      |            \n",
        "| `while espression:`     | While loop |\n",
        "| `for expression:`       | For loop   |\n"
      ]
    },
    {
      "cell_type": "markdown",
      "metadata": {
        "id": "DbwtBnHVcBWb"
      },
      "source": [
        "## **Lesson Turn-in**\n",
        "\n",
        "When you have completed running ***all*** of the code cells, use the **File --> Print.. --> Save to PDF** to generate a PDF of your Colab notebook copy. Save your PDF as `Class_01_4_lastname.pdf` where _lastname_ is your last name, and upload the file to Canvas."
      ]
    },
    {
      "cell_type": "markdown",
      "source": [
        "-----------------------------------------\n",
        "\n",
        "## **Lizard Tail**\n",
        "\n",
        "\n",
        "## **Compaq**\n",
        "\n",
        "\n",
        "![__](https://upload.wikimedia.org/wikipedia/commons/c/c7/Compaq_portable.jpg)\n",
        "\n",
        "> Compaq Portable (1983)\n",
        "\n",
        "**Compaq Computer Corporation[c]** was an American information technology company founded in 1982 that developed, sold, and supported computers and related products and services. Compaq produced some of the first IBM PC compatible computers, being the second company after Columbia Data Products[3] to legally reverse engineer the BIOS of the IBM Personal Computer. It rose to become the largest supplier of PC systems during the 1990s. The company was initially based in Harris County, Texas.\n",
        "\n",
        "The company was formed by Rod Canion, Jim Harris, and Bill Murto, all of whom were former Texas Instruments senior managers. All three had left by 1991 under a shakeup, which saw Eckhard Pfeiffer appointed president and CEO, serving through the 1990s. Ben Rosen provided the venture capital financing for the fledgling company and served as chairman of the board for 17 years from 1983 until September 28, 2000, when he retired and was succeeded by Michael Capellas, who served as its last chairman and CEO until its merger.\n",
        "\n",
        "Compaq was overtaken by Dell as the top global PC maker in 1999. Compaq briefly regained the top spot in 2000 before being overtaken again by Dell in 2001. Struggling to keep up in the price wars against Dell, as well as with a risky acquisition of DEC in 1998, Compaq was acquired by Hewlett-Packard (HP) for US$25 billion in 2002. The Compaq brand remained in use by HP for lower-end systems until 2013 when it was discontinued.\n",
        "\n",
        "As of 2024, the Compaq brand is currently licensed to third parties outside of the United States for use on electronics in Brazil and India.\n",
        "\n",
        "### **History**\n",
        "\n",
        "**Founding**\n",
        "\n",
        "Compaq was founded in February 1982 by Rod Canion, Jim Harris, and Bill Murto, three senior managers from semiconductor manufacturer Texas Instruments. The three of them had left due to lack of faith and loss of confidence in TI's management, and initially considered but ultimately decided against starting a chain of Mexican restaurants.\n",
        "\n",
        "Each invested 1 thousand dollars to form the company, which was founded with the temporary name Gateway Technology. The name \"COMPAQ\" was said to be derived from \"Compatibility and Quality\" but this explanation was an afterthought. The name was chosen from many suggested by Ogilvy & Mather, it being the name least rejected. The first Compaq PC was sketched out on a placemat by Ted Papajohn while dining with the founders in a pie shop, (named House of Pies in Houston). Their first venture capital came from Benjamin M. Rosen and Sevin Rosen Funds, who helped the fledgling company secure \\$1.5 million to produce their initial computer. Overall, the founders managed to raise \\$25 million from venture capitalists, as this gave stability to the new company as well as providing assurances to the dealers or middlemen.\n",
        "\n",
        "Compaq differentiated its offerings from other IBM PC clones by not focusing mainly on price, but instead concentrating on new features such as portability and better technology, at prices comparable to those of IBM's PCs. In contrast to Dell and Gateway 2000, Compaq hired veteran engineers with an average of 15 years experience, which lent credibility to Compaq's reputation of reliability among customers. Due to its partnership with Intel, Compaq was able to maintain a technological lead in the market place as it was the first one to come out with computers containing the next generation of each Intel x86 processors.\n",
        "\n",
        "Under Canion's direction, Compaq sold computers only through dealers to avoid potential competition that a direct sales channel would foster, which helped foster loyalty among resellers. By giving dealers considerable leeway in pricing Compaq's offerings, either a significant markup for more profits or discount for more sales, dealers had a major incentive to advertise Compaq.\n",
        "\n",
        "During its first year of sales (second year of operation), the company sold 53,000 PCs for sales of \\$111 million, the first start-up to hit the \\$100 million mark that fast. Compaq went public in 1983 on the NYSE and raised $67 million. In 1986, it enjoyed record sales of \\$329 million from 150,000 PCs, and became the youngest-ever firm to make the Fortune 500. In 1985, sales reached \\$504 million. In 1987, Compaq hit the \\$1 billion revenue mark, taking the least amount of time to reach that milestone. By 1991, Compaq held the fifth place spot in the PC market with \\$3 billion in sales that year.\n",
        "\n",
        "Two key marketing executives in Compaq's early years, Jim D'Arezzo and Sparky Sparks, had come from IBM's PC Group. Other key executives responsible for the company's meteoric growth in the late 1980s and early 1990s were Ross A. Cooley, another former IBM associate, who served for many years as SVP of GM North America; Michael Swavely, who was the company's chief marketing officer in the early years, and eventually ran the North America organization, later passing along that responsibility to Cooley when Swavely retired. In the United States, Brendan A. \"Mac\" McLoughlin (another long time IBM executive) led the company's field sales organization after starting up the Western U.S. Area of Operations. These executives, along with other key contributors, including Kevin Ellington, Douglas Johns, Steven Flannigan, and Gary Stimac, helped the company compete against the IBM Corporation in all personal computer sales categories, after many predicted that none could compete with the behemoth.\n",
        "\n",
        "The soft-spoken Canion was popular with employees and the culture that he built helped Compaq to attract the best talent. Instead of headquartering the company in a downtown Houston skyscraper, Canion chose a West Coast-style campus surrounded by forests, where every employee had similar offices and no-one (not even the CEO) had a reserved parking spot. At semi-annual meetings, turnout was high as any employee could ask questions to senior managers.\n",
        "\n",
        "In 1987, company co-founder Bill Murto resigned to study at a religious education program at the University of St. Thomas. Murto had helped to organize the company's marketing and authorized-dealer distribution strategy, and held the post of senior vice president of sales since June 1985. Murto was succeeded by Ross A. Cooley, director of corporate sales. Cooley would report to Michael S. Swavely, vice president for marketing, who was given increased responsibility and the title of vice president for sales and marketing.\n",
        "\n",
        "**Introduction of Compaq Portable**\n",
        "\n",
        "In November 1982, Compaq announced their first product, the Compaq Portable, a portable IBM PC compatible personal computer. It was released in March 1983 at \\$2,995. The Compaq Portable was one of the progenitors of today's laptop; some called it a \"suitcase computer\" for its size and the look of its case. It was the second IBM PC compatible, being capable of running all software that would run on an IBM PC. It was a commercial success, selling 53,000 units in its first year and generating \\$111 million in sales revenue. The Compaq Portable was the first in the range of the Compaq Portable series. Compaq was able to market a legal IBM clone because IBM mostly used \"off the shelf\" parts for their PC. Furthermore, Microsoft had kept the right to license MS-DOS, the most popular and _de facto_ standard operating system for the IBM PC, to other computer manufacturers. The only part which had to be duplicated was the BIOS, which Compaq did legally by using clean room design at a cost of \\$1 million.\n",
        "\n",
        "Unlike other companies, Compaq did not bundle application software with its computers. Vice President of Sales and Service H. L. Sparks said in early 1984:\n",
        "\n",
        ">We've considered it, and every time we consider it we reject it. I don't believe and our dealer network doesn't believe that bundling is the best way to merchandise those products.\n",
        "\n",
        ">You remove the freedom from the dealers to really merchandise when you bundle in software. It is perceived by a lot of people as a marketing gimmick. You know, when you advertise a \\$3,000 computer with \\$3,000 worth of free software, it obviously can't be true.\n",
        "\n",
        ">The software should stand on its merits and be supported and so should the hardware. Why should you be constrained to use the software that comes with a piece of hardware? I think it can tend to inhibit sales over the long run.\n",
        "\n",
        "Compaq instead emphasized PC compatibility, of which Future Computing in May 1983 ranked Compaq as among the \"Best\" examples. \"Many industry observers think [Compaq] is poised for meteoric growth\", The New York Times reported in March of that year. By October, when the company announced the Compaq Plus with a 10 MB hard drive, PC Magazine wrote of \"the reputation for compatibility it built with its highly regarded floppy disk portable\". Compaq computers remained the most compatible PC clones into 1984, and maintained its reputation for compatibility for years, even as clone BIOSes became available from Phoenix Technologies and other companies that also reverse engineered IBM's design, then sold their version to clone manufacturers."
      ],
      "metadata": {
        "id": "7E9X7bkfUk0d"
      }
    },
    {
      "cell_type": "code",
      "source": [],
      "metadata": {
        "id": "bdPWY3rKXO41"
      },
      "execution_count": null,
      "outputs": []
    }
  ],
  "metadata": {
    "kernelspec": {
      "display_name": "Python 3.9 (tensorflow)",
      "language": "python",
      "name": "tf-sum24"
    },
    "language_info": {
      "codemirror_mode": {
        "name": "ipython",
        "version": 3
      },
      "file_extension": ".py",
      "mimetype": "text/x-python",
      "name": "python",
      "nbconvert_exporter": "python",
      "pygments_lexer": "ipython3",
      "version": "3.9.19"
    },
    "colab": {
      "provenance": [],
      "include_colab_link": true
    }
  },
  "nbformat": 4,
  "nbformat_minor": 0
}