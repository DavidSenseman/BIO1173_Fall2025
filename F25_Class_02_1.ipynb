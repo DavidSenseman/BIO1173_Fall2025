{
  "cells": [
    {
      "cell_type": "markdown",
      "metadata": {
        "id": "view-in-github",
        "colab_type": "text"
      },
      "source": [
        "<a href=\"https://colab.research.google.com/github/DavidSenseman/BIO1173_Fall2025/blob/main/F25_Class_02_1.ipynb\" target=\"_parent\"><img src=\"https://colab.research.google.com/assets/colab-badge.svg\" alt=\"Open In Colab\"/></a>"
      ]
    },
    {
      "cell_type": "markdown",
      "metadata": {
        "id": "sx9UW2CBjYaf"
      },
      "source": [
        "---------------------------\n",
        "**COPYRIGHT NOTICE:** This Jupyterlab Notebook is a Derivative work of [Jeff Heaton](https://github.com/jeffheaton) licensed under the Apache License, Version 2.0 (the \"License\"); You may not use this file except in compliance with the License. You may obtain a copy of the License at\n",
        "\n",
        "> [http://www.apache.org/licenses/LICENSE-2.0](http://www.apache.org/licenses/LICENSE-2.0)\n",
        "\n",
        "Unless required by applicable law or agreed to in writing, software distributed under the License is distributed on an \"AS IS\" BASIS, WITHOUT WARRANTIES OR CONDITIONS OF ANY KIND, either express or implied. See the License for the specific language governing permissions and limitations under the License.\n",
        "\n",
        "------------------------"
      ]
    },
    {
      "cell_type": "markdown",
      "metadata": {
        "id": "JmMxL6uHjYag"
      },
      "source": [
        "# **BIO 1173: Intro Computational Biology**"
      ]
    },
    {
      "cell_type": "markdown",
      "metadata": {
        "id": "nVzCrgXSjYag"
      },
      "source": [
        "**Module 2: Neural Networks with TensorFlow and Keras**\n",
        "\n",
        "* Instructor: [David Senseman](mailto:David.Senseman@utsa.edu), [Department of Biology, Health and the Environment](https://sciences.utsa.edu/bhe/), [UTSA](https://www.utsa.edu/)\n",
        "\n",
        "### Module 2 Material\n",
        "\n",
        "* **Part 2.1: Introduction to Neural Networks with Tensorflow and Keras**\n",
        "* Part 2.2: Encoding Feature Vectors\n",
        "* Part 2.3: Early Stopping and Dropout to Prevent Overfitting\n",
        "* Part 2.4: Saving and Loading a Keras Neural Network\n"
      ]
    },
    {
      "cell_type": "markdown",
      "metadata": {
        "id": "2__7GCYcjYag"
      },
      "source": [
        "## Google CoLab Instructions\n",
        "\n",
        "You MUST run the following code cell to get credit for this class lesson. By running this code cell, you will map your GDrive to ```/content/drive```  and print out your Google GMAIL address. Your Instructor will use your GMAIL address to verify the author of this class lesson."
      ]
    },
    {
      "cell_type": "code",
      "execution_count": null,
      "metadata": {
        "id": "seXFCYH4LDUM",
        "scrolled": true,
        "colab": {
          "base_uri": "https://localhost:8080/"
        },
        "outputId": "ec00b5f8-0d99-4018-f209-7e27817c1a1f"
      },
      "outputs": [
        {
          "output_type": "stream",
          "name": "stdout",
          "text": [
            "Mounted at /content/drive\n",
            "Note: Using Google CoLab\n",
            "david.senseman@gmail.com\n"
          ]
        }
      ],
      "source": [
        "# You must run this cell first\n",
        "try:\n",
        "    from google.colab import drive\n",
        "    drive.mount('/content/drive', force_remount=True)\n",
        "    from google.colab import auth\n",
        "    auth.authenticate_user()\n",
        "    COLAB = True\n",
        "    print(\"Note: Using Google CoLab\")\n",
        "    import requests\n",
        "    gcloud_token = !gcloud auth print-access-token\n",
        "    gcloud_tokeninfo = requests.get('https://www.googleapis.com/oauth2/v3/tokeninfo?access_token=' + gcloud_token[0]).json()\n",
        "    print(gcloud_tokeninfo['email'])\n",
        "except:\n",
        "    print(\"**WARNING**: Your GMAIL address was **not** printed in the output below.\")\n",
        "    print(\"**WARNING**: You will NOT receive credit for this lesson.\")\n",
        "    COLAB = False"
      ]
    },
    {
      "cell_type": "markdown",
      "source": [
        "Make sure your GMAIL address is visible in the output above."
      ],
      "metadata": {
        "id": "Ec2zE7yUokuW"
      }
    },
    {
      "cell_type": "markdown",
      "metadata": {
        "id": "I9zp9WOrjYag"
      },
      "source": [
        "# **Deep Learning and Neural Network Introduction**\n",
        "\n",
        "**Neural networks** were one of the first machine learning models. Their popularity has fallen twice and is now on its third rise. **Deep learning** implies the use of neural networks. The \"deep\" in deep learning refers to a neural network with many hidden layers. Because neural networks have been around for so long, they have quite a bit of baggage. Researchers have created many different training algorithms, activation/transfer functions, and structures. This course is only concerned with the latest, most current state-of-the-art techniques for deep neural networks. We will not spend much time discussing the history of neural networks.\n",
        "\n",
        "Neural networks accept input and produce output. The input to a neural network is called the **_feature vector_**. The size of this vector is always a fixed length. Changing the size of the feature vector usually means recreating the entire neural network. Though the feature vector is called a \"vector,\" this is not always the case. A vector implies a 1D array. Later we will learn about **Convolutional Neural Networks (CNNs)**, which can allow the input size to change without retraining the neural network. Historically the input to a neural network was always 1D. However, with modern neural networks, you might see input data, such as:\n",
        "\n",
        "* **1D vector** - Classic input to a neural network, similar to rows in a spreadsheet. Common in predictive modeling.\n",
        "* **2D Matrix** - Grayscale image input to a CNN.\n",
        "* **3D Matrix** - Color image input to a CNN.\n",
        "* **nD Matrix** - Higher-order input to a CNN.\n",
        "\n",
        "Before CNNs, programs either encoded images to an intermediate form or sent the image input to a neural network by merely squashing the image matrix into a long array by placing the image's rows side-by-side. CNNs are different as the matrix passes through the neural network layers.\n",
        "\n",
        "Initially, this vpitdr will focus on 1D input to neural networks. However, later modules will focus more heavily on higher dimension input.\n",
        "\n",
        "The term **dimension** can be confusing in neural networks. In the sense of a 1D input vector, dimension refers to how many elements are in that 1D array. For example, a neural network with ten input neurons has ten dimensions. However, now that we have CNNs, the input has dimensions. The input to the neural network will *usually* have 1, 2, or 3 dimensions. Four or more dimensions are unusual. You might have a 2D input to a neural network with 64x64 pixels. This configuration would result in 4,096 input neurons. This network is either 2D or 4,096D, depending on which dimensions you reference.\n"
      ]
    },
    {
      "cell_type": "markdown",
      "metadata": {
        "id": "mzD89SWKjYah"
      },
      "source": [
        "## **Neurons and Layers**\n",
        "\n",
        "Most neural network structures use some type of neuron. Many different neural networks exist, and programmers introduce experimental neural network structures. Consequently, it is not possible to cover every neural network architecture. However, there are some commonalities among neural network implementations. A neural network algorithm would typically be composed of individual, interconnected units, even though these units may or may not be called neurons. The name for a neural network processing unit varies among the literature sources. It could be called a node, neuron, or unit.\n",
        "\n",
        "The diagram below shows the abstract structure of a single artificial neuron (ANN).\n",
        "\n",
        "**An Artifical Neuron**\n",
        "![__](https://biologicslab.co/BIO1173/images/class_2_abstract_nn.png \"An Artifical\")\n",
        "\n",
        "The artificial neuron receives input from one or more sources that may be other neurons or data fed into the network from a computer program. This input is usually floating-point or binary. Often binary input is encoded to floating-point by representing true or false as 1 or 0. Sometimes the program also depicts the binary information using a bipolar system with true as one and false as -1.\n",
        "\n",
        "An artificial neuron multiplies each of these inputs by a **_weight_**. Then it adds these multiplications and passes this sum to an **_activation function_**. Some neural networks do not use an activation function. The following equation summarizes the calculated output of a neuron:\n",
        "\n",
        "$$ f(x,w) = \\phi(\\sum_i(\\theta_i \\cdot x_i)) $$\n",
        "\n",
        "In the above equation, the variables $x$ and $\\theta$ represent the input and weights of the neuron. The variable $i$ corresponds to the number of weights and inputs. You must always have the same number of weights as inputs. The neural network multiplies each weight by its respective input and feeds the products of these multiplications into an activation function, denoted by the Greek letter $\\phi$ (phi). This process results in a single output from the neuron.  \n",
        "\n",
        "The above neuron has two inputs plus the bias as a third. This neuron might accept the following input feature vector:\n",
        "\n",
        "$$ [1,2] $$\n",
        "\n",
        "Because a bias neuron is present, the program should append the value of one as follows:\n",
        "\n",
        "$$ [1,2,1] $$\n",
        "\n",
        "The weights for a 3-input layer (2 real inputs + bias) will always have additional weight for the bias. A weight vector might be:\n",
        "\n",
        "$$ [ 0.1, 0.2, 0.3] $$\n",
        "\n",
        "To calculate the summation, perform the following:\n",
        "\n",
        "$$ 0.1*1 + 0.2*2 + 0.3*1 = 0.8 $$\n",
        "\n",
        "The program passes a value of 0.8 to the $\\phi$ (phi) function, representing the activation function.\n",
        "\n",
        "The above figure shows the structure with just one building block. You can chain together many artificial neurons to build an artificial neural network (ANN). Think of the artificial neurons as **_building blocks_** for which the input and output circles are the connectors. The figure below shows an artificial neural network composed of three neurons:\n",
        "\n",
        "**Three Neuron Neural Network**\n",
        "![Three Neuron Neural Network](https://biologicslab.co/BIO1173/images/ann-simple.png \"Three Neuron Neural Network\")\n",
        "\n",
        "The above diagram shows three interconnected neurons. This representation is essentially this figure, minus a few inputs, repeated three times and then connected. It also has a total of four inputs and a single output. The output of neurons **N1** and **N2** feed **N3** to produce the output **O**.  To calculate the output for this network, we perform the previous equation three times. The first two times calculate **N1** and **N2**, and the third calculation uses the output of **N1** and **N2** to calculate **N3**.\n",
        "   \n",
        "Neural network diagrams do not typically show the detail seen in the previous figure. We can omit the activation functions and intermediate outputs to simplify the chart, resulting in  \n",
        "\n",
        "**Three Neuron Neural Network**\n",
        "![Three Neuron Neural Network](https://biologicslab.co/BIO1173/images/typical-ann.png \"Three Neuron Neural Network\")\n",
        "\n",
        "Looking at the previous figure, you can see two additional components of neural networks. First, consider the graph represents the inputs and outputs as abstract dotted line circles. The input and output could be parts of a more extensive neural network. However, the input and output are often a particular type of neuron that accepts data from the computer program using the neural network. The output neurons return a result to the program. This type of neuron is called an input neuron. We will discuss these neurons in the next section. This figure shows the neurons arranged in layers. The input neurons are the first layer, the **N1** and **N2** neurons create the second layer, the third layer contains **N3**, and the fourth layer has **O**.  Most neural networks arrange neurons into layers.\n",
        "\n",
        "The neurons that form a layer share several characteristics. First, every neuron in a layer has the same activation function. However, the activation functions employed by each layer may be different. Each of the layers fully connects to the next layer. In other words, every neuron in one layer has a connection to neurons in the previous layer. The former figure is not fully connected. Several layers are missing connections. For example, **I1** and **N2** do not connect. The next neural network shown below is fully connected and has an additional layer.\n",
        "\n",
        "**Fully Connected Neural Network Diagram**\n",
        "![Fully Connected Neural Network Diagram](https://biologicslab.co/BIO1173/images/ann-dense.png \"Fully Connected Neural Network Diagram\")\n",
        "\n",
        "In this figure, you see a fully connected, multilayered neural network. Networks such as this one will always have an input and output layer. The hidden layer structure determines the name of the network architecture. The network in this figure is a two-hidden-layer network. Most networks will have between zero and two hidden layers. Without implementing deep learning strategies, networks with more than two hidden layers are rare.    \n",
        "\n",
        "You might also notice that the arrows always point downward or forward from the input to the output. Later in this course, we will see recurrent neural networks that form inverted loops among the neurons. This type of neural network is called a feedforward neural network."
      ]
    },
    {
      "cell_type": "markdown",
      "metadata": {
        "id": "UNPZ4tMcjYah"
      },
      "source": [
        "# **Types of Neurons**\n",
        "\n",
        "In the last section, we briefly introduced the idea that different types of neurons exist. Not every neural network will use every kind of neuron. It is also possible for a single neuron to fill the role of several different neuron types. Now we will explain all the neuron types described in the course.\n",
        "\n",
        "There are usually four types of neurons in a neural network:\n",
        "\n",
        "* **Input Neurons** - We map each input neuron to one element in the feature vector.\n",
        "* **Hidden Neurons** - Hidden neurons allow the neural network to be abstract and process the input into the output.\n",
        "* **Output Neurons** - Each output neuron calculates one part of the output.\n",
        "* **Bias Neurons** - Work similar to the y-intercept of a linear equation.  \n",
        "\n",
        "We place each neuron into a layer:\n",
        "\n",
        "* **Input Layer** - The input layer accepts feature vectors from the dataset. Input layers usually have a bias neuron.\n",
        "* **Output Layer** - The output from the neural network. The output layer does not have a bias neuron.\n",
        "* **Hidden Layers** - Layers between the input and output layers. Each hidden layer will usually have a bias neuron.\n",
        "\n",
        "\n",
        "### **Input and Output Neurons**\n",
        "\n",
        "Nearly every neural network has input and output neurons. The input neurons accept data from the program for the network. The output neuron provides processed data from the network back to the program. The program will group these input and output neurons into separate layers called the input and output layers. The program normally represents the input to a neural network as an array or vector. The number of elements contained in the vector must equal the number of input neurons. For example, a neural network with three input neurons might accept the following input vector:\n",
        "\n",
        "$$ [0.5, 0.75, 0.2] $$\n",
        "\n",
        "Neural networks typically accept floating-point vectors as their input. To be consistent, we will represent the output of a single output neuron network as a single-element vector. Likewise, neural networks will output a vector with a length equal to the number of output neurons. The output will often be a single value from a single output neuron.\n",
        "\n",
        "## **Hidden Neurons**\n",
        "\n",
        "Hidden neurons have two essential characteristics. First, hidden neurons only receive input from other neurons, such as input or other hidden neurons. Second, hidden neurons only output to other neurons, such as output or other hidden neurons. Hidden neurons help the neural network understand the input and form the output. Programmers often group hidden neurons into fully connected hidden layers. However, these hidden layers do not directly process the incoming data or the eventual output.\n",
        "\n",
        "A common question for programmers concerns the number of hidden neurons in a network. Since the answer to this question is complex, more than one section of the course will include a relevant discussion of the number of hidden neurons. Before deep learning, researchers generally suggested that anything more than a single hidden layer is excessive. [[Cite:hornik1989multilayer]](https://www.sciencedirect.com/science/article/abs/pii/0893608089900208) Researchers have proven that a single-hidden-layer neural network can function as a universal approximator. In other words, this network should be able to learn to produce (or approximate) any output from any input as long as it has enough hidden neurons in a single layer.\n",
        "\n",
        "Training refers to the process that determines good weight values. Before the advent of deep learning, researchers feared additional layers would lengthen training time or encourage overfitting. Both concerns are true; however, increased hardware speeds and clever techniques can mitigate these concerns. Before researchers introduced deep learning techniques, we did not have an efficient way to train a deep network, which is a neural network with many hidden layers. Although a single-hidden-layer neural network can theoretically learn anything, deep learning facilitates a more complex representation of patterns in the data.  \n",
        "\n",
        "## **Bias Neurons**\n",
        "\n",
        "Programmers add bias neurons to neural networks to help them learn patterns. Bias neurons function like an input neuron that always produces a value of 1. Because the bias neurons have a constant output of 1, they are not connected to the previous layer. The value of 1, called the bias activation, can be set to values other than 1. However, 1 is the most common bias activation. Not all neural networks have bias neurons. The figure below shows a single-hidden-layer neural network with bias neurons:\n",
        "\n",
        "**Neural Network with Bias Neurons**\n",
        "![Neural Network with Bias Neurons](https://biologicslab.co/BIO1173/images/class_2_ann.png \"Neural Network with Bias Neurons\")\n",
        "\n",
        "The above network contains three bias neurons. Except for the output layer, every level includes a single bias neuron. Bias neurons allow the program to shift the output of an activation function. We will see precisely how this shifting occurs later in the module when discussing activation functions.  \n",
        "\n",
        "## **Other Neuron Types**\n",
        "\n",
        "The individual units that comprise a neural network are not always called neurons. Researchers will sometimes refer to these neurons as nodes, units, or summations. You will almost always construct neural networks of weighted connections between these units.\n",
        "\n",
        "## **Why are Bias Neurons Needed?**\n",
        "\n",
        "The activation functions from the previous section specify the output of a single neuron. Together, the weight and bias of a neuron shape the output of the activation to produce the desired output. To see how this process occurs, consider the following equation. It represents a single-input sigmoid activation neural network.\n",
        "\n",
        "$$ f(x,w,b) = \\frac{1}{1 + e^{-(wx+b)}} $$\n",
        "\n",
        "The $x$ variable represents the single input to the neural network. The $w$ and $b$ variables specify the weight and bias of the neural network. The above equation combines the weighted sum of the inputs and the sigmoid activation function. For this section, we will consider the sigmoid function because it demonstrates a bias neuron's effect.\n",
        "\n",
        "The weights of the neuron allow you to adjust the slope or shape of the activation function. The next figure shows the effect on the output of the sigmoid activation function if the weight is varied:\n",
        "\n",
        "**Neuron Weight Shifting**\n",
        "![Adjusting Weight](https://biologicslab.co/BIO1173/images/class_2_bias_weight.png \"Neuron Weight Shifting\")\n",
        "\n",
        "The above diagram shows several sigmoid curves using the following parameters:\n",
        "\n",
        "$$ f(x,0.5,0.0) $$\n",
        "$$ f(x,1.0,0.0) $$\n",
        "$$ f(x,1.5,0.0) $$\n",
        "$$ f(x,2.0,0.0) $$\n",
        "\n",
        "We did not use bias to produce the curves, which is evident in the third parameter of 0 in each case. Using four weight values yields four different sigmoid curves in the above figure. No matter the weight, we always get the same value of 0.5 when *x* is 0 because all curves hit the same point when x is 0. We might need the neural network to produce other values when the input is near 0.5.  \n",
        "\n",
        "Bias does shift the sigmoid curve, which allows values other than 0.5 when *x* is near 0. The next image shows the effect of using a weight of 1.0 with several different biases:\n",
        "\n",
        "**Neuron Bias Shifting**\n",
        "![Adjusting Bias](https://biologicslab.co/BIO1173/images/class_2_bias_value.png \"Neuron Bias Shifting\")\n",
        "\n",
        "The above diagram shows several sigmoid curves with the following parameters:\n",
        "\n",
        "$$ f(x,1.0,1.0) $$\n",
        "$$ f(x,1.0,0.5) $$\n",
        "$$ f(x,1.0,1.5) $$\n",
        "$$ f(x,1.0,2.0) $$\n",
        "\n",
        "We used a weight of 1.0 for these curves in all cases. When we utilized several different biases, sigmoid curves shifted to the left or right. Because all the curves merge at the top right or bottom left, it is not a complete shift.\n",
        "\n",
        "When we put bias and weights together, they produced a curve that created the necessary output. The above curves are the output from only one neuron. In a complete network, the output from many different neurons will combine to produce intricate output patterns."
      ]
    },
    {
      "cell_type": "markdown",
      "metadata": {
        "id": "VRVtvb_CjYah"
      },
      "source": [
        "# **Modern Activation Functions**\n",
        "\n",
        "**_Activation functions_**, also known as transfer functions, are used to calculate the _output_ of each layer of a neural network. Historically neural networks have used a hyperbolic tangent, sigmoid/logistic, or linear activation function. However, modern deep neural networks primarily make use of the following activation functions:\n",
        "\n",
        "* **Rectified Linear Unit (ReLU)** - Used for the output of hidden layers. [[Cite:glorot2011deep]](http://proceedings.mlr.press/v15/glorot11a/glorot11a.pdf)\n",
        "* **Softmax** - Used for the output of classification neural networks.\n",
        "* **Linear** - Used for the output of regression neural networks (or 2-class classification).\n",
        "\n",
        "### **Linear Activation Function**\n",
        "The most basic activation function is the linear function because it does not change the neuron output. The following equation 1.2 shows how the program typically implements a linear activation function:\n",
        "\n",
        "$$ \\phi(x) = x $$\n",
        "\n",
        "As you can observe, this activation function simply returns the value that the neuron inputs passed to it.  The next figure shows the graph for a linear activation function:\n",
        "\n",
        "**Linear Activation Function**\n",
        "![Linear Activation Function](https://biologicslab.co/BIO1173/images/graphs-linear.png \"Linear Activation Function\")\n",
        "\n",
        "\n",
        "Regression neural networks, which learn to provide numeric values, will usually use a linear activation function on their output layer. Classification neural networks, which determine an appropriate class for their input, will often utilize a softmax activation function for their output layer.\n",
        "\n",
        "### **Rectified Linear Units (ReLU)**\n",
        "\n",
        "Since its introduction, researchers have rapidly adopted the **_Rectified Linear Unit (ReLU)_**. [[Cite:nair2010rectified]](https://www.cs.toronto.edu/~fritz/absps/reluICML.pdf) Before the ReLU activation function, the programmers generally regarded the hyperbolic tangent as the activation function of choice. Most current research now recommends the ReLU due to superior training results. As a result, most neural networks should utilize the ReLU on hidden layers and either softmax or linear on the output layer. The following equation shows the straightforward ReLU function:\n",
        "\n",
        "$$ \\phi(x) = \\max(0, x) $$\n",
        "\n",
        "The next figure shows the graph of the ReLU activation function:\n",
        "\n",
        "**Rectified Linear Units (ReLU)**\n",
        "![Rectified Linear Units (ReLU)](https://biologicslab.co/BIO1173/images/graphs-relu.png \"Rectified Linear Units (ReLU)\")\n",
        "\n",
        "Most current research states that the hidden layers of your neural network should use the ReLU activation.\n",
        "\n",
        "### **Softmax Activation Function**\n",
        "\n",
        "The final activation function that we will examine is the **_softmax_** activation function. Along with the linear activation function, you can usually find the softmax function in the output layer of a neural network. Classification neural networks typically employ the softmax function. The neuron with the highest value claims the input as a member of its class. Because it is a preferable method, the softmax activation function forces the neural network's output to represent the probability that the input falls into each of the classes. The neuron's outputs are numeric values without the softmax, with the highest indicating the winning class.\n",
        "\n",
        "To see how the program uses the softmax activation function, we will look at a typical neural network classification problem. The iris data set contains four measurements for 150 different iris flowers. Each of these flowers belongs to one of three species of iris.\n",
        "\n",
        "**Iris Flower Species**\n",
        "\n",
        "![Iris Flower Species](https://biologicslab.co/BIO1173/images/class_06/iris_species.png \"Iris Flower Species\")\n",
        "\n",
        "When you provide the measurements of a flower, the softmax function allows the neural network to give you the probability that these measurements belong to each of the three species. For example, the neural network might tell you that there is an 80% chance that the iris is setosa, a 15% probability that it is virginica, and only a 5% probability of versicolor. Because these are probabilities, they must add up to 100%. There could not be an 80% probability of setosa, a 75% probability of virginica, and a 20% probability of versicolor—this type of result would be nonsensical.\n",
        "\n",
        "To classify input data into one of three iris species, you will need one output neuron for each species. The output neurons do not inherently specify the probability of each of the three species. Therefore, it is desirable to provide probabilities that sum to 100%. The neural network will tell you the likelihood of a flower being each of the three species. To get the probability, use the softmax function in the following equation:\n",
        "\n",
        "$$ \\phi_i(x) = \\frac{exp(x_i)}{\\sum_{j}^{ }exp(x_j)} $$\n",
        "\n",
        "In the above equation, $i$ represents the index of the output neuron ($\\phi$) that the program is calculating, and $j$ represents the indexes of all neurons in the group/level. The variable $x$ designates the array of output neurons. It's important to note that the program calculates the softmax activation differently than the other activation functions in this module. When softmax is the activation function, the output of a single neuron is dependent on the other output neurons.\n",
        "\n",
        "To see the softmax function in operation, refer to this [Softmax example website](http://www.heatonresearch.com/aifh/vol3/softmax.html).\n",
        "\n",
        "Consider a trained neural network that classifies data into three categories: the three iris species. In this case, you would use one output neuron for each of the target classes. Consider if the neural network were to output the following:   \n",
        "\n",
        "* **Neuron 1**: setosa: 0.9\n",
        "* **Neuron 2**: versicolour: 0.2\n",
        "* **Neuron 3**: virginica: 0.4\n",
        "\n",
        "The above output shows that the neural network considers the data to represent a setosa iris. However, these numbers are not probabilities. The 0.9 value does not represent a 90% likelihood of the data representing a setosa. These values sum to 1.5. For the program to treat them as probabilities, they must sum to 1.0. The output vector for this neural network is the following:\n",
        "\n",
        "$$ [0.9,0.2,0.4] $$\n",
        "\n",
        "If you provide this vector to the softmax function it will return the following vector:\n",
        "\n",
        "$$ [0.47548495534876745 , 0.2361188410001125 , 0.28839620365112] $$\n",
        "\n",
        "The above three values do sum to 1.0 and can be treated as probabilities.  The likelihood of the data representing a setosa iris is 48% because the first value in the vector rounds to 0.48 (48%).  You can calculate this value in the following manner:\n",
        "\n",
        "$$ sum=\\exp(0.9)+\\exp(0.2)+\\exp(0.4)=5.17283056695839 $$\n",
        "$$ j_0= \\exp(0.9)/sum = 0.47548495534876745 $$\n",
        "$$ j_1= \\exp(0.2)/sum = 0.2361188410001125 $$\n",
        "$$ j_2= \\exp(0.4)/sum = 0.28839620365112 $$\n",
        "\n",
        "### **Step Activation Function**\n",
        "\n",
        "The step or threshold activation function is another simple activation function. Neural networks were initially called perceptrons. McCulloch & Pitts (1943) introduced the original perceptron and used a step activation function like the following equation:[[Cite:mcculloch1943logical]](https://link.springer.com/article/10.1007/BF02478259) The step activation is 1 if x>=0.5, and 0 otherwise.\n",
        "  \n",
        "This equation outputs a value of 1.0 for incoming values of 0.5 or higher and 0 for all other values. Step functions, also known as threshold functions, only return 1 (true) for values above the specified threshold, as seen in the next figure.\n",
        "\n",
        "**Step Activation Function**\n",
        "![Step Activation Function](https://biologicslab.co/BIO1173/images/graphs-step.png \"Step Activation Function\")\n",
        "\n",
        "### **Sigmoid Activation Function**\n",
        "\n",
        "The sigmoid or logistic activation function is a common choice for feedforward neural networks that need to output only positive numbers. Despite its widespread use, the hyperbolic tangent or the rectified linear unit (ReLU) activation function is usually a more suitable choice. We introduce the ReLU activation function later in this module. The following equation shows the sigmoid activation function:\n",
        "\n",
        "$$ \\phi(x) = \\frac{1}{1 + e^{-x}} $$\n",
        "\n",
        "Use the sigmoid function to ensure that values stay within a relatively small range, as seen in Figure 3.SIGMOID:\n",
        "\n",
        "**Sigmoid Activation Function**\n",
        "![Sigmoid Activation Function](https://biologicslab.co/BIO1173/images/graphs-sigmoid.png \"Sigmoid Activation Function\")\n",
        "\n",
        "As you can see from the above graph, we can force values to a range. Here, the function compressed values above or below 0 to the approximate range between 0 and 1.\n",
        "\n",
        "### **Hyperbolic Tangent Activation Function**\n",
        "\n",
        "The hyperbolic tangent function is also a prevalent activation function for neural networks that must output values between -1 and 1. This activation function is simply the hyperbolic tangent (tanh) function, as shown in the following equation:\n",
        "\n",
        "$$ \\phi(x) = \\tanh(x) $$\n",
        "\n",
        "The graph of the hyperbolic tangent function has a similar shape to the sigmoid activation function, as seen below.\n",
        "\n",
        "**Hyperbolic Tangent Activation Function**\n",
        "![Hyperbolic Tangent Activation Function](https://biologicslab.co/BIO1173/images/graphs-tanh.png \"Hyperbolic Tangent Activation Function\")\n",
        "\n",
        "The hyperbolic tangent function has several advantages over the sigmoid activation function.  \n",
        "\n",
        "### **Why ReLU?**\n",
        "\n",
        "Why is the ReLU activation function so popular? One of the critical improvements to neural networks makes deep learning work. [[Cite:nair2010rectified]](https://www.cs.toronto.edu/~hinton/absps/reluICML.pdf)\n",
        "\n",
        "Before deep learning, the sigmoid activation function was prevalent.  We covered the sigmoid activation function earlier in this module. Frameworks like Keras often train neural networks with gradient descent. For the neural network to use gradient descent, it is necessary to take the derivative of the activation function. The program must derive partial derivatives of each of the weights for the error function. The next figure shows a derivative, the instantaneous rate of change.\n",
        "\n",
        "**Derivative**\n",
        "![Derivative](https://biologicslab.co/BIO1173/images/class_2_deriv.png \"Derivative\")\n",
        "\n",
        "The derivative of the sigmoid function is given here:\n",
        "\n",
        "$$ \\phi'(x)=\\phi(x)(1-\\phi(x)) $$\n",
        "\n",
        "Textbooks often give this derivative in other forms. We use the above form for computational efficiency. To see how we determined this derivative, [refer to the following article](http://www.heatonresearch.com/aifh/vol3/deriv_sigmoid.html).\n",
        "\n",
        "We present the graph of the sigmoid derivative in the following image.\n",
        "\n",
        "**Sigmoid Derivative**\n",
        "![Sigmoid Derivative](https://biologicslab.co/BIO1173/images/class_2_deriv_sigmoid.png \"Sigmoid Derivative\")\n",
        "\n",
        "The derivative quickly saturates to zero as $x$ moves from zero.  This is not a problem for the derivative of the ReLU, which is given here:\n",
        "\n",
        "$$ \\phi'(x) = \\begin{cases} 1 & x > 0 \\\\ 0 & x \\leq 0 \\end{cases} $$"
      ]
    },
    {
      "cell_type": "markdown",
      "source": [
        "# **Using Keras to Build Neural Network Models**\n",
        "\n",
        "From this introduction to the basic mathematical concepts that underlie deep learning with neural networks, some of you might now have the impression that buidling and using neural networks is impossibly hard task. In the next section we build our first artifical neural network so you can judge for yourself how hard is this task.\n",
        "\n"
      ],
      "metadata": {
        "id": "cXjxPhbneIHq"
      }
    },
    {
      "cell_type": "markdown",
      "source": [
        "**Keras** is a software layer or API (application interface) that \"sits\" on top of TensorFlow. This makes buidling neural networks much easier.\n",
        "\n",
        "For example, the following code uses Keras to add one layer to a neural network called `model`:\n",
        "\n",
        "`model.add(Dense(25, input_dim=x_0.shape[1], activation='relu'))`\n",
        "\n",
        "When you run this line of code, this apparently simple function, `model.add(Dense(25...)` executes a large number of hidden commands \"behind the scenes\".\n",
        "\n",
        "For example, here the code Keras uses to just define the class `SimpleDense(Layer)`:\n",
        "\n",
        "~~~text\n",
        "class SimpleDense(Layer):\n",
        "    def __init__(self, units=32):\n",
        "        super().__init__()\n",
        "        self.units = units\n",
        "\n",
        "    # Create the state of the layer (weights)\n",
        "    def build(self, input_shape):\n",
        "        self.kernel = self.add_weight(\n",
        "            shape=(input_shape[-1], self.units),\n",
        "            initializer=\"glorot_uniform\",\n",
        "            trainable=True,\n",
        "            name=\"kernel\",\n",
        "        )\n",
        "        self.bias = self.add_weight(\n",
        "            shape=(self.units,),\n",
        "            initializer=\"zeros\",\n",
        "            trainable=True,\n",
        "            name=\"bias\",\n",
        "        )\n",
        "\n",
        "    # Defines the computation\n",
        "    def call(self, inputs):\n",
        "        return ops.matmul(inputs, self.kernel) + self.bias\n",
        "\n",
        "# Instantiates the layer.\n",
        "linear_layer = SimpleDense(4)\n",
        "\n",
        "# This will also call `build(input_shape)` and create the weights.\n",
        "y = linear_layer(ops.ones((2, 2)))\n",
        "assert len(linear_layer.weights) == 2\n",
        "\n",
        "# These weights are trainable, so they're listed in `trainable_weights`:\n",
        "assert len(linear_layer.trainable_weights) == 2\n",
        "\n",
        "~~~\n",
        "Rather than asking you to create each individual layer in a network with hundreds lines of Python and Tensorflow code, you will be asked only use a handful of Keras commands.\n",
        "\n",
        "Unless you are researching entirely new structures of deep neural networks, it is unlikely that you need to program TensorFlow directly. For this class, we will usually use TensorFlow through Keras, rather than directly program in TensorFlow"
      ],
      "metadata": {
        "id": "S7iRt7g-U5dY"
      }
    },
    {
      "cell_type": "markdown",
      "source": [
        "## **The MNIST Dataset**\n",
        "\n",
        "Our first neural network will solve a basic, but important problem in image recognition: specifically, how to teach a machine to accurately \"read\" hand-drawn numbers (zip code) on an envelope. As you might imagine, this was an important problem for the US Postal Service (USPS). Having a post office clerk manually read, and sort every letter was incredibly slow and labor intensive. As you will see, a rather simple neural network, hooked up to a camera can easily solve this problem.\n",
        "\n",
        "The **MNIST (Modified National Institute of Standards and Technology)** dataset is a collection of 70,000 28x28 grayscale images of handwritten digits (0-9). It consists of 60,000 training images and 10,000 test images. Created by Yann LeCun, Corinna Cortes, and Christopher Burges in the late 1990s, it has been instrumental in advancing machine learning, particularly neural networks.\n",
        "\n",
        "![__](https://biologicslab.co/BIO1173/images/class_03/class_03_1_image01b.png)\n",
        "\n",
        "\n",
        "### Historical Importance\n",
        "\n",
        "1. **Standard Benchmark**: MNIST became the gold standard benchmark for evaluating and comparing the performance of various machine learning algorithms, providing a common ground for researchers.\n",
        "\n",
        "2. **Accessible and Manageable**: The dataset is relatively small and easy to process, making it accessible for both beginners and seasoned researchers. Its simplicity enabled quick experimentation and iteration.\n",
        "\n",
        "3. **Catalyst for Innovation**: Solving the MNIST problem spurred significant advancements in neural network architectures and techniques. Many foundational methods and innovations in deep learning were first validated using MNIST.\n",
        "\n",
        "### Key Milestones\n",
        "\n",
        "1. **LeNet-5 (1998)**:\n",
        "   - Yann LeCun and his colleagues developed the LeNet-5 convolutional neural network (CNN) for handwritten digit recognition.\n",
        "   - LeNet-5 demonstrated the power of CNNs, showcasing their ability to learn hierarchical features and achieve high accuracy on MNIST.\n",
        "\n",
        "2. **Shift from Traditional Methods**:\n",
        "   - Before neural networks, traditional machine learning algorithms like Support Vector Machines (SVMs) and K-Nearest Neighbors (KNNs) were commonly used for digit recognition.\n",
        "   - The success of neural networks on MNIST highlighted their superior capability in handling complex, high-dimensional data.\n",
        "\n",
        "3. **Boost in Research and Adoption**:\n",
        "   - The impressive results achieved on MNIST encouraged further exploration and adoption of neural networks.\n",
        "   - Researchers began applying deep learning techniques to various domains, from image recognition and natural language processing to speech and video analysis.\n",
        "\n",
        "### Modern Impact\n",
        "\n",
        "1. **Training Ground**: MNIST continues to serve as an educational tool and a starting point for newcomers to machine learning and deep learning.\n",
        "2. **Benchmarking**: Despite the emergence of more challenging datasets, MNIST remains a useful benchmark for testing new ideas and architectures.\n",
        "3. **Legacy**: The success stories and breakthroughs achieved on MNIST have inspired countless advancements in AI, establishing the dataset as a cornerstone in the history of machine learning.\n",
        "\n",
        "In summary, the MNIST dataset's historical importance lies in its role as a catalyst for innovation, a standard benchmark for evaluation, and a training ground for both models and researchers. It has significantly contributed to the growth and success of neural networks and deep learning.\n"
      ],
      "metadata": {
        "id": "UhbmilOZjYMQ"
      }
    },
    {
      "cell_type": "markdown",
      "source": [
        "### Example 1: Construct, Compile and Train a MNIST Neural Network\n",
        "\n",
        "The code in the cell below shows the Python code needed to construct, compile and train a MNIST neural network using the Tensorflow/Keras libraries.\n",
        "\n",
        "In this dataset, X-feature vector is composed of hand-written images. For each X data point (image) there is an Y data point (label) that has the correct digit (number) for that image. The X values and Y values are already divided into a 2 training set (x_train, y_train) and 2 test sets (x_test, y_test). You will be `training` the neural network model on the `x_train` and `y_train` data sets, while the `x_test` and `y_test` data sets are use to measure how well the model is doing in predicting the digits.\n",
        "\n",
        "If you inspect the code, you should notice that image data is first normalize using this code chunk:\n",
        "\n",
        "~~~text\n",
        "# Normalize pixel values\n",
        "x_train = x_train / 255.0\n",
        "x_test = x_test / 255.0\n",
        "~~~\n",
        "\n",
        "Since this is a **classification** neural network, we need to One-Hot Encode the Y-values using this code chunK:\n",
        "\n",
        "~~~text\n",
        "# One-hot encode labels\n",
        "y_train = to_categorical(y_train)\n",
        "y_test = to_categorical(y_test)\n",
        "\n",
        "~~~\n",
        "\n",
        "Both of these procedures have been previously discussed in this course.\n",
        "\n",
        "Here is the code that builds the neural network with 2 hidden layers:\n",
        "\n",
        "~~~text\n",
        "# Build the model\n",
        "model = Sequential()\n",
        "model.add(Flatten(input_shape=(28, 28)))    # Input layer\n",
        "model.add(Dense(128, activation='relu'))    # First hidden layer\n",
        "model.add(Dense(64, activation='relu'))     # Second hidden layer\n",
        "model.add(Dense(10, activation='softmax'))  # Output layer\n",
        "~~~\n",
        "\n",
        "You should note that the model is using `ReLU` activation as discussed earlier in this lesson.\n",
        "\n",
        "------------------------------------\n",
        "\n",
        "#### **ReLU (Rectified Linear Unit) Activation Functions:**\n",
        "\n",
        "- **Definition: ReLU activation is defined as**\n",
        "\n",
        "$$ \\text{ReLU}(x) = \\max(0, x)  $$\n",
        "\n",
        "- **Characteristics:** ReLU introduces non-linearity, allowing the network to learn complex patterns.\n",
        "\n",
        "- **Benefits:** It helps to mitigate the vanishing gradient problem, enabling deeper networks and more effective learning.\n",
        "\n",
        "-------------------------------------\n",
        "\n",
        "Once the neural network is contructed, it has to be \"compiled\" as shown in this code chunk:\n",
        "\n",
        "~~~text\n",
        "# Compile the model --------------------------------------------------\n",
        "model.compile(optimizer='adam',\n",
        "              loss='categorical_crossentropy',\n",
        "              metrics=['accuracy'])\n",
        "~~~\n",
        "\n",
        "Finally, it's time to train (\"fit\") the model to the data. When the model was intially contructed, the weights of the connections between the neurons was randomized. During training, the weights are adjusted after every epoch in an attempt to increase the accuracy of the model's predictions.\n",
        "\n",
        "~~~text\n",
        "# Train the model ----------------------------------------------------\n",
        "model.fit(x_train, y_train, epochs=10,\n",
        "          batch_size=32, validation_split=0.2)\n",
        "~~~\n"
      ],
      "metadata": {
        "id": "pKSjjlkalvy4"
      }
    },
    {
      "cell_type": "code",
      "source": [
        "# Example 1: Construct, compile and train a MNIST neural network\n",
        "\n",
        "import numpy as np\n",
        "import tensorflow as tf\n",
        "from tensorflow.keras.datasets import mnist\n",
        "from tensorflow.keras.models import Sequential\n",
        "from tensorflow.keras.layers import Dense, Flatten\n",
        "from tensorflow.keras.utils import to_categorical\n",
        "\n",
        "# Load dataset\n",
        "(x_train, y_train), (x_test, y_test) = mnist.load_data()\n",
        "\n",
        "# Normalize pixel values\n",
        "x_train = x_train / 255.0\n",
        "x_test = x_test / 255.0\n",
        "\n",
        "# One-hot encode labels\n",
        "y_train = to_categorical(y_train)\n",
        "y_test = to_categorical(y_test)\n",
        "\n",
        "# Build the model\n",
        "model = Sequential()\n",
        "model.add(Flatten(input_shape=(28, 28)))    # Input layer\n",
        "model.add(Dense(128, activation='relu'))    # First hidden layer\n",
        "model.add(Dense(64, activation='relu'))     # Second hidden layer\n",
        "model.add(Dense(10, activation='softmax'))  # Output layer\n",
        "\n",
        "# Compile the model --------------------------------------------------\n",
        "model.compile(optimizer='adam',\n",
        "              loss='categorical_crossentropy',\n",
        "              metrics=['accuracy'])\n",
        "\n",
        "# Train the model ----------------------------------------------------\n",
        "model.fit(x_train, y_train, epochs=10,\n",
        "          batch_size=32, validation_split=0.2)\n",
        "\n"
      ],
      "metadata": {
        "id": "Si1bjGBPh10N"
      },
      "execution_count": null,
      "outputs": []
    },
    {
      "cell_type": "markdown",
      "source": [
        "### Example 2: Evaluate the Model\n",
        "\n",
        "Once a neural network has been trained, it is customary to measure how \"accurate\" it is in its predictions. There are different ways to measure accuracy. The code in the cell below shows one, common approach."
      ],
      "metadata": {
        "id": "QORV4DZuqr9n"
      }
    },
    {
      "cell_type": "code",
      "source": [
        "# Example 2: Evaluate the model\n",
        "\n",
        "import numpy as np\n",
        "import tensorflow as tf\n",
        "\n",
        "test_loss, test_acc = model.evaluate(x_test, y_test)\n",
        "print(f'Test accuracy: {test_acc}')"
      ],
      "metadata": {
        "id": "RrSqkJopiuzb"
      },
      "execution_count": null,
      "outputs": []
    },
    {
      "cell_type": "markdown",
      "source": [
        "If the code is correct, you should see something similar to the following output:\n",
        "\n",
        "~~~text\n",
        "313/313 ━━━━━━━━━━━━━━━━━━━━ 1s 2ms/step - accuracy: 0.9707 - loss: 0.1252\n",
        "Test accuracy: 0.9739000201225281\n",
        "~~~\n",
        "\n",
        "In this particular run, the model was more than 97% accurate! That's pretty amazing when you consider how few lines of code were needed to build and train the model."
      ],
      "metadata": {
        "id": "Aryi_RNJrRiN"
      }
    },
    {
      "cell_type": "markdown",
      "source": [
        "### Example 3: Visual Example of the Model's Accuracy\n",
        "\n",
        "The output from Example 2 was just a \"number\" so it's a little hard to see how well the model is working. If you run the next code cell several times, you will get a better idea of the model's ability.\n",
        "\n",
        "When you run the next cell, an image of a hand-written number is randomly picked from the `test_set` using this code chunk:\n",
        "\n",
        "~~~text\n",
        "# Select a random image from x_test\n",
        "index = np.random.randint(0, x_test.shape[0])\n",
        "selected_image = x_test[index]\n",
        "~~~\n",
        "\n",
        "The code then shows what the image looks like using this code:\n",
        "\n",
        "~~~text\n",
        "# Display the selected image\n",
        "plt.imshow(selected_image, cmap='gray')\n",
        "plt.title(f'Original Image at Index {index}')\n",
        "plt.show()\n",
        "~~~\n",
        "\n",
        "Finally, this code chunk \"feeds\" the pixel values for that particular image into the neural network model. Based on what the model \"sees\", it makes a prediction.\n",
        "\n",
        "~~~text\n",
        "# Predict the digit\n",
        "predicted_probabilities = model.predict(selected_image_reshaped)\n",
        "predicted_digit = np.argmax(predicted_probabilities)\n",
        "print(f'The model predicts this digit is: {predicted_digit}')\n",
        "~~~~\n"
      ],
      "metadata": {
        "id": "uCgMUwTWsD_r"
      }
    },
    {
      "cell_type": "code",
      "source": [
        "# Example 3: Visual example of the model's accuracy\n",
        "\n",
        "import numpy as np\n",
        "import matplotlib.pyplot as plt\n",
        "\n",
        "# Select a random image from x_test\n",
        "index = np.random.randint(0, x_test.shape[0])\n",
        "selected_image = x_test[index]\n",
        "\n",
        "# Display the selected image\n",
        "plt.imshow(selected_image, cmap='gray')\n",
        "plt.title(f'Original Image at Index {index}')\n",
        "plt.show()\n",
        "\n",
        "# Reshape the selected image to match model input shape\n",
        "selected_image_reshaped = selected_image.reshape(1, 28, 28)\n",
        "\n",
        "# Predict the digit\n",
        "predicted_probabilities = model.predict(selected_image_reshaped)\n",
        "predicted_digit = np.argmax(predicted_probabilities)\n",
        "print(f'The model predicts this digit is: {predicted_digit}')\n"
      ],
      "metadata": {
        "id": "ba-CU2KyhsOv"
      },
      "execution_count": null,
      "outputs": []
    },
    {
      "cell_type": "markdown",
      "source": [
        "Make sure you run the above cell several times to see if the model makes any mistakes. The accuracy of our neural network was very, but it wasn't perfect."
      ],
      "metadata": {
        "id": "H5Q8H0kluFkU"
      }
    },
    {
      "cell_type": "markdown",
      "source": [
        "### **Exercise 1: Construct, Compile and Train a MNIST Neural Network**\n",
        "\n",
        "For **Exericse 1** you are to evaluate the consequences of using `linear` activation instead of `relu` activation.\n",
        "\n",
        "In the cell below, create exactly the same neural network model that was given in Example 1. However, change the activation type from `relu` to `linear`.\n",
        "\n",
        "---------------------------------------\n",
        "\n",
        "#### **Linear Activation Functions:**\n",
        "\n",
        "- **Definition:** The linear activation function is simply the identity function:\n",
        "\n",
        "$$ f(x)=x $$\n",
        "\n",
        "- **Characteristics:** Linear activations do not introduce non-linearity into the model. This means that no matter how many layers you add, the entire network will still behave like a single linear transformation.\n",
        "\n",
        "- **Limitation:** Without non-linearity, the network cannot capture complex patterns and interactions within the data, making it insufficient for tasks that require deep learning, like image recognition.\n",
        "\n",
        "------------------------------------"
      ],
      "metadata": {
        "id": "3aQjb6KhLi3D"
      }
    },
    {
      "cell_type": "code",
      "source": [
        "# Insert your code for Exercise 1 here\n",
        "\n"
      ],
      "metadata": {
        "id": "xy-aygMVLi3E"
      },
      "execution_count": null,
      "outputs": []
    },
    {
      "cell_type": "markdown",
      "source": [
        "### **Exercise 2: Evaluate the Model**\n",
        "\n",
        "In the cell below, write the code to evaluate your model that used `linear` activation instead of `relu`."
      ],
      "metadata": {
        "id": "CsE2J1bPLi3E"
      }
    },
    {
      "cell_type": "code",
      "source": [
        "# Insert your code for Exercise 2 here\n"
      ],
      "metadata": {
        "id": "GXz6X80CLi3E"
      },
      "execution_count": null,
      "outputs": []
    },
    {
      "cell_type": "markdown",
      "source": [
        "If the code is correct, you should see something similar to the following output:\n",
        "\n",
        "~~~text\n",
        "313/313 ━━━━━━━━━━━━━━━━━━━━ 1s 2ms/step - accuracy: 0.9102 - loss: 0.3265\n",
        "Test accuracy: 0.9200999736785889\n",
        "~~~\n",
        "\n",
        "In this particular run, the model was about 92% accurate. That's pretty good but not as good as the 97% accuracy of the model in Example 1 that used `relu` activation.\n",
        "\n",
        "### **Here's why:**\n",
        "\n",
        "- **Linear Activation:** Generally leads to worse results for complex tasks due to the lack of non-linearity.\n",
        "\n",
        "- **ReLU Activation:** Introduces non-linearity, allowing the model to learn more complex patterns and achieve better performance."
      ],
      "metadata": {
        "id": "1ZiBgzO9Li3F"
      }
    },
    {
      "cell_type": "markdown",
      "metadata": {
        "id": "2sgjoLrIjYah"
      },
      "source": [
        "## **Lesson Turn-in**\n",
        "\n",
        "When you have completed and run all of the code cells, the **File --> Print.. --> Save to PDF** to generate a PDF of your Colab notebook. Save your PDF as `Class_02_1.lastname.pdf` where _lastname_ is your last name, and upload the file to Canvas."
      ]
    },
    {
      "cell_type": "markdown",
      "source": [
        "## **Lizard Tail**\n",
        "\n",
        "\n",
        "### **FORTRAN**\n",
        "\n",
        "**Fortran** (/ˈfɔːrtræn/; formerly FORTRAN) is a third generation, compiled, imperative programming language that is especially suited to numeric computation and scientific computing.\n",
        "\n",
        "Fortran was originally developed by IBM. It first compiled correctly in 1958. Fortran computer programs have been written to support scientific and engineering applications, such as numerical weather prediction, finite element analysis, computational fluid dynamics, plasma physics, geophysics, computational physics, crystallography and computational chemistry. It is a popular language for high-performance computing and is used for programs that benchmark and rank the world's fastest supercomputers.\n",
        "\n",
        "The IBM Blue Gene/P supercomputer installation in 2007 at the Argonne Leadership Angela Yang Computing Facility located in the Argonne National Laboratory, in Lemont, Illinois, US.\n",
        "\n",
        "Fortran has evolved through numerous versions and dialects. In 1966, the American National Standards Institute (ANSI) developed a standard for Fortran to limit proliferation of compilers using slightly different syntax. Successive versions have added support for a character data type (Fortran 77), structured programming, array programming, modular programming, generic programming (Fortran 90), parallel computing (Fortran 95), object-oriented programming (Fortran 2003), and concurrent programming (Fortran 2008).\n",
        "\n",
        "**FORTRAN and COBOL genealogy tree**\n",
        "\n",
        "Since April 2024, Fortran has ranked among the top ten languages in the TIOBE index, a measure of the popularity of programming languages.\n",
        "\n",
        "**Naming**\n",
        "\n",
        "The first manual for FORTRAN describes it as a Formula Translating System, and printed the name with small caps, Fortran. Other sources suggest the name stands for Formula Translator, or Formula Translation.\n",
        "\n",
        "Early IBM computers did not support lowercase letters, and the names of versions of the language through FORTRAN 77 were usually spelled in all-uppercase. FORTRAN 77 was the last version in which the Fortran character set included only uppercase letters.\n",
        "\n",
        "The official language standards for Fortran have referred to the language as \"Fortran\" with initial caps since Fortran 90.\n",
        "\n",
        "**Origins**\n",
        "\n",
        "In late 1953, John W. Backus submitted a proposal to his superiors at IBM to develop a more practical alternative to assembly language for programming their IBM 704 mainframe computer.Backus' historic FORTRAN team consisted of programmers Richard Goldberg, Sheldon F. Best, Harlan Herrick, Peter Sheridan, Roy Nutt, Robert Nelson, Irving Ziller, Harold Stern, Lois Haibt, and David Sayre. Its concepts included easier entry of equations into a computer, an idea developed by J. Halcombe Laning and demonstrated in the Laning and Zierler system of 1952.\n",
        "\n",
        "A draft specification for The IBM Mathematical Formula Translating System was completed by November 1954. The first manual for FORTRAN appeared in October 1956,with the first FORTRAN compiler delivered in April 1957. Fortran produced efficient enough code for assembly language programmers to accept a high-level programming language replacement.\n",
        "\n",
        "John Backus said during a 1979 interview with Think, the IBM employee magazine, \"Much of my work has come from being lazy. I didn't like writing programs, and so, when I was working on the IBM 701, writing programs for computing missile trajectories, I started work on a programming system to make it easier to write programs.\"\n",
        "\n",
        "The language was widely adopted by scientists for writing numerically intensive programs, which encouraged compiler writers to produce compilers that could generate faster and more efficient code. The inclusion of a complex number data type in the language made Fortran especially suited to technical applications such as electrical engineering.\n",
        "\n",
        "By 1960, versions of FORTRAN were available for the IBM 709, 650, 1620, and 7090 computers. Significantly, the increasing popularity of FORTRAN spurred competing computer manufacturers to provide FORTRAN compilers for their machines, so that by 1963 over 40 FORTRAN compilers existed.\n",
        "\n",
        "FORTRAN was provided for the IBM 1401 computer by an innovative 63-phase compiler that ran entirely in its core memory of only 8000 (six-bit) characters. The compiler could be run from tape, or from a 2200-card deck; it used no further tape or disk storage. It kept the program in memory and loaded overlays that gradually transformed it, in place, into executable form, as described by Haines.[21] This article was reprinted, edited, in both editions of Anatomy of a Compiler[22] and in the IBM manual \"Fortran Specifications and Operating Procedures, IBM 1401\".[23] The executable form was not entirely machine language; rather, floating-point arithmetic, sub-scripting, input/output, and function references were interpreted, preceding UCSD Pascal P-code by two decades. GOTRAN, a simplified, interpreted version of FORTRAN I (with only 12 statements not 32) for \"load and go\" operation was available (at least for the early IBM 1620 computer).[24] Modern Fortran, and almost all later versions, are fully compiled, as done for other high-performance languages.\n",
        "\n",
        "The development of Fortran paralleled the early evolution of compiler technology, and many advances in the theory and design of compilers were specifically motivated by the need to generate efficient code for Fortran programs.\n"
      ],
      "metadata": {
        "id": "W07sTeBVeDQh"
      }
    }
  ],
  "metadata": {
    "kernelspec": {
      "display_name": "Python 3 (ipykernel)",
      "language": "python",
      "name": "python3"
    },
    "language_info": {
      "codemirror_mode": {
        "name": "ipython",
        "version": 3
      },
      "file_extension": ".py",
      "mimetype": "text/x-python",
      "name": "python",
      "nbconvert_exporter": "python",
      "pygments_lexer": "ipython3",
      "version": "3.11.5"
    },
    "colab": {
      "provenance": [],
      "include_colab_link": true
    }
  },
  "nbformat": 4,
  "nbformat_minor": 0
}